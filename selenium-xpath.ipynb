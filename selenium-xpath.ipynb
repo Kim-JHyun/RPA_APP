{
 "cells": [
  {
   "cell_type": "code",
   "execution_count": 15,
   "id": "e1bf25d0-b6ae-45b7-b96c-d6e9814aa6cc",
   "metadata": {},
   "outputs": [
    {
     "name": "stderr",
     "output_type": "stream",
     "text": [
      "[WDM] - Downloading: 100%|████████████████████████████████████████████████████████| 6.30M/6.30M [00:00<00:00, 80.6MB/s]\n"
     ]
    },
    {
     "name": "stdout",
     "output_type": "stream",
     "text": [
      "The current temperature in Gil-dong, Gangdong-gu is 현재 온도\n",
      "24.8° degrees.\n"
     ]
    }
   ],
   "source": [
    "from selenium import webdriver\n",
    "from selenium.webdriver.chrome.service import Service\n",
    "from webdriver_manager.chrome import ChromeDriverManager\n",
    "from selenium.webdriver.common.by import By\n",
    "import time\n",
    "\n",
    "# Setup chrome options\n",
    "chrome_options = webdriver.ChromeOptions()\n",
    "chrome_options.add_argument(\"--start-maximized\")\n",
    "\n",
    "# Setup webdriver\n",
    "wd = webdriver.Chrome(service=Service(ChromeDriverManager().install()), options=chrome_options)\n",
    "\n",
    "# Navigate to Naver's weather page (you'd replace this with the correct URL)\n",
    "wd.get(\"https://search.naver.com/search.naver?where=nexearch&sm=top_hty&fbm=0&ie=utf8&query=%ED%98%84%EC%9E%AC%EA%B8%B0%EC%98%A8\")\n",
    "\n",
    "# Wait for the page to load completely\n",
    "wd.implicitly_wait(10)\n",
    "\n",
    "# Identify the element containing the temperature\n",
    "# This is just a placeholder; you'd have to inspect the webpage to find the right identifier\n",
    "temperature_element = wd.find_element(By.XPATH,'//*[@id=\"main_pack\"]/section[1]/div[1]/div[2]/div[1]/div[1]/div/div[2]/div/div[1]/div[1]/div[2]/strong')\n",
    "\n",
    "# Extract and print the temperature\n",
    "temperature = temperature_element.text\n",
    "print(f\"The current temperature in Gil-dong, Gangdong-gu is {temperature} degrees.\")\n",
    "\n",
    "time.sleep(5)\n",
    "# Close the browser\n",
    "wd.quit()"
   ]
  },
  {
   "cell_type": "code",
   "execution_count": null,
   "id": "06ff7c97-bcab-4b30-af59-36a9302b8ecc",
   "metadata": {},
   "outputs": [],
   "source": []
  },
  {
   "cell_type": "code",
   "execution_count": null,
   "id": "7d1d3190-dc51-4473-a53c-d0d84f2627cb",
   "metadata": {},
   "outputs": [],
   "source": []
  }
 ],
 "metadata": {
  "kernelspec": {
   "display_name": "Python 3 (ipykernel)",
   "language": "python",
   "name": "python3"
  },
  "language_info": {
   "codemirror_mode": {
    "name": "ipython",
    "version": 3
   },
   "file_extension": ".py",
   "mimetype": "text/x-python",
   "name": "python",
   "nbconvert_exporter": "python",
   "pygments_lexer": "ipython3",
   "version": "3.10.9"
  }
 },
 "nbformat": 4,
 "nbformat_minor": 5
}
