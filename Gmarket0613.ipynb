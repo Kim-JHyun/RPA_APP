{
  "nbformat": 4,
  "nbformat_minor": 0,
  "metadata": {
    "colab": {
      "provenance": [],
      "authorship_tag": "ABX9TyN2TDX7ac0ZPHbivZ4Foqg0",
      "include_colab_link": true
    },
    "kernelspec": {
      "name": "python3",
      "display_name": "Python 3"
    },
    "language_info": {
      "name": "python"
    }
  },
  "cells": [
    {
      "cell_type": "markdown",
      "metadata": {
        "id": "view-in-github",
        "colab_type": "text"
      },
      "source": [
        "<a href=\"https://colab.research.google.com/github/Kim-JHyun/RPA_Web/blob/main/Gmarket0613.ipynb\" target=\"_parent\"><img src=\"https://colab.research.google.com/assets/colab-badge.svg\" alt=\"Open In Colab\"/></a>"
      ]
    },
    {
      "cell_type": "code",
      "execution_count": null,
      "metadata": {
        "id": "nGTiIOJQNR7M"
      },
      "outputs": [],
      "source": [
        "import requests\n",
        "from simplified_scrapy.simplified_doc import SimplifiedDoc\n",
        "import pandas as pd\n",
        "\n",
        "data_info = []\n",
        "\n",
        "def data_select(url):\n",
        "\n",
        "  source = requests.get(url).text\n",
        "  doc = SimplifiedDoc(source)\n",
        "  infos = doc.getElements('a', attr='class', value='itemname')\n",
        "\n",
        "  for info in infos:\n",
        "    if info:\n",
        "        p_href = info['href']\n",
        "        p_html = info['html']\n",
        "        data_info.append([p_href, p_html])\n",
        "\n",
        "data_select('https://www.gmarket.co.kr/n/best')\n",
        "\n",
        "df = pd.DataFrame(data_info)\n",
        "df.columns = ['url', 'description']\n",
        "# df.head(20)\n",
        "df.to_excel('gmarket.xlsx',  encoding='utf-16')"
      ]
    }
  ]
}