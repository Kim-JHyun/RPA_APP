{
  "cells": [
    {
      "cell_type": "markdown",
      "metadata": {
        "id": "view-in-github",
        "colab_type": "text"
      },
      "source": [
        "<a href=\"https://colab.research.google.com/github/Kim-JHyun/RPA_Web/blob/main/12_%EB%A1%9C%EC%A7%80%EC%8A%A4%ED%8B%B1%ED%9A%8C%EA%B7%80%EB%B6%84%EC%84%9D_%ED%83%80%EC%9D%B4%ED%83%80%EB%8B%89.ipynb\" target=\"_parent\"><img src=\"https://colab.research.google.com/assets/colab-badge.svg\" alt=\"Open In Colab\"/></a>"
      ]
    },
    {
      "cell_type": "markdown",
      "id": "33e02ece",
      "metadata": {
        "id": "33e02ece"
      },
      "source": [
        "##  종합실습 과제 : 타이타닉 생존 여부 분류하기"
      ]
    },
    {
      "cell_type": "code",
      "execution_count": null,
      "id": "d8d71795",
      "metadata": {
        "id": "d8d71795"
      },
      "outputs": [],
      "source": [
        "import numpy as np\n",
        "import pandas as pd\n",
        "import seaborn as sns\n",
        "\n",
        "import statsmodels.api as sm\n",
        "from sklearn.linear_model import LogisticRegression\n",
        "from sklearn.model_selection import train_test_split\n",
        "from sklearn import metrics\n",
        "from sklearn.metrics import confusion_matrix\n",
        "from sklearn.metrics import accuracy_score, roc_auc_score, roc_curve\n",
        "import statsmodels.api as sm\n",
        "import matplotlib.pyplot as plt\n"
      ]
    },
    {
      "cell_type": "markdown",
      "id": "4b89a21c",
      "metadata": {
        "id": "4b89a21c"
      },
      "source": [
        "### 1. 데이터 불러오기"
      ]
    },
    {
      "cell_type": "code",
      "execution_count": null,
      "id": "d3e55cb8",
      "metadata": {
        "id": "d3e55cb8"
      },
      "outputs": [],
      "source": [
        "titanic = pd.read_csv(\"titanic.csv\")"
      ]
    },
    {
      "cell_type": "code",
      "execution_count": null,
      "id": "fb5475c3",
      "metadata": {
        "id": "fb5475c3",
        "outputId": "30846ffa-d375-4624-e1e5-61b8875ad604"
      },
      "outputs": [
        {
          "data": {
            "text/html": [
              "<div>\n",
              "<style scoped>\n",
              "    .dataframe tbody tr th:only-of-type {\n",
              "        vertical-align: middle;\n",
              "    }\n",
              "\n",
              "    .dataframe tbody tr th {\n",
              "        vertical-align: top;\n",
              "    }\n",
              "\n",
              "    .dataframe thead th {\n",
              "        text-align: right;\n",
              "    }\n",
              "</style>\n",
              "<table border=\"1\" class=\"dataframe\">\n",
              "  <thead>\n",
              "    <tr style=\"text-align: right;\">\n",
              "      <th></th>\n",
              "      <th>PassengerId</th>\n",
              "      <th>Survived</th>\n",
              "      <th>Pclass</th>\n",
              "      <th>Name</th>\n",
              "      <th>Sex</th>\n",
              "      <th>Age</th>\n",
              "      <th>SibSp</th>\n",
              "      <th>Parch</th>\n",
              "      <th>Ticket</th>\n",
              "      <th>Fare</th>\n",
              "      <th>Cabin</th>\n",
              "      <th>Embarked</th>\n",
              "    </tr>\n",
              "  </thead>\n",
              "  <tbody>\n",
              "    <tr>\n",
              "      <th>0</th>\n",
              "      <td>1</td>\n",
              "      <td>0</td>\n",
              "      <td>3</td>\n",
              "      <td>Braund, Mr. Owen Harris</td>\n",
              "      <td>male</td>\n",
              "      <td>22.0</td>\n",
              "      <td>1</td>\n",
              "      <td>0</td>\n",
              "      <td>A/5 21171</td>\n",
              "      <td>7.2500</td>\n",
              "      <td>NaN</td>\n",
              "      <td>S</td>\n",
              "    </tr>\n",
              "    <tr>\n",
              "      <th>1</th>\n",
              "      <td>2</td>\n",
              "      <td>1</td>\n",
              "      <td>1</td>\n",
              "      <td>Cumings, Mrs. John Bradley (Florence Briggs Th...</td>\n",
              "      <td>female</td>\n",
              "      <td>38.0</td>\n",
              "      <td>1</td>\n",
              "      <td>0</td>\n",
              "      <td>PC 17599</td>\n",
              "      <td>71.2833</td>\n",
              "      <td>C85</td>\n",
              "      <td>C</td>\n",
              "    </tr>\n",
              "    <tr>\n",
              "      <th>2</th>\n",
              "      <td>3</td>\n",
              "      <td>1</td>\n",
              "      <td>3</td>\n",
              "      <td>Heikkinen, Miss. Laina</td>\n",
              "      <td>female</td>\n",
              "      <td>26.0</td>\n",
              "      <td>0</td>\n",
              "      <td>0</td>\n",
              "      <td>STON/O2. 3101282</td>\n",
              "      <td>7.9250</td>\n",
              "      <td>NaN</td>\n",
              "      <td>S</td>\n",
              "    </tr>\n",
              "    <tr>\n",
              "      <th>3</th>\n",
              "      <td>4</td>\n",
              "      <td>1</td>\n",
              "      <td>1</td>\n",
              "      <td>Futrelle, Mrs. Jacques Heath (Lily May Peel)</td>\n",
              "      <td>female</td>\n",
              "      <td>35.0</td>\n",
              "      <td>1</td>\n",
              "      <td>0</td>\n",
              "      <td>113803</td>\n",
              "      <td>53.1000</td>\n",
              "      <td>C123</td>\n",
              "      <td>S</td>\n",
              "    </tr>\n",
              "    <tr>\n",
              "      <th>4</th>\n",
              "      <td>5</td>\n",
              "      <td>0</td>\n",
              "      <td>3</td>\n",
              "      <td>Allen, Mr. William Henry</td>\n",
              "      <td>male</td>\n",
              "      <td>35.0</td>\n",
              "      <td>0</td>\n",
              "      <td>0</td>\n",
              "      <td>373450</td>\n",
              "      <td>8.0500</td>\n",
              "      <td>NaN</td>\n",
              "      <td>S</td>\n",
              "    </tr>\n",
              "  </tbody>\n",
              "</table>\n",
              "</div>"
            ],
            "text/plain": [
              "   PassengerId  Survived  Pclass  \\\n",
              "0            1         0       3   \n",
              "1            2         1       1   \n",
              "2            3         1       3   \n",
              "3            4         1       1   \n",
              "4            5         0       3   \n",
              "\n",
              "                                                Name     Sex   Age  SibSp  \\\n",
              "0                            Braund, Mr. Owen Harris    male  22.0      1   \n",
              "1  Cumings, Mrs. John Bradley (Florence Briggs Th...  female  38.0      1   \n",
              "2                             Heikkinen, Miss. Laina  female  26.0      0   \n",
              "3       Futrelle, Mrs. Jacques Heath (Lily May Peel)  female  35.0      1   \n",
              "4                           Allen, Mr. William Henry    male  35.0      0   \n",
              "\n",
              "   Parch            Ticket     Fare Cabin Embarked  \n",
              "0      0         A/5 21171   7.2500   NaN        S  \n",
              "1      0          PC 17599  71.2833   C85        C  \n",
              "2      0  STON/O2. 3101282   7.9250   NaN        S  \n",
              "3      0            113803  53.1000  C123        S  \n",
              "4      0            373450   8.0500   NaN        S  "
            ]
          },
          "execution_count": 3,
          "metadata": {},
          "output_type": "execute_result"
        }
      ],
      "source": [
        "titanic.head()"
      ]
    },
    {
      "cell_type": "markdown",
      "id": "58ddbfc5",
      "metadata": {
        "id": "58ddbfc5"
      },
      "source": [
        "### 2. EDA"
      ]
    },
    {
      "cell_type": "code",
      "execution_count": null,
      "id": "884ef3f3",
      "metadata": {
        "id": "884ef3f3",
        "outputId": "9bf5bf25-3669-448c-c13f-901001d7ed62"
      },
      "outputs": [
        {
          "name": "stdout",
          "output_type": "stream",
          "text": [
            "<class 'pandas.core.frame.DataFrame'>\n",
            "RangeIndex: 891 entries, 0 to 890\n",
            "Data columns (total 12 columns):\n",
            " #   Column       Non-Null Count  Dtype  \n",
            "---  ------       --------------  -----  \n",
            " 0   PassengerId  891 non-null    int64  \n",
            " 1   Survived     891 non-null    int64  \n",
            " 2   Pclass       891 non-null    int64  \n",
            " 3   Name         891 non-null    object \n",
            " 4   Sex          891 non-null    object \n",
            " 5   Age          714 non-null    float64\n",
            " 6   SibSp        891 non-null    int64  \n",
            " 7   Parch        891 non-null    int64  \n",
            " 8   Ticket       891 non-null    object \n",
            " 9   Fare         891 non-null    float64\n",
            " 10  Cabin        204 non-null    object \n",
            " 11  Embarked     889 non-null    object \n",
            "dtypes: float64(2), int64(5), object(5)\n",
            "memory usage: 83.7+ KB\n"
          ]
        }
      ],
      "source": [
        "titanic.info()"
      ]
    },
    {
      "cell_type": "code",
      "execution_count": null,
      "id": "6108ba8f",
      "metadata": {
        "id": "6108ba8f",
        "outputId": "25a7b3bb-4bef-4bf1-9430-e0429e9c6c9f"
      },
      "outputs": [
        {
          "data": {
            "text/html": [
              "<div>\n",
              "<style scoped>\n",
              "    .dataframe tbody tr th:only-of-type {\n",
              "        vertical-align: middle;\n",
              "    }\n",
              "\n",
              "    .dataframe tbody tr th {\n",
              "        vertical-align: top;\n",
              "    }\n",
              "\n",
              "    .dataframe thead th {\n",
              "        text-align: right;\n",
              "    }\n",
              "</style>\n",
              "<table border=\"1\" class=\"dataframe\">\n",
              "  <thead>\n",
              "    <tr style=\"text-align: right;\">\n",
              "      <th></th>\n",
              "      <th>PassengerId</th>\n",
              "      <th>Survived</th>\n",
              "      <th>Pclass</th>\n",
              "      <th>Age</th>\n",
              "      <th>SibSp</th>\n",
              "      <th>Parch</th>\n",
              "      <th>Fare</th>\n",
              "    </tr>\n",
              "  </thead>\n",
              "  <tbody>\n",
              "    <tr>\n",
              "      <th>count</th>\n",
              "      <td>891.000000</td>\n",
              "      <td>891.000000</td>\n",
              "      <td>891.000000</td>\n",
              "      <td>714.000000</td>\n",
              "      <td>891.000000</td>\n",
              "      <td>891.000000</td>\n",
              "      <td>891.000000</td>\n",
              "    </tr>\n",
              "    <tr>\n",
              "      <th>mean</th>\n",
              "      <td>446.000000</td>\n",
              "      <td>0.383838</td>\n",
              "      <td>2.308642</td>\n",
              "      <td>29.699118</td>\n",
              "      <td>0.523008</td>\n",
              "      <td>0.381594</td>\n",
              "      <td>32.204208</td>\n",
              "    </tr>\n",
              "    <tr>\n",
              "      <th>std</th>\n",
              "      <td>257.353842</td>\n",
              "      <td>0.486592</td>\n",
              "      <td>0.836071</td>\n",
              "      <td>14.526497</td>\n",
              "      <td>1.102743</td>\n",
              "      <td>0.806057</td>\n",
              "      <td>49.693429</td>\n",
              "    </tr>\n",
              "    <tr>\n",
              "      <th>min</th>\n",
              "      <td>1.000000</td>\n",
              "      <td>0.000000</td>\n",
              "      <td>1.000000</td>\n",
              "      <td>0.420000</td>\n",
              "      <td>0.000000</td>\n",
              "      <td>0.000000</td>\n",
              "      <td>0.000000</td>\n",
              "    </tr>\n",
              "    <tr>\n",
              "      <th>25%</th>\n",
              "      <td>223.500000</td>\n",
              "      <td>0.000000</td>\n",
              "      <td>2.000000</td>\n",
              "      <td>20.125000</td>\n",
              "      <td>0.000000</td>\n",
              "      <td>0.000000</td>\n",
              "      <td>7.910400</td>\n",
              "    </tr>\n",
              "    <tr>\n",
              "      <th>50%</th>\n",
              "      <td>446.000000</td>\n",
              "      <td>0.000000</td>\n",
              "      <td>3.000000</td>\n",
              "      <td>28.000000</td>\n",
              "      <td>0.000000</td>\n",
              "      <td>0.000000</td>\n",
              "      <td>14.454200</td>\n",
              "    </tr>\n",
              "    <tr>\n",
              "      <th>75%</th>\n",
              "      <td>668.500000</td>\n",
              "      <td>1.000000</td>\n",
              "      <td>3.000000</td>\n",
              "      <td>38.000000</td>\n",
              "      <td>1.000000</td>\n",
              "      <td>0.000000</td>\n",
              "      <td>31.000000</td>\n",
              "    </tr>\n",
              "    <tr>\n",
              "      <th>max</th>\n",
              "      <td>891.000000</td>\n",
              "      <td>1.000000</td>\n",
              "      <td>3.000000</td>\n",
              "      <td>80.000000</td>\n",
              "      <td>8.000000</td>\n",
              "      <td>6.000000</td>\n",
              "      <td>512.329200</td>\n",
              "    </tr>\n",
              "  </tbody>\n",
              "</table>\n",
              "</div>"
            ],
            "text/plain": [
              "       PassengerId    Survived      Pclass         Age       SibSp  \\\n",
              "count   891.000000  891.000000  891.000000  714.000000  891.000000   \n",
              "mean    446.000000    0.383838    2.308642   29.699118    0.523008   \n",
              "std     257.353842    0.486592    0.836071   14.526497    1.102743   \n",
              "min       1.000000    0.000000    1.000000    0.420000    0.000000   \n",
              "25%     223.500000    0.000000    2.000000   20.125000    0.000000   \n",
              "50%     446.000000    0.000000    3.000000   28.000000    0.000000   \n",
              "75%     668.500000    1.000000    3.000000   38.000000    1.000000   \n",
              "max     891.000000    1.000000    3.000000   80.000000    8.000000   \n",
              "\n",
              "            Parch        Fare  \n",
              "count  891.000000  891.000000  \n",
              "mean     0.381594   32.204208  \n",
              "std      0.806057   49.693429  \n",
              "min      0.000000    0.000000  \n",
              "25%      0.000000    7.910400  \n",
              "50%      0.000000   14.454200  \n",
              "75%      0.000000   31.000000  \n",
              "max      6.000000  512.329200  "
            ]
          },
          "execution_count": 13,
          "metadata": {},
          "output_type": "execute_result"
        }
      ],
      "source": [
        "titanic.describe()"
      ]
    },
    {
      "cell_type": "markdown",
      "id": "fd07851e",
      "metadata": {
        "id": "fd07851e"
      },
      "source": [
        "#### 1) 결측치 확인"
      ]
    },
    {
      "cell_type": "code",
      "execution_count": null,
      "id": "bdfeab68",
      "metadata": {
        "id": "bdfeab68",
        "outputId": "d2f768c8-5865-4bc6-ec9c-5041548bb1f0"
      },
      "outputs": [
        {
          "data": {
            "text/plain": [
              "PassengerId      0\n",
              "Survived         0\n",
              "Pclass           0\n",
              "Name             0\n",
              "Sex              0\n",
              "Age            177\n",
              "SibSp            0\n",
              "Parch            0\n",
              "Ticket           0\n",
              "Fare             0\n",
              "Cabin          687\n",
              "Embarked         2\n",
              "dtype: int64"
            ]
          },
          "execution_count": 3,
          "metadata": {},
          "output_type": "execute_result"
        }
      ],
      "source": [
        "# 결측치 확인\n",
        "titanic.isnull().sum() # Age, Cabin, Embarked 결측치 처리 필요"
      ]
    },
    {
      "cell_type": "markdown",
      "id": "ad875519",
      "metadata": {
        "id": "ad875519"
      },
      "source": [
        "##### Cabin은 전체 데이터 891개 중 결측치가 687개나 되므로 결측치 처리 하지 않고 분석에서 제외"
      ]
    },
    {
      "cell_type": "markdown",
      "id": "4a869a84",
      "metadata": {
        "id": "4a869a84"
      },
      "source": [
        "#### 2) 주요 변수 분포 확인"
      ]
    },
    {
      "cell_type": "code",
      "execution_count": null,
      "id": "994d54fa",
      "metadata": {
        "id": "994d54fa",
        "outputId": "0174f7d1-96f5-4f8a-ad50-197fdbbc4102"
      },
      "outputs": [
        {
          "data": {
            "text/plain": [
              "0    549\n",
              "1    342\n",
              "Name: Survived, dtype: int64"
            ]
          },
          "execution_count": 26,
          "metadata": {},
          "output_type": "execute_result"
        }
      ],
      "source": [
        "# Target(Survived) 값 분포 확인\n",
        "# Survived : 범주형 변수\n",
        "titanic['Survived'].value_counts()"
      ]
    },
    {
      "cell_type": "code",
      "execution_count": null,
      "id": "3d6f6a69",
      "metadata": {
        "id": "3d6f6a69",
        "outputId": "e6758e7a-ca76-4ecd-f781-cb6c76a43502"
      },
      "outputs": [
        {
          "data": {
            "text/plain": [
              "<AxesSubplot:xlabel='Survived', ylabel='count'>"
            ]
          },
          "execution_count": 32,
          "metadata": {},
          "output_type": "execute_result"
        },
        {
          "data": {
            "image/png": "[encoded data removed]",
            "text/plain": [
              "<Figure size 432x288 with 1 Axes>"
            ]
          },
          "metadata": {
            "needs_background": "light"
          },
          "output_type": "display_data"
        }
      ],
      "source": [
        "# 막대그래프 그리기\n",
        "sns.countplot(data = titanic, x = 'Survived')"
      ]
    },
    {
      "cell_type": "code",
      "execution_count": null,
      "id": "eeeeafdc",
      "metadata": {
        "id": "eeeeafdc"
      },
      "outputs": [],
      "source": [
        "# matplotlib에서의 한글 폰트 문제 해결\n",
        "import matplotlib.pyplot as plt\n",
        "%matplotlib inline\n",
        "\n",
        "from matplotlib import font_manager\n",
        "\n",
        "font_fname = 'C:/Windows/Fonts/NanumGothic.ttf'\n",
        "\n",
        "font_family = font_manager.FontProperties(fname=font_fname).get_name()\n",
        "\n",
        "plt.rcParams[\"font.family\"] = font_family"
      ]
    },
    {
      "cell_type": "code",
      "execution_count": null,
      "id": "56bc3592",
      "metadata": {
        "id": "56bc3592",
        "outputId": "8f4c8b0a-a410-4b87-ed87-ca309b26b9b2"
      },
      "outputs": [
        {
          "data": {
            "image/png": "[encoded data removed]",
            "text/plain": [
              "<Figure size 432x288 with 1 Axes>"
            ]
          },
          "metadata": {},
          "output_type": "display_data"
        }
      ],
      "source": [
        "# 파이그래프 그리기\n",
        "ratio = [549, 342]\n",
        "labels = ['사망', '생존', ]\n",
        "colors = ['#ff9999', '#ffc000']\n",
        "wedgeprops={'width': 0.7, 'edgecolor': 'w', 'linewidth': 5}\n",
        "\n",
        "plt.pie(ratio, labels=labels, autopct='%.1f%%', startangle=310, counterclock=False, colors=colors, wedgeprops=wedgeprops, textprops={'size': 17})\n",
        "plt.show()"
      ]
    },
    {
      "cell_type": "code",
      "execution_count": null,
      "id": "c054b8e7",
      "metadata": {
        "id": "c054b8e7",
        "outputId": "e652bb70-d070-4843-8b8e-fcaaf70fcd6f"
      },
      "outputs": [
        {
          "data": {
            "text/plain": [
              "male      577\n",
              "female    314\n",
              "Name: Sex, dtype: int64"
            ]
          },
          "execution_count": 35,
          "metadata": {},
          "output_type": "execute_result"
        }
      ],
      "source": [
        "# 성별 분포 확인\n",
        "# Sex : 범주형 변수\n",
        "titanic['Sex'].value_counts()"
      ]
    },
    {
      "cell_type": "code",
      "execution_count": null,
      "id": "dd30505a",
      "metadata": {
        "id": "dd30505a",
        "outputId": "a53c311e-d4c2-46c6-9b78-ab471a1cc0d8"
      },
      "outputs": [
        {
          "data": {
            "image/png": "[encoded data removed]",
            "text/plain": [
              "<Figure size 432x288 with 1 Axes>"
            ]
          },
          "metadata": {},
          "output_type": "display_data"
        }
      ],
      "source": [
        "# 파이그래프 그리기\n",
        "ratio = [ 577, 314]\n",
        "labels = ['남성', '여성', ]\n",
        "colors = ['#8fd9b6', '#d395d0']\n",
        "wedgeprops={'width': 0.7, 'edgecolor': 'w', 'linewidth': 5}\n",
        "\n",
        "plt.pie(ratio, labels=labels, autopct='%.1f%%', startangle=310, counterclock=False, colors=colors, wedgeprops=wedgeprops, textprops={'size': 17})\n",
        "plt.show()"
      ]
    },
    {
      "cell_type": "code",
      "execution_count": null,
      "id": "9485f4fb",
      "metadata": {
        "id": "9485f4fb",
        "outputId": "9dda8c4f-f73d-4867-8229-00e16e295145"
      },
      "outputs": [
        {
          "data": {
            "text/plain": [
              "Sex     Survived\n",
              "female  0            81\n",
              "        1           233\n",
              "male    0           468\n",
              "        1           109\n",
              "Name: Sex, dtype: int64"
            ]
          },
          "execution_count": 44,
          "metadata": {},
          "output_type": "execute_result"
        }
      ],
      "source": [
        "# 성별 생존 여부 시각화\n",
        "# 성별/생존 여부 분포\n",
        "titanic.groupby(by = ['Sex', 'Survived'])['Sex'].count()"
      ]
    },
    {
      "cell_type": "code",
      "execution_count": null,
      "id": "040e9bcb",
      "metadata": {
        "id": "040e9bcb",
        "outputId": "a610a64e-3124-4274-b267-65250a3addf2"
      },
      "outputs": [
        {
          "data": {
            "text/plain": [
              "<AxesSubplot:xlabel='Sex', ylabel='count'>"
            ]
          },
          "execution_count": 45,
          "metadata": {},
          "output_type": "execute_result"
        },
        {
          "data": {
            "image/png": "[encoded data removed]",
            "text/plain": [
              "<Figure size 432x288 with 1 Axes>"
            ]
          },
          "metadata": {
            "needs_background": "light"
          },
          "output_type": "display_data"
        }
      ],
      "source": [
        "sns.countplot(data = titanic, x = 'Sex', hue = 'Survived')"
      ]
    },
    {
      "cell_type": "code",
      "execution_count": null,
      "id": "281c0ae6",
      "metadata": {
        "id": "281c0ae6",
        "outputId": "3c2c2b52-98dc-4fa2-f695-bc0ce2b22207"
      },
      "outputs": [
        {
          "data": {
            "text/plain": [
              "Sex     Pclass\n",
              "female  1          94\n",
              "        2          76\n",
              "        3         144\n",
              "male    1         122\n",
              "        2         108\n",
              "        3         347\n",
              "Name: Sex, dtype: int64"
            ]
          },
          "execution_count": 41,
          "metadata": {},
          "output_type": "execute_result"
        }
      ],
      "source": [
        "# titanic 데이터 셋의 성별 인원수를 객실 등급별로 시각화\n",
        "# Pclass ; 범주형 변수\n",
        "# 성별/객실 등급별 분포\n",
        "titanic.groupby(by = ['Sex', 'Pclass'])['Sex'].count()"
      ]
    },
    {
      "cell_type": "code",
      "execution_count": null,
      "id": "22c37ba9",
      "metadata": {
        "id": "22c37ba9",
        "outputId": "5c548521-7ee4-4f75-b2ce-ea0800f09158"
      },
      "outputs": [
        {
          "data": {
            "text/plain": [
              "<AxesSubplot:xlabel='Sex', ylabel='count'>"
            ]
          },
          "execution_count": 43,
          "metadata": {},
          "output_type": "execute_result"
        },
        {
          "data": {
            "image/png": "[encoded data removed]",
            "text/plain": [
              "<Figure size 432x288 with 1 Axes>"
            ]
          },
          "metadata": {
            "needs_background": "light"
          },
          "output_type": "display_data"
        }
      ],
      "source": [
        "sns.countplot(data = titanic, x = 'Sex', hue = 'Pclass')"
      ]
    },
    {
      "cell_type": "code",
      "execution_count": null,
      "id": "0c4eee2d",
      "metadata": {
        "id": "0c4eee2d",
        "outputId": "a3f8255f-e6c9-4f5f-cdce-ba14d296b120"
      },
      "outputs": [
        {
          "data": {
            "text/plain": [
              "Pclass  Survived\n",
              "1       0            80\n",
              "        1           136\n",
              "2       0            97\n",
              "        1            87\n",
              "3       0           372\n",
              "        1           119\n",
              "Name: Pclass, dtype: int64"
            ]
          },
          "execution_count": 46,
          "metadata": {},
          "output_type": "execute_result"
        }
      ],
      "source": [
        "# Pclass별 생존 여부 시각화\n",
        "# Pclass/생존 여부 분포\n",
        "titanic.groupby(by = ['Pclass', 'Survived'])['Pclass'].count()"
      ]
    },
    {
      "cell_type": "code",
      "execution_count": null,
      "id": "34104ff6",
      "metadata": {
        "id": "34104ff6",
        "outputId": "b3cd9af6-9a65-4f14-950a-51b8cad6fcfd"
      },
      "outputs": [
        {
          "data": {
            "text/plain": [
              "<AxesSubplot:xlabel='Pclass', ylabel='count'>"
            ]
          },
          "execution_count": 47,
          "metadata": {},
          "output_type": "execute_result"
        },
        {
          "data": {
            "image/png": "[encoded data removed]",
            "text/plain": [
              "<Figure size 432x288 with 1 Axes>"
            ]
          },
          "metadata": {
            "needs_background": "light"
          },
          "output_type": "display_data"
        }
      ],
      "source": [
        "sns.countplot(data = titanic, x = 'Pclass', hue = 'Survived')"
      ]
    },
    {
      "cell_type": "code",
      "execution_count": null,
      "id": "ba288f06",
      "metadata": {
        "id": "ba288f06",
        "outputId": "0062a520-9b64-4813-d7e6-21aaf6045e7e"
      },
      "outputs": [
        {
          "name": "stderr",
          "output_type": "stream",
          "text": [
            "C:\\Users\\SIM-Koreatech\\anaconda3\\envs\\text\\lib\\site-packages\\seaborn\\categorical.py:3717: UserWarning: The `factorplot` function has been renamed to `catplot`. The original name will be removed in a future release. Please update your code. Note that the default `kind` in `factorplot` (`'point'`) has changed `'strip'` in `catplot`.\n",
            "  warnings.warn(msg)\n",
            "C:\\Users\\SIM-Koreatech\\anaconda3\\envs\\text\\lib\\site-packages\\seaborn\\_decorators.py:43: FutureWarning: Pass the following variables as keyword args: x, y. From version 0.12, the only valid positional argument will be `data`, and passing other arguments without an explicit keyword will result in an error or misinterpretation.\n",
            "  FutureWarning\n"
          ]
        },
        {
          "data": {
            "image/png": "[encoded data removed]",
            "text/plain": [
              "<Figure size 427.5x360 with 1 Axes>"
            ]
          },
          "metadata": {
            "needs_background": "light"
          },
          "output_type": "display_data"
        }
      ],
      "source": [
        "# 객실등급, 성별에 따른 생존율 차이 시각화\n",
        "# Pclass와 Sex 모두 범주형 변수이므로 factorplot 사용\n",
        "sns.factorplot('Pclass', 'Survived', hue = 'Sex', data= titanic, errwidth=0)\n",
        "plt.show()"
      ]
    },
    {
      "cell_type": "code",
      "execution_count": null,
      "id": "b50cfe87",
      "metadata": {
        "id": "b50cfe87",
        "outputId": "cb6bb10f-90ac-46aa-cd87-40b22a9e3358"
      },
      "outputs": [
        {
          "data": {
            "text/plain": [
              "Pclass  Sex     Survived\n",
              "1       female  0             3\n",
              "                1            91\n",
              "        male    0            77\n",
              "                1            45\n",
              "2       female  0             6\n",
              "                1            70\n",
              "        male    0            91\n",
              "                1            17\n",
              "3       female  0            72\n",
              "                1            72\n",
              "        male    0           300\n",
              "                1            47\n",
              "Name: Sex, dtype: int64"
            ]
          },
          "execution_count": 51,
          "metadata": {},
          "output_type": "execute_result"
        }
      ],
      "source": [
        "# 객실 등급별/성별 사망자 수 확인\n",
        "titanic.groupby(by = ['Pclass', 'Sex', 'Survived'])['Sex'].count()"
      ]
    },
    {
      "cell_type": "code",
      "execution_count": null,
      "id": "42345185",
      "metadata": {
        "id": "42345185"
      },
      "outputs": [],
      "source": [
        "# 1등급 여자 승객 94명 중 3명 사망"
      ]
    },
    {
      "cell_type": "code",
      "execution_count": null,
      "id": "6fa647fe",
      "metadata": {
        "id": "6fa647fe",
        "outputId": "5fcc8e51-44e2-4ddf-b14d-fa0a44d9b01c"
      },
      "outputs": [
        {
          "name": "stderr",
          "output_type": "stream",
          "text": [
            "C:\\Users\\SIM-Koreatech\\anaconda3\\envs\\text\\lib\\site-packages\\seaborn\\_decorators.py:43: FutureWarning: Pass the following variables as keyword args: x, y. From version 0.12, the only valid positional argument will be `data`, and passing other arguments without an explicit keyword will result in an error or misinterpretation.\n",
            "  FutureWarning\n",
            "C:\\Users\\SIM-Koreatech\\anaconda3\\envs\\text\\lib\\site-packages\\seaborn\\_decorators.py:43: FutureWarning: Pass the following variables as keyword args: x, y. From version 0.12, the only valid positional argument will be `data`, and passing other arguments without an explicit keyword will result in an error or misinterpretation.\n",
            "  FutureWarning\n"
          ]
        },
        {
          "data": {
            "image/png": "[encoded data removed]",
            "text/plain": [
              "<Figure size 1296x576 with 2 Axes>"
            ]
          },
          "metadata": {
            "needs_background": "light"
          },
          "output_type": "display_data"
        }
      ],
      "source": [
        "# 연령대에 따른 생존 가능성 분석\n",
        "# age는 연속형 변수이므로 바이올린 플롯으로 시각화\n",
        "f, ax = plt.subplots(1,2,figsize = (18,8))\n",
        "sns.violinplot(\"Pclass\", \"Age\", hue = 'Survived', data= data, split = True, ax = ax[0]) # 연령대와 Pclass\n",
        "ax[0].set_title('Pclass and Age vs Survived')\n",
        "ax[0].set_yticks(range(0,110,10))\n",
        "sns.violinplot('Sex', \"Age\", hue = \"Survived\", data = data, split = True, ax = ax[1]) # 연령대와 성별\n",
        "ax[1].set_title('Sex and Age vs Survived')\n",
        "ax[1].set_yticks(range(0, 110, 10))\n",
        "plt.show()"
      ]
    },
    {
      "cell_type": "code",
      "execution_count": null,
      "id": "9b843258",
      "metadata": {
        "id": "9b843258"
      },
      "outputs": [],
      "source": [
        "# Pclass = 1일때 생존자 연령 평균이 사망자 보다 낮음을 알 수 있음\n",
        "# 전반적으로 유아들의 생존율이 사망율 보다 높음을 알 수 있음"
      ]
    },
    {
      "cell_type": "markdown",
      "id": "2c92c9d4",
      "metadata": {
        "id": "2c92c9d4"
      },
      "source": [
        "### 3) age 결측지 처리"
      ]
    },
    {
      "cell_type": "code",
      "execution_count": null,
      "id": "ef2e86f6",
      "metadata": {
        "id": "ef2e86f6",
        "outputId": "8a6e234e-6a1e-4628-e27a-fd64902fdf14"
      },
      "outputs": [
        {
          "data": {
            "text/plain": [
              "0                                Braund, Mr. Owen Harris\n",
              "1      Cumings, Mrs. John Bradley (Florence Briggs Th...\n",
              "2                                 Heikkinen, Miss. Laina\n",
              "3           Futrelle, Mrs. Jacques Heath (Lily May Peel)\n",
              "4                               Allen, Mr. William Henry\n",
              "                             ...                        \n",
              "886                                Montvila, Rev. Juozas\n",
              "887                         Graham, Miss. Margaret Edith\n",
              "888             Johnston, Miss. Catherine Helen \"Carrie\"\n",
              "889                                Behr, Mr. Karl Howell\n",
              "890                                  Dooley, Mr. Patrick\n",
              "Name: Name, Length: 891, dtype: object"
            ]
          },
          "execution_count": 6,
          "metadata": {},
          "output_type": "execute_result"
        }
      ],
      "source": [
        "# Name : 문자형 변수\n",
        "titanic['Name']"
      ]
    },
    {
      "cell_type": "code",
      "execution_count": null,
      "id": "cd524e89",
      "metadata": {
        "id": "cd524e89"
      },
      "outputs": [],
      "source": [
        "# 이름 이니셜 파생변수 생성\n",
        "titanic[\"Initial\"] = 0\n",
        "for i in titanic:\n",
        "    titanic[\"Initial\"] = titanic.Name.str.extract('([A-Za-z]+)\\.') # 하나 이상의 알파벳 문자(대문자 및 소문자 모두)와 마침표를 추출하는 정규표현식"
      ]
    },
    {
      "cell_type": "code",
      "execution_count": null,
      "id": "45d37a05",
      "metadata": {
        "id": "45d37a05",
        "outputId": "4288334b-debc-4746-dbf0-40c3ec353389"
      },
      "outputs": [
        {
          "data": {
            "text/plain": [
              "0        Mr\n",
              "1       Mrs\n",
              "2      Miss\n",
              "3       Mrs\n",
              "4        Mr\n",
              "       ... \n",
              "886     Rev\n",
              "887    Miss\n",
              "888    Miss\n",
              "889      Mr\n",
              "890      Mr\n",
              "Name: Initial, Length: 891, dtype: object"
            ]
          },
          "execution_count": 8,
          "metadata": {},
          "output_type": "execute_result"
        }
      ],
      "source": [
        "titanic[\"Initial\"]"
      ]
    },
    {
      "cell_type": "code",
      "execution_count": null,
      "id": "39bda192",
      "metadata": {
        "id": "39bda192",
        "outputId": "90f6b2c3-0031-4e9f-8cba-97368ee61f74"
      },
      "outputs": [
        {
          "data": {
            "text/plain": [
              "array(['Mr', 'Mrs', 'Miss', 'Master', 'Don', 'Rev', 'Dr', 'Mme', 'Ms',\n",
              "       'Major', 'Lady', 'Sir', 'Mlle', 'Col', 'Capt', 'Countess',\n",
              "       'Jonkheer'], dtype=object)"
            ]
          },
          "execution_count": 9,
          "metadata": {},
          "output_type": "execute_result"
        }
      ],
      "source": [
        "titanic[\"Initial\"].unique()"
      ]
    },
    {
      "cell_type": "code",
      "execution_count": null,
      "id": "553ecd4c",
      "metadata": {
        "id": "553ecd4c",
        "outputId": "be81f797-0606-4775-abaf-f593b603b209"
      },
      "outputs": [
        {
          "data": {
            "text/html": [
              "<div>\n",
              "<style scoped>\n",
              "    .dataframe tbody tr th:only-of-type {\n",
              "        vertical-align: middle;\n",
              "    }\n",
              "\n",
              "    .dataframe tbody tr th {\n",
              "        vertical-align: top;\n",
              "    }\n",
              "\n",
              "    .dataframe thead th {\n",
              "        text-align: right;\n",
              "    }\n",
              "</style>\n",
              "<table border=\"1\" class=\"dataframe\">\n",
              "  <thead>\n",
              "    <tr style=\"text-align: right;\">\n",
              "      <th>Initial</th>\n",
              "      <th>Capt</th>\n",
              "      <th>Col</th>\n",
              "      <th>Countess</th>\n",
              "      <th>Don</th>\n",
              "      <th>Dr</th>\n",
              "      <th>Jonkheer</th>\n",
              "      <th>Lady</th>\n",
              "      <th>Major</th>\n",
              "      <th>Master</th>\n",
              "      <th>Miss</th>\n",
              "      <th>Mlle</th>\n",
              "      <th>Mme</th>\n",
              "      <th>Mr</th>\n",
              "      <th>Mrs</th>\n",
              "      <th>Ms</th>\n",
              "      <th>Rev</th>\n",
              "      <th>Sir</th>\n",
              "    </tr>\n",
              "    <tr>\n",
              "      <th>Sex</th>\n",
              "      <th></th>\n",
              "      <th></th>\n",
              "      <th></th>\n",
              "      <th></th>\n",
              "      <th></th>\n",
              "      <th></th>\n",
              "      <th></th>\n",
              "      <th></th>\n",
              "      <th></th>\n",
              "      <th></th>\n",
              "      <th></th>\n",
              "      <th></th>\n",
              "      <th></th>\n",
              "      <th></th>\n",
              "      <th></th>\n",
              "      <th></th>\n",
              "      <th></th>\n",
              "    </tr>\n",
              "  </thead>\n",
              "  <tbody>\n",
              "    <tr>\n",
              "      <th>female</th>\n",
              "      <td>0</td>\n",
              "      <td>0</td>\n",
              "      <td>1</td>\n",
              "      <td>0</td>\n",
              "      <td>1</td>\n",
              "      <td>0</td>\n",
              "      <td>1</td>\n",
              "      <td>0</td>\n",
              "      <td>0</td>\n",
              "      <td>182</td>\n",
              "      <td>2</td>\n",
              "      <td>1</td>\n",
              "      <td>0</td>\n",
              "      <td>125</td>\n",
              "      <td>1</td>\n",
              "      <td>0</td>\n",
              "      <td>0</td>\n",
              "    </tr>\n",
              "    <tr>\n",
              "      <th>male</th>\n",
              "      <td>1</td>\n",
              "      <td>2</td>\n",
              "      <td>0</td>\n",
              "      <td>1</td>\n",
              "      <td>6</td>\n",
              "      <td>1</td>\n",
              "      <td>0</td>\n",
              "      <td>2</td>\n",
              "      <td>40</td>\n",
              "      <td>0</td>\n",
              "      <td>0</td>\n",
              "      <td>0</td>\n",
              "      <td>517</td>\n",
              "      <td>0</td>\n",
              "      <td>0</td>\n",
              "      <td>6</td>\n",
              "      <td>1</td>\n",
              "    </tr>\n",
              "  </tbody>\n",
              "</table>\n",
              "</div>"
            ],
            "text/plain": [
              "Initial  Capt  Col  Countess  Don  Dr  Jonkheer  Lady  Major  Master  Miss  \\\n",
              "Sex                                                                          \n",
              "female      0    0         1    0   1         0     1      0       0   182   \n",
              "male        1    2         0    1   6         1     0      2      40     0   \n",
              "\n",
              "Initial  Mlle  Mme   Mr  Mrs  Ms  Rev  Sir  \n",
              "Sex                                         \n",
              "female      2    1    0  125   1    0    0  \n",
              "male        0    0  517    0   0    6    1  "
            ]
          },
          "execution_count": 10,
          "metadata": {},
          "output_type": "execute_result"
        }
      ],
      "source": [
        "pd.crosstab(titanic.Initial,titanic.Sex).T"
      ]
    },
    {
      "cell_type": "code",
      "execution_count": null,
      "id": "2cfced20",
      "metadata": {
        "id": "2cfced20"
      },
      "outputs": [],
      "source": [
        "# 성별이 불분명한 명칭은 Miss, Mr 등으로 대체\n",
        "titanic['Initial'].replace(['Capt','Col','Countess','Don','Dr','Jonkheer','Lady','Major','Mlle','Mme','Ms','Rev','Sir'],\\\n",
        "                           ['Mr','Mr','Mrs','Mr','Mr','Mr','Mrs','Mr', 'Miss','Miss','Mrs','Mr', 'Mr'],inplace=True)"
      ]
    },
    {
      "cell_type": "code",
      "execution_count": null,
      "id": "96286fa1",
      "metadata": {
        "id": "96286fa1",
        "outputId": "2292bdbf-ebb7-4395-cf43-bb46747c0204"
      },
      "outputs": [
        {
          "data": {
            "text/plain": [
              "Initial\n",
              "Master     4.574167\n",
              "Miss      21.818792\n",
              "Mr        33.022727\n",
              "Mrs       35.909910\n",
              "Name: Age, dtype: float64"
            ]
          },
          "execution_count": 12,
          "metadata": {},
          "output_type": "execute_result"
        }
      ],
      "source": [
        "titanic.groupby('Initial')['Age'].mean()"
      ]
    },
    {
      "cell_type": "code",
      "execution_count": null,
      "id": "ace46ec5",
      "metadata": {
        "id": "ace46ec5"
      },
      "outputs": [],
      "source": [
        "# 이니셜에 따라 연령값 평균 대체\n",
        "titanic.loc[(titanic.Age.isnull())&(titanic.Initial=='Master'),'Age']=5\n",
        "titanic.loc[(titanic.Age.isnull())&(titanic.Initial=='Miss'),'Age']=22\n",
        "titanic.loc[(titanic.Age.isnull())&(titanic.Initial=='Mr'),'Age']=33\n",
        "titanic.loc[(titanic.Age.isnull())&(titanic.Initial=='Mrs'),'Age']=36"
      ]
    },
    {
      "cell_type": "code",
      "execution_count": null,
      "id": "e5b75ce6",
      "metadata": {
        "id": "e5b75ce6",
        "outputId": "beed742b-3853-43a3-a50a-ecd51e318c12"
      },
      "outputs": [
        {
          "data": {
            "image/png": "[encoded data removed]",
            "text/plain": [
              "<Figure size 1440x720 with 2 Axes>"
            ]
          },
          "metadata": {
            "needs_background": "light"
          },
          "output_type": "display_data"
        }
      ],
      "source": [
        "f,ax=plt.subplots(1,2,figsize=(20,10))\n",
        "titanic[titanic['Survived']==0].Age.plot.hist(ax=ax[0],bins=20,edgecolor='black',color='red')\n",
        "ax[0].set_title('Survived= 0')\n",
        "x1=list(range(0,85,5))\n",
        "ax[0].set_xticks(x1)\n",
        "titanic[titanic['Survived']==1].Age.plot.hist(ax=ax[1],color='green',bins=20,edgecolor='black')\n",
        "ax[1].set_title('Survived= 1')\n",
        "x2=list(range(0,85,5))\n",
        "ax[1].set_xticks(x2)\n",
        "plt.show()"
      ]
    },
    {
      "cell_type": "markdown",
      "id": "7d3852d7",
      "metadata": {
        "id": "7d3852d7"
      },
      "source": [
        "### 4) Embarked 결측치 처리"
      ]
    },
    {
      "cell_type": "code",
      "execution_count": null,
      "id": "06f20a5d",
      "metadata": {
        "id": "06f20a5d",
        "outputId": "368a4881-4bb8-4cb5-fd43-d4c522739eb5"
      },
      "outputs": [
        {
          "data": {
            "text/html": [
              "<div>\n",
              "<style scoped>\n",
              "    .dataframe tbody tr th:only-of-type {\n",
              "        vertical-align: middle;\n",
              "    }\n",
              "\n",
              "    .dataframe tbody tr th {\n",
              "        vertical-align: top;\n",
              "    }\n",
              "\n",
              "    .dataframe thead tr th {\n",
              "        text-align: left;\n",
              "    }\n",
              "\n",
              "    .dataframe thead tr:last-of-type th {\n",
              "        text-align: right;\n",
              "    }\n",
              "</style>\n",
              "<table border=\"1\" class=\"dataframe\">\n",
              "  <thead>\n",
              "    <tr>\n",
              "      <th></th>\n",
              "      <th>Sex</th>\n",
              "      <th colspan=\"2\" halign=\"left\">female</th>\n",
              "      <th colspan=\"2\" halign=\"left\">male</th>\n",
              "    </tr>\n",
              "    <tr>\n",
              "      <th></th>\n",
              "      <th>Survived</th>\n",
              "      <th>0</th>\n",
              "      <th>1</th>\n",
              "      <th>0</th>\n",
              "      <th>1</th>\n",
              "    </tr>\n",
              "    <tr>\n",
              "      <th>Embarked</th>\n",
              "      <th>Pclass</th>\n",
              "      <th></th>\n",
              "      <th></th>\n",
              "      <th></th>\n",
              "      <th></th>\n",
              "    </tr>\n",
              "  </thead>\n",
              "  <tbody>\n",
              "    <tr>\n",
              "      <th rowspan=\"3\" valign=\"top\">C</th>\n",
              "      <th>1</th>\n",
              "      <td>1</td>\n",
              "      <td>42</td>\n",
              "      <td>25</td>\n",
              "      <td>17</td>\n",
              "    </tr>\n",
              "    <tr>\n",
              "      <th>2</th>\n",
              "      <td>0</td>\n",
              "      <td>7</td>\n",
              "      <td>8</td>\n",
              "      <td>2</td>\n",
              "    </tr>\n",
              "    <tr>\n",
              "      <th>3</th>\n",
              "      <td>8</td>\n",
              "      <td>15</td>\n",
              "      <td>33</td>\n",
              "      <td>10</td>\n",
              "    </tr>\n",
              "    <tr>\n",
              "      <th rowspan=\"3\" valign=\"top\">Q</th>\n",
              "      <th>1</th>\n",
              "      <td>0</td>\n",
              "      <td>1</td>\n",
              "      <td>1</td>\n",
              "      <td>0</td>\n",
              "    </tr>\n",
              "    <tr>\n",
              "      <th>2</th>\n",
              "      <td>0</td>\n",
              "      <td>2</td>\n",
              "      <td>1</td>\n",
              "      <td>0</td>\n",
              "    </tr>\n",
              "    <tr>\n",
              "      <th>3</th>\n",
              "      <td>9</td>\n",
              "      <td>24</td>\n",
              "      <td>36</td>\n",
              "      <td>3</td>\n",
              "    </tr>\n",
              "    <tr>\n",
              "      <th rowspan=\"3\" valign=\"top\">S</th>\n",
              "      <th>1</th>\n",
              "      <td>2</td>\n",
              "      <td>46</td>\n",
              "      <td>51</td>\n",
              "      <td>28</td>\n",
              "    </tr>\n",
              "    <tr>\n",
              "      <th>2</th>\n",
              "      <td>6</td>\n",
              "      <td>61</td>\n",
              "      <td>82</td>\n",
              "      <td>15</td>\n",
              "    </tr>\n",
              "    <tr>\n",
              "      <th>3</th>\n",
              "      <td>55</td>\n",
              "      <td>33</td>\n",
              "      <td>231</td>\n",
              "      <td>34</td>\n",
              "    </tr>\n",
              "  </tbody>\n",
              "</table>\n",
              "</div>"
            ],
            "text/plain": [
              "Sex             female     male    \n",
              "Survived             0   1    0   1\n",
              "Embarked Pclass                    \n",
              "C        1           1  42   25  17\n",
              "         2           0   7    8   2\n",
              "         3           8  15   33  10\n",
              "Q        1           0   1    1   0\n",
              "         2           0   2    1   0\n",
              "         3           9  24   36   3\n",
              "S        1           2  46   51  28\n",
              "         2           6  61   82  15\n",
              "         3          55  33  231  34"
            ]
          },
          "execution_count": 15,
          "metadata": {},
          "output_type": "execute_result"
        }
      ],
      "source": [
        "# Embarked(탑승지) : 범주형 변수\n",
        "pd.crosstab([titanic.Embarked, titanic.Pclass], [titanic.Sex, titanic.Survived])"
      ]
    },
    {
      "cell_type": "code",
      "execution_count": null,
      "id": "07f7ad74",
      "metadata": {
        "id": "07f7ad74",
        "outputId": "83ed9c04-9495-4738-cec7-2c9b91e540f1"
      },
      "outputs": [
        {
          "data": {
            "text/plain": [
              "<AxesSubplot:xlabel='Embarked', ylabel='count'>"
            ]
          },
          "execution_count": 16,
          "metadata": {},
          "output_type": "execute_result"
        },
        {
          "data": {
            "image/png": "[encoded data removed]",
            "text/plain": [
              "<Figure size 432x288 with 1 Axes>"
            ]
          },
          "metadata": {
            "needs_background": "light"
          },
          "output_type": "display_data"
        }
      ],
      "source": [
        "# 탑승지별 승객수\n",
        "sns.countplot(data = titanic, x = 'Embarked')"
      ]
    },
    {
      "cell_type": "code",
      "execution_count": null,
      "id": "cc7e6128",
      "metadata": {
        "id": "cc7e6128",
        "outputId": "b696da7b-fef5-43b7-c17b-c81895152e60"
      },
      "outputs": [
        {
          "name": "stderr",
          "output_type": "stream",
          "text": [
            "C:\\Users\\SIM-Koreatech\\anaconda3\\envs\\text\\lib\\site-packages\\seaborn\\_decorators.py:43: FutureWarning: Pass the following variable as a keyword arg: x. From version 0.12, the only valid positional argument will be `data`, and passing other arguments without an explicit keyword will result in an error or misinterpretation.\n",
            "  FutureWarning\n"
          ]
        },
        {
          "data": {
            "text/plain": [
              "<AxesSubplot:xlabel='Embarked', ylabel='count'>"
            ]
          },
          "execution_count": 22,
          "metadata": {},
          "output_type": "execute_result"
        },
        {
          "data": {
            "image/png": "[encoded data removed]",
            "text/plain": [
              "<Figure size 432x288 with 1 Axes>"
            ]
          },
          "metadata": {
            "needs_background": "light"
          },
          "output_type": "display_data"
        }
      ],
      "source": [
        "sns.countplot('Embarked',hue='Survived',data=titanic)"
      ]
    },
    {
      "cell_type": "code",
      "execution_count": null,
      "id": "d554572b",
      "metadata": {
        "id": "d554572b",
        "outputId": "f0a1b99a-6f7e-417b-84b9-3da0ec0cd0a9"
      },
      "outputs": [
        {
          "name": "stderr",
          "output_type": "stream",
          "text": [
            "C:\\Users\\SIM-Koreatech\\anaconda3\\envs\\text\\lib\\site-packages\\seaborn\\_decorators.py:43: FutureWarning: Pass the following variable as a keyword arg: x. From version 0.12, the only valid positional argument will be `data`, and passing other arguments without an explicit keyword will result in an error or misinterpretation.\n",
            "  FutureWarning\n"
          ]
        },
        {
          "data": {
            "text/plain": [
              "<AxesSubplot:xlabel='Embarked', ylabel='count'>"
            ]
          },
          "execution_count": 17,
          "metadata": {},
          "output_type": "execute_result"
        },
        {
          "data": {
            "image/png": "[encoded data removed]",
            "text/plain": [
              "<Figure size 432x288 with 1 Axes>"
            ]
          },
          "metadata": {
            "needs_background": "light"
          },
          "output_type": "display_data"
        }
      ],
      "source": [
        "sns.countplot('Embarked',hue='Pclass',data=titanic)"
      ]
    },
    {
      "cell_type": "code",
      "execution_count": null,
      "id": "903c1b35",
      "metadata": {
        "id": "903c1b35"
      },
      "outputs": [],
      "source": [
        "# S는 3등급 승객이 많아 사망자가 많았음"
      ]
    },
    {
      "cell_type": "code",
      "execution_count": null,
      "id": "3d7e61b3",
      "metadata": {
        "id": "3d7e61b3",
        "outputId": "1aebd976-edac-4c90-dbc0-cbac077a07e7"
      },
      "outputs": [
        {
          "name": "stderr",
          "output_type": "stream",
          "text": [
            "C:\\Users\\SIM-Koreatech\\anaconda3\\envs\\text\\lib\\site-packages\\seaborn\\categorical.py:3717: UserWarning: The `factorplot` function has been renamed to `catplot`. The original name will be removed in a future release. Please update your code. Note that the default `kind` in `factorplot` (`'point'`) has changed `'strip'` in `catplot`.\n",
            "  warnings.warn(msg)\n",
            "C:\\Users\\SIM-Koreatech\\anaconda3\\envs\\text\\lib\\site-packages\\seaborn\\_decorators.py:43: FutureWarning: Pass the following variables as keyword args: x, y. From version 0.12, the only valid positional argument will be `data`, and passing other arguments without an explicit keyword will result in an error or misinterpretation.\n",
            "  FutureWarning\n"
          ]
        },
        {
          "data": {
            "text/plain": [
              "<seaborn.axisgrid.FacetGrid at 0x20b5545bac8>"
            ]
          },
          "execution_count": 38,
          "metadata": {},
          "output_type": "execute_result"
        },
        {
          "data": {
            "image/png": "[encoded data removed]",
            "text/plain": [
              "<Figure size 1147.5x360 with 3 Axes>"
            ]
          },
          "metadata": {
            "needs_background": "light"
          },
          "output_type": "display_data"
        }
      ],
      "source": [
        "sns.factorplot('Pclass', 'Survived', hue = 'Sex', col = 'Embarked', data = titanic, errwidth=0)"
      ]
    },
    {
      "cell_type": "code",
      "execution_count": null,
      "id": "b7ab9941",
      "metadata": {
        "id": "b7ab9941"
      },
      "outputs": [],
      "source": [
        "# Embarked 결측치 처리 : 결측치 2개를 최빈값인 S로 대체\n",
        "titanic['Embarked'].fillna('S', inplace = True)"
      ]
    },
    {
      "cell_type": "code",
      "execution_count": null,
      "id": "e3d5020b",
      "metadata": {
        "id": "e3d5020b",
        "outputId": "d0a98e5c-9e0d-45c0-a17d-91262807c2d9"
      },
      "outputs": [
        {
          "data": {
            "text/plain": [
              "PassengerId      0\n",
              "Survived         0\n",
              "Pclass           0\n",
              "Name             0\n",
              "Sex              0\n",
              "Age              0\n",
              "SibSp            0\n",
              "Parch            0\n",
              "Ticket           0\n",
              "Fare             0\n",
              "Cabin          687\n",
              "Embarked         0\n",
              "Initial          0\n",
              "dtype: int64"
            ]
          },
          "execution_count": 19,
          "metadata": {},
          "output_type": "execute_result"
        }
      ],
      "source": [
        "titanic.isnull().sum()"
      ]
    },
    {
      "cell_type": "markdown",
      "id": "2483ceb7",
      "metadata": {
        "id": "2483ceb7"
      },
      "source": [
        "### 5) 나머지 변수 검토"
      ]
    },
    {
      "cell_type": "code",
      "execution_count": null,
      "id": "30dd579c",
      "metadata": {
        "id": "30dd579c",
        "outputId": "d458696a-3a10-4f88-f4ab-e7fd5cac720b"
      },
      "outputs": [
        {
          "data": {
            "text/html": [
              "<div>\n",
              "<style scoped>\n",
              "    .dataframe tbody tr th:only-of-type {\n",
              "        vertical-align: middle;\n",
              "    }\n",
              "\n",
              "    .dataframe tbody tr th {\n",
              "        vertical-align: top;\n",
              "    }\n",
              "\n",
              "    .dataframe thead th {\n",
              "        text-align: right;\n",
              "    }\n",
              "</style>\n",
              "<table border=\"1\" class=\"dataframe\">\n",
              "  <thead>\n",
              "    <tr style=\"text-align: right;\">\n",
              "      <th>Survived</th>\n",
              "      <th>0</th>\n",
              "      <th>1</th>\n",
              "    </tr>\n",
              "    <tr>\n",
              "      <th>SibSp</th>\n",
              "      <th></th>\n",
              "      <th></th>\n",
              "    </tr>\n",
              "  </thead>\n",
              "  <tbody>\n",
              "    <tr>\n",
              "      <th>0</th>\n",
              "      <td>398</td>\n",
              "      <td>210</td>\n",
              "    </tr>\n",
              "    <tr>\n",
              "      <th>1</th>\n",
              "      <td>97</td>\n",
              "      <td>112</td>\n",
              "    </tr>\n",
              "    <tr>\n",
              "      <th>2</th>\n",
              "      <td>15</td>\n",
              "      <td>13</td>\n",
              "    </tr>\n",
              "    <tr>\n",
              "      <th>3</th>\n",
              "      <td>12</td>\n",
              "      <td>4</td>\n",
              "    </tr>\n",
              "    <tr>\n",
              "      <th>4</th>\n",
              "      <td>15</td>\n",
              "      <td>3</td>\n",
              "    </tr>\n",
              "    <tr>\n",
              "      <th>5</th>\n",
              "      <td>5</td>\n",
              "      <td>0</td>\n",
              "    </tr>\n",
              "    <tr>\n",
              "      <th>8</th>\n",
              "      <td>7</td>\n",
              "      <td>0</td>\n",
              "    </tr>\n",
              "  </tbody>\n",
              "</table>\n",
              "</div>"
            ],
            "text/plain": [
              "Survived    0    1\n",
              "SibSp             \n",
              "0         398  210\n",
              "1          97  112\n",
              "2          15   13\n",
              "3          12    4\n",
              "4          15    3\n",
              "5           5    0\n",
              "8           7    0"
            ]
          },
          "execution_count": 24,
          "metadata": {},
          "output_type": "execute_result"
        }
      ],
      "source": [
        "# SibSp(형제자매/배우자) : 이산형 변수\n",
        "# SibSp 분포 검토\n",
        "pd.crosstab([titanic.SibSp], titanic.Survived) # 형제자매/배우자가 1~2명인 경우 생존 확룰 높음"
      ]
    },
    {
      "cell_type": "code",
      "execution_count": null,
      "id": "3fef9722",
      "metadata": {
        "id": "3fef9722",
        "outputId": "35c5bbd6-1756-4db5-fc8d-4a78b16d7cd0"
      },
      "outputs": [
        {
          "name": "stderr",
          "output_type": "stream",
          "text": [
            "C:\\Users\\SIM-Koreatech\\anaconda3\\envs\\text\\lib\\site-packages\\seaborn\\_decorators.py:43: FutureWarning: Pass the following variables as keyword args: x, y. From version 0.12, the only valid positional argument will be `data`, and passing other arguments without an explicit keyword will result in an error or misinterpretation.\n",
            "  FutureWarning\n"
          ]
        },
        {
          "data": {
            "text/plain": [
              "<AxesSubplot:xlabel='SibSp', ylabel='Survived'>"
            ]
          },
          "execution_count": 87,
          "metadata": {},
          "output_type": "execute_result"
        },
        {
          "data": {
            "image/png": "[encoded data removed]",
            "text/plain": [
              "<Figure size 432x288 with 1 Axes>"
            ]
          },
          "metadata": {
            "needs_background": "light"
          },
          "output_type": "display_data"
        }
      ],
      "source": [
        "sns.barplot('SibSp', 'Survived', data = titanic, errwidth=0) #error line 삭제 옵션"
      ]
    },
    {
      "cell_type": "code",
      "execution_count": null,
      "id": "a5f54141",
      "metadata": {
        "id": "a5f54141",
        "outputId": "d9e3a527-b2a3-4d7a-ab5d-88d40fb96aac"
      },
      "outputs": [
        {
          "data": {
            "text/html": [
              "<div>\n",
              "<style scoped>\n",
              "    .dataframe tbody tr th:only-of-type {\n",
              "        vertical-align: middle;\n",
              "    }\n",
              "\n",
              "    .dataframe tbody tr th {\n",
              "        vertical-align: top;\n",
              "    }\n",
              "\n",
              "    .dataframe thead th {\n",
              "        text-align: right;\n",
              "    }\n",
              "</style>\n",
              "<table border=\"1\" class=\"dataframe\">\n",
              "  <thead>\n",
              "    <tr style=\"text-align: right;\">\n",
              "      <th></th>\n",
              "      <th>Pclass</th>\n",
              "      <th>1</th>\n",
              "      <th>2</th>\n",
              "      <th>3</th>\n",
              "    </tr>\n",
              "    <tr>\n",
              "      <th>Pclass</th>\n",
              "      <th>SibSp</th>\n",
              "      <th></th>\n",
              "      <th></th>\n",
              "      <th></th>\n",
              "    </tr>\n",
              "  </thead>\n",
              "  <tbody>\n",
              "    <tr>\n",
              "      <th rowspan=\"4\" valign=\"top\">1</th>\n",
              "      <th>0</th>\n",
              "      <td>137</td>\n",
              "      <td>0</td>\n",
              "      <td>0</td>\n",
              "    </tr>\n",
              "    <tr>\n",
              "      <th>1</th>\n",
              "      <td>71</td>\n",
              "      <td>0</td>\n",
              "      <td>0</td>\n",
              "    </tr>\n",
              "    <tr>\n",
              "      <th>2</th>\n",
              "      <td>5</td>\n",
              "      <td>0</td>\n",
              "      <td>0</td>\n",
              "    </tr>\n",
              "    <tr>\n",
              "      <th>3</th>\n",
              "      <td>3</td>\n",
              "      <td>0</td>\n",
              "      <td>0</td>\n",
              "    </tr>\n",
              "    <tr>\n",
              "      <th rowspan=\"4\" valign=\"top\">2</th>\n",
              "      <th>0</th>\n",
              "      <td>0</td>\n",
              "      <td>120</td>\n",
              "      <td>0</td>\n",
              "    </tr>\n",
              "    <tr>\n",
              "      <th>1</th>\n",
              "      <td>0</td>\n",
              "      <td>55</td>\n",
              "      <td>0</td>\n",
              "    </tr>\n",
              "    <tr>\n",
              "      <th>2</th>\n",
              "      <td>0</td>\n",
              "      <td>8</td>\n",
              "      <td>0</td>\n",
              "    </tr>\n",
              "    <tr>\n",
              "      <th>3</th>\n",
              "      <td>0</td>\n",
              "      <td>1</td>\n",
              "      <td>0</td>\n",
              "    </tr>\n",
              "    <tr>\n",
              "      <th rowspan=\"7\" valign=\"top\">3</th>\n",
              "      <th>0</th>\n",
              "      <td>0</td>\n",
              "      <td>0</td>\n",
              "      <td>351</td>\n",
              "    </tr>\n",
              "    <tr>\n",
              "      <th>1</th>\n",
              "      <td>0</td>\n",
              "      <td>0</td>\n",
              "      <td>83</td>\n",
              "    </tr>\n",
              "    <tr>\n",
              "      <th>2</th>\n",
              "      <td>0</td>\n",
              "      <td>0</td>\n",
              "      <td>15</td>\n",
              "    </tr>\n",
              "    <tr>\n",
              "      <th>3</th>\n",
              "      <td>0</td>\n",
              "      <td>0</td>\n",
              "      <td>12</td>\n",
              "    </tr>\n",
              "    <tr>\n",
              "      <th>4</th>\n",
              "      <td>0</td>\n",
              "      <td>0</td>\n",
              "      <td>18</td>\n",
              "    </tr>\n",
              "    <tr>\n",
              "      <th>5</th>\n",
              "      <td>0</td>\n",
              "      <td>0</td>\n",
              "      <td>5</td>\n",
              "    </tr>\n",
              "    <tr>\n",
              "      <th>8</th>\n",
              "      <td>0</td>\n",
              "      <td>0</td>\n",
              "      <td>7</td>\n",
              "    </tr>\n",
              "  </tbody>\n",
              "</table>\n",
              "</div>"
            ],
            "text/plain": [
              "Pclass          1    2    3\n",
              "Pclass SibSp               \n",
              "1      0      137    0    0\n",
              "       1       71    0    0\n",
              "       2        5    0    0\n",
              "       3        3    0    0\n",
              "2      0        0  120    0\n",
              "       1        0   55    0\n",
              "       2        0    8    0\n",
              "       3        0    1    0\n",
              "3      0        0    0  351\n",
              "       1        0    0   83\n",
              "       2        0    0   15\n",
              "       3        0    0   12\n",
              "       4        0    0   18\n",
              "       5        0    0    5\n",
              "       8        0    0    7"
            ]
          },
          "execution_count": 94,
          "metadata": {},
          "output_type": "execute_result"
        }
      ],
      "source": [
        "pd.crosstab([titanic.Pclass, titanic.SibSp], [titanic.Pclass])"
      ]
    },
    {
      "cell_type": "code",
      "execution_count": null,
      "id": "721ae230",
      "metadata": {
        "id": "721ae230"
      },
      "outputs": [],
      "source": [
        "# 형제자매/배우자가 5~8명인 경우는 대부분 3등선실에 탐승, 생존자 없음!!"
      ]
    },
    {
      "cell_type": "code",
      "execution_count": null,
      "id": "ff9ffd18",
      "metadata": {
        "id": "ff9ffd18",
        "outputId": "5a1c0c45-1dbc-42c2-932c-b9201aefb995"
      },
      "outputs": [
        {
          "data": {
            "text/html": [
              "<div>\n",
              "<style scoped>\n",
              "    .dataframe tbody tr th:only-of-type {\n",
              "        vertical-align: middle;\n",
              "    }\n",
              "\n",
              "    .dataframe tbody tr th {\n",
              "        vertical-align: top;\n",
              "    }\n",
              "\n",
              "    .dataframe thead th {\n",
              "        text-align: right;\n",
              "    }\n",
              "</style>\n",
              "<table border=\"1\" class=\"dataframe\">\n",
              "  <thead>\n",
              "    <tr style=\"text-align: right;\">\n",
              "      <th>Survived</th>\n",
              "      <th>0</th>\n",
              "      <th>1</th>\n",
              "    </tr>\n",
              "    <tr>\n",
              "      <th>Parch</th>\n",
              "      <th></th>\n",
              "      <th></th>\n",
              "    </tr>\n",
              "  </thead>\n",
              "  <tbody>\n",
              "    <tr>\n",
              "      <th>0</th>\n",
              "      <td>445</td>\n",
              "      <td>233</td>\n",
              "    </tr>\n",
              "    <tr>\n",
              "      <th>1</th>\n",
              "      <td>53</td>\n",
              "      <td>65</td>\n",
              "    </tr>\n",
              "    <tr>\n",
              "      <th>2</th>\n",
              "      <td>40</td>\n",
              "      <td>40</td>\n",
              "    </tr>\n",
              "    <tr>\n",
              "      <th>3</th>\n",
              "      <td>2</td>\n",
              "      <td>3</td>\n",
              "    </tr>\n",
              "    <tr>\n",
              "      <th>4</th>\n",
              "      <td>4</td>\n",
              "      <td>0</td>\n",
              "    </tr>\n",
              "    <tr>\n",
              "      <th>5</th>\n",
              "      <td>4</td>\n",
              "      <td>1</td>\n",
              "    </tr>\n",
              "    <tr>\n",
              "      <th>6</th>\n",
              "      <td>1</td>\n",
              "      <td>0</td>\n",
              "    </tr>\n",
              "  </tbody>\n",
              "</table>\n",
              "</div>"
            ],
            "text/plain": [
              "Survived    0    1\n",
              "Parch             \n",
              "0         445  233\n",
              "1          53   65\n",
              "2          40   40\n",
              "3           2    3\n",
              "4           4    0\n",
              "5           4    1\n",
              "6           1    0"
            ]
          },
          "execution_count": 26,
          "metadata": {},
          "output_type": "execute_result"
        }
      ],
      "source": [
        "# Parch(부모/아이들) : 이산형변수\n",
        "pd.crosstab([titanic.Parch], titanic.Survived) # 형제자매/배우자가 1~3명인 경우 생존 확룰 높음"
      ]
    },
    {
      "cell_type": "code",
      "execution_count": null,
      "id": "943f150e",
      "metadata": {
        "id": "943f150e",
        "outputId": "44eadbb4-2d4a-4db0-e48c-bef6119767d7"
      },
      "outputs": [
        {
          "name": "stderr",
          "output_type": "stream",
          "text": [
            "C:\\Users\\SIM-Koreatech\\anaconda3\\envs\\text\\lib\\site-packages\\seaborn\\_decorators.py:43: FutureWarning: Pass the following variables as keyword args: x, y. From version 0.12, the only valid positional argument will be `data`, and passing other arguments without an explicit keyword will result in an error or misinterpretation.\n",
            "  FutureWarning\n"
          ]
        },
        {
          "data": {
            "text/plain": [
              "<AxesSubplot:xlabel='Parch', ylabel='Survived'>"
            ]
          },
          "execution_count": 27,
          "metadata": {},
          "output_type": "execute_result"
        },
        {
          "data": {
            "image/png": "[encoded data removed]",
            "text/plain": [
              "<Figure size 432x288 with 1 Axes>"
            ]
          },
          "metadata": {
            "needs_background": "light"
          },
          "output_type": "display_data"
        }
      ],
      "source": [
        "sns.barplot('Parch', 'Survived', data = titanic, errwidth=0)"
      ]
    },
    {
      "cell_type": "code",
      "execution_count": null,
      "id": "e1209620",
      "metadata": {
        "id": "e1209620",
        "outputId": "9e394359-0210-471b-f4c4-32cb228d45ee"
      },
      "outputs": [
        {
          "data": {
            "text/html": [
              "<div>\n",
              "<style scoped>\n",
              "    .dataframe tbody tr th:only-of-type {\n",
              "        vertical-align: middle;\n",
              "    }\n",
              "\n",
              "    .dataframe tbody tr th {\n",
              "        vertical-align: top;\n",
              "    }\n",
              "\n",
              "    .dataframe thead th {\n",
              "        text-align: right;\n",
              "    }\n",
              "</style>\n",
              "<table border=\"1\" class=\"dataframe\">\n",
              "  <thead>\n",
              "    <tr style=\"text-align: right;\">\n",
              "      <th></th>\n",
              "      <th>Pclass</th>\n",
              "      <th>1</th>\n",
              "      <th>2</th>\n",
              "      <th>3</th>\n",
              "    </tr>\n",
              "    <tr>\n",
              "      <th>Pclass</th>\n",
              "      <th>Parch</th>\n",
              "      <th></th>\n",
              "      <th></th>\n",
              "      <th></th>\n",
              "    </tr>\n",
              "  </thead>\n",
              "  <tbody>\n",
              "    <tr>\n",
              "      <th rowspan=\"4\" valign=\"top\">1</th>\n",
              "      <th>0</th>\n",
              "      <td>163</td>\n",
              "      <td>0</td>\n",
              "      <td>0</td>\n",
              "    </tr>\n",
              "    <tr>\n",
              "      <th>1</th>\n",
              "      <td>31</td>\n",
              "      <td>0</td>\n",
              "      <td>0</td>\n",
              "    </tr>\n",
              "    <tr>\n",
              "      <th>2</th>\n",
              "      <td>21</td>\n",
              "      <td>0</td>\n",
              "      <td>0</td>\n",
              "    </tr>\n",
              "    <tr>\n",
              "      <th>4</th>\n",
              "      <td>1</td>\n",
              "      <td>0</td>\n",
              "      <td>0</td>\n",
              "    </tr>\n",
              "    <tr>\n",
              "      <th rowspan=\"4\" valign=\"top\">2</th>\n",
              "      <th>0</th>\n",
              "      <td>0</td>\n",
              "      <td>134</td>\n",
              "      <td>0</td>\n",
              "    </tr>\n",
              "    <tr>\n",
              "      <th>1</th>\n",
              "      <td>0</td>\n",
              "      <td>32</td>\n",
              "      <td>0</td>\n",
              "    </tr>\n",
              "    <tr>\n",
              "      <th>2</th>\n",
              "      <td>0</td>\n",
              "      <td>16</td>\n",
              "      <td>0</td>\n",
              "    </tr>\n",
              "    <tr>\n",
              "      <th>3</th>\n",
              "      <td>0</td>\n",
              "      <td>2</td>\n",
              "      <td>0</td>\n",
              "    </tr>\n",
              "    <tr>\n",
              "      <th rowspan=\"7\" valign=\"top\">3</th>\n",
              "      <th>0</th>\n",
              "      <td>0</td>\n",
              "      <td>0</td>\n",
              "      <td>381</td>\n",
              "    </tr>\n",
              "    <tr>\n",
              "      <th>1</th>\n",
              "      <td>0</td>\n",
              "      <td>0</td>\n",
              "      <td>55</td>\n",
              "    </tr>\n",
              "    <tr>\n",
              "      <th>2</th>\n",
              "      <td>0</td>\n",
              "      <td>0</td>\n",
              "      <td>43</td>\n",
              "    </tr>\n",
              "    <tr>\n",
              "      <th>3</th>\n",
              "      <td>0</td>\n",
              "      <td>0</td>\n",
              "      <td>3</td>\n",
              "    </tr>\n",
              "    <tr>\n",
              "      <th>4</th>\n",
              "      <td>0</td>\n",
              "      <td>0</td>\n",
              "      <td>3</td>\n",
              "    </tr>\n",
              "    <tr>\n",
              "      <th>5</th>\n",
              "      <td>0</td>\n",
              "      <td>0</td>\n",
              "      <td>5</td>\n",
              "    </tr>\n",
              "    <tr>\n",
              "      <th>6</th>\n",
              "      <td>0</td>\n",
              "      <td>0</td>\n",
              "      <td>1</td>\n",
              "    </tr>\n",
              "  </tbody>\n",
              "</table>\n",
              "</div>"
            ],
            "text/plain": [
              "Pclass          1    2    3\n",
              "Pclass Parch               \n",
              "1      0      163    0    0\n",
              "       1       31    0    0\n",
              "       2       21    0    0\n",
              "       4        1    0    0\n",
              "2      0        0  134    0\n",
              "       1        0   32    0\n",
              "       2        0   16    0\n",
              "       3        0    2    0\n",
              "3      0        0    0  381\n",
              "       1        0    0   55\n",
              "       2        0    0   43\n",
              "       3        0    0    3\n",
              "       4        0    0    3\n",
              "       5        0    0    5\n",
              "       6        0    0    1"
            ]
          },
          "execution_count": 28,
          "metadata": {},
          "output_type": "execute_result"
        }
      ],
      "source": [
        "pd.crosstab([titanic.Pclass, titanic.Parch], [titanic.Pclass])"
      ]
    },
    {
      "cell_type": "code",
      "execution_count": null,
      "id": "7f530a71",
      "metadata": {
        "id": "7f530a71"
      },
      "outputs": [],
      "source": [
        "# Ticket 번호는 생존율과 관계 없으니 분석하지 않음"
      ]
    },
    {
      "cell_type": "code",
      "execution_count": null,
      "id": "adf41d17",
      "metadata": {
        "id": "adf41d17",
        "outputId": "924d1a25-183e-419f-f5ac-905e6dfcb411"
      },
      "outputs": [
        {
          "name": "stdout",
          "output_type": "stream",
          "text": [
            "512.3292\n",
            "0.0\n",
            "32.2042079685746\n"
          ]
        }
      ],
      "source": [
        "# Fare : 연속형 변수\n",
        "print(titanic['Fare'].max())\n",
        "print(titanic['Fare'].min())\n",
        "print(titanic['Fare'].mean())"
      ]
    },
    {
      "cell_type": "code",
      "execution_count": null,
      "id": "73f45f74",
      "metadata": {
        "id": "73f45f74",
        "outputId": "370fcc19-45eb-4df7-ec84-757e0bb6c6c9"
      },
      "outputs": [
        {
          "name": "stderr",
          "output_type": "stream",
          "text": [
            "C:\\Users\\SIM-Koreatech\\anaconda3\\envs\\text\\lib\\site-packages\\seaborn\\distributions.py:2619: FutureWarning: `distplot` is a deprecated function and will be removed in a future version. Please adapt your code to use either `displot` (a figure-level function with similar flexibility) or `histplot` (an axes-level function for histograms).\n",
            "  warnings.warn(msg, FutureWarning)\n",
            "C:\\Users\\SIM-Koreatech\\anaconda3\\envs\\text\\lib\\site-packages\\seaborn\\distributions.py:2619: FutureWarning: `distplot` is a deprecated function and will be removed in a future version. Please adapt your code to use either `displot` (a figure-level function with similar flexibility) or `histplot` (an axes-level function for histograms).\n",
            "  warnings.warn(msg, FutureWarning)\n",
            "C:\\Users\\SIM-Koreatech\\anaconda3\\envs\\text\\lib\\site-packages\\seaborn\\distributions.py:2619: FutureWarning: `distplot` is a deprecated function and will be removed in a future version. Please adapt your code to use either `displot` (a figure-level function with similar flexibility) or `histplot` (an axes-level function for histograms).\n",
            "  warnings.warn(msg, FutureWarning)\n",
            "C:\\Users\\SIM-Koreatech\\anaconda3\\envs\\text\\lib\\site-packages\\IPython\\core\\pylabtools.py:151: UserWarning: Glyph 8722 (\\N{MINUS SIGN}) missing from current font.\n",
            "  fig.canvas.print_figure(bytes_io, **kw)\n"
          ]
        },
        {
          "data": {
            "image/png": "[encoded data removed]",
            "text/plain": [
              "<Figure size 1440x576 with 3 Axes>"
            ]
          },
          "metadata": {
            "needs_background": "light"
          },
          "output_type": "display_data"
        }
      ],
      "source": [
        "f,ax=plt.subplots(1,3,figsize=(20,8))\n",
        "sns.distplot(titanic[titanic['Pclass']==1].Fare,ax=ax[0])\n",
        "ax[0].set_title('1등 객실 운임')\n",
        "sns.distplot(titanic[titanic['Pclass']==2].Fare,ax=ax[1])\n",
        "ax[1].set_title('2등 객실 운임')\n",
        "sns.distplot(titanic[titanic['Pclass']==3].Fare,ax=ax[2])\n",
        "ax[2].set_title('3등 객실 운임')\n",
        "plt.show()"
      ]
    },
    {
      "cell_type": "markdown",
      "id": "70a55617",
      "metadata": {
        "id": "70a55617"
      },
      "source": [
        "### 6) 변수간 상관관계 분석"
      ]
    },
    {
      "cell_type": "code",
      "execution_count": null,
      "id": "a26d71b6",
      "metadata": {
        "id": "a26d71b6",
        "outputId": "df785cb4-2a91-407f-e4fd-e52e47a70d8b"
      },
      "outputs": [
        {
          "data": {
            "text/plain": [
              "<AxesSubplot:>"
            ]
          },
          "execution_count": 50,
          "metadata": {},
          "output_type": "execute_result"
        },
        {
          "data": {
            "image/png": "[encoded data removed]",
            "text/plain": [
              "<Figure size 720x576 with 2 Axes>"
            ]
          },
          "metadata": {
            "needs_background": "light"
          },
          "output_type": "display_data"
        }
      ],
      "source": [
        "plt.figure(figsize=(10,8))\n",
        "sns.heatmap(titanic.corr(),cmap='Oranges',annot=True)"
      ]
    },
    {
      "cell_type": "markdown",
      "id": "9f66cb4c",
      "metadata": {
        "id": "9f66cb4c"
      },
      "source": [
        "## 3. 데이터 전처리"
      ]
    },
    {
      "cell_type": "code",
      "execution_count": null,
      "id": "3479968f",
      "metadata": {
        "id": "3479968f",
        "outputId": "1462051f-cb5f-4077-ea05-eb4be562a0a5"
      },
      "outputs": [
        {
          "data": {
            "text/plain": [
              "<AxesSubplot:ylabel='Frequency'>"
            ]
          },
          "execution_count": 53,
          "metadata": {},
          "output_type": "execute_result"
        },
        {
          "data": {
            "image/png": "[encoded data removed]",
            "text/plain": [
              "<Figure size 432x288 with 1 Axes>"
            ]
          },
          "metadata": {
            "needs_background": "light"
          },
          "output_type": "display_data"
        }
      ],
      "source": [
        "# age를 구간으로 변경하는 파생변수 생성\n",
        "# 분류모델에서 연속형 변수를 그대로 적용하면 머신러닝 모델의 복잡도가 증가하기 때문에 가능하면 구간화 처리가 바람직\n",
        "titanic.Age.plot.hist(bins=20,edgecolor='black',color='red')\n"
      ]
    },
    {
      "cell_type": "code",
      "execution_count": null,
      "id": "4c9f32c1",
      "metadata": {
        "id": "4c9f32c1"
      },
      "outputs": [],
      "source": [
        "titanic.loc[titanic['Age']< 10,'Age_group']=0\n",
        "titanic.loc[(titanic['Age']>=10)&(titanic['Age']< 20),'Age_group']=1\n",
        "titanic.loc[(titanic['Age']>=20)&(titanic['Age']< 30),'Age_group']=2\n",
        "titanic.loc[(titanic['Age']>=30)&(titanic['Age']< 40),'Age_group']=3\n",
        "titanic.loc[(titanic['Age']>=40)&(titanic['Age']< 50),'Age_group']=4\n",
        "titanic.loc[titanic['Age']>= 50,'Age_group']=5"
      ]
    },
    {
      "cell_type": "code",
      "execution_count": null,
      "id": "e9997911",
      "metadata": {
        "id": "e9997911",
        "outputId": "a0c3b446-8c8f-436f-e84c-6dc58ef55a48"
      },
      "outputs": [
        {
          "data": {
            "text/html": [
              "<div>\n",
              "<style scoped>\n",
              "    .dataframe tbody tr th:only-of-type {\n",
              "        vertical-align: middle;\n",
              "    }\n",
              "\n",
              "    .dataframe tbody tr th {\n",
              "        vertical-align: top;\n",
              "    }\n",
              "\n",
              "    .dataframe thead th {\n",
              "        text-align: right;\n",
              "    }\n",
              "</style>\n",
              "<table border=\"1\" class=\"dataframe\">\n",
              "  <thead>\n",
              "    <tr style=\"text-align: right;\">\n",
              "      <th></th>\n",
              "      <th>PassengerId</th>\n",
              "      <th>Survived</th>\n",
              "      <th>Pclass</th>\n",
              "      <th>Name</th>\n",
              "      <th>Sex</th>\n",
              "      <th>Age</th>\n",
              "      <th>SibSp</th>\n",
              "      <th>Parch</th>\n",
              "      <th>Ticket</th>\n",
              "      <th>Fare</th>\n",
              "      <th>Cabin</th>\n",
              "      <th>Embarked</th>\n",
              "      <th>Initial</th>\n",
              "      <th>Age_group</th>\n",
              "    </tr>\n",
              "  </thead>\n",
              "  <tbody>\n",
              "    <tr>\n",
              "      <th>0</th>\n",
              "      <td>1</td>\n",
              "      <td>0</td>\n",
              "      <td>3</td>\n",
              "      <td>Braund, Mr. Owen Harris</td>\n",
              "      <td>male</td>\n",
              "      <td>22.0</td>\n",
              "      <td>1</td>\n",
              "      <td>0</td>\n",
              "      <td>A/5 21171</td>\n",
              "      <td>7.2500</td>\n",
              "      <td>NaN</td>\n",
              "      <td>S</td>\n",
              "      <td>Mr</td>\n",
              "      <td>2.0</td>\n",
              "    </tr>\n",
              "    <tr>\n",
              "      <th>1</th>\n",
              "      <td>2</td>\n",
              "      <td>1</td>\n",
              "      <td>1</td>\n",
              "      <td>Cumings, Mrs. John Bradley (Florence Briggs Th...</td>\n",
              "      <td>female</td>\n",
              "      <td>38.0</td>\n",
              "      <td>1</td>\n",
              "      <td>0</td>\n",
              "      <td>PC 17599</td>\n",
              "      <td>71.2833</td>\n",
              "      <td>C85</td>\n",
              "      <td>C</td>\n",
              "      <td>Mrs</td>\n",
              "      <td>3.0</td>\n",
              "    </tr>\n",
              "    <tr>\n",
              "      <th>2</th>\n",
              "      <td>3</td>\n",
              "      <td>1</td>\n",
              "      <td>3</td>\n",
              "      <td>Heikkinen, Miss. Laina</td>\n",
              "      <td>female</td>\n",
              "      <td>26.0</td>\n",
              "      <td>0</td>\n",
              "      <td>0</td>\n",
              "      <td>STON/O2. 3101282</td>\n",
              "      <td>7.9250</td>\n",
              "      <td>NaN</td>\n",
              "      <td>S</td>\n",
              "      <td>Miss</td>\n",
              "      <td>2.0</td>\n",
              "    </tr>\n",
              "    <tr>\n",
              "      <th>3</th>\n",
              "      <td>4</td>\n",
              "      <td>1</td>\n",
              "      <td>1</td>\n",
              "      <td>Futrelle, Mrs. Jacques Heath (Lily May Peel)</td>\n",
              "      <td>female</td>\n",
              "      <td>35.0</td>\n",
              "      <td>1</td>\n",
              "      <td>0</td>\n",
              "      <td>113803</td>\n",
              "      <td>53.1000</td>\n",
              "      <td>C123</td>\n",
              "      <td>S</td>\n",
              "      <td>Mrs</td>\n",
              "      <td>3.0</td>\n",
              "    </tr>\n",
              "    <tr>\n",
              "      <th>4</th>\n",
              "      <td>5</td>\n",
              "      <td>0</td>\n",
              "      <td>3</td>\n",
              "      <td>Allen, Mr. William Henry</td>\n",
              "      <td>male</td>\n",
              "      <td>35.0</td>\n",
              "      <td>0</td>\n",
              "      <td>0</td>\n",
              "      <td>373450</td>\n",
              "      <td>8.0500</td>\n",
              "      <td>NaN</td>\n",
              "      <td>S</td>\n",
              "      <td>Mr</td>\n",
              "      <td>3.0</td>\n",
              "    </tr>\n",
              "  </tbody>\n",
              "</table>\n",
              "</div>"
            ],
            "text/plain": [
              "   PassengerId  Survived  Pclass  \\\n",
              "0            1         0       3   \n",
              "1            2         1       1   \n",
              "2            3         1       3   \n",
              "3            4         1       1   \n",
              "4            5         0       3   \n",
              "\n",
              "                                                Name     Sex   Age  SibSp  \\\n",
              "0                            Braund, Mr. Owen Harris    male  22.0      1   \n",
              "1  Cumings, Mrs. John Bradley (Florence Briggs Th...  female  38.0      1   \n",
              "2                             Heikkinen, Miss. Laina  female  26.0      0   \n",
              "3       Futrelle, Mrs. Jacques Heath (Lily May Peel)  female  35.0      1   \n",
              "4                           Allen, Mr. William Henry    male  35.0      0   \n",
              "\n",
              "   Parch            Ticket     Fare Cabin Embarked Initial  Age_group  \n",
              "0      0         A/5 21171   7.2500   NaN        S      Mr        2.0  \n",
              "1      0          PC 17599  71.2833   C85        C     Mrs        3.0  \n",
              "2      0  STON/O2. 3101282   7.9250   NaN        S    Miss        2.0  \n",
              "3      0            113803  53.1000  C123        S     Mrs        3.0  \n",
              "4      0            373450   8.0500   NaN        S      Mr        3.0  "
            ]
          },
          "execution_count": 22,
          "metadata": {},
          "output_type": "execute_result"
        }
      ],
      "source": [
        "titanic.head()"
      ]
    },
    {
      "cell_type": "code",
      "execution_count": null,
      "id": "55b76b3a",
      "metadata": {
        "id": "55b76b3a",
        "outputId": "8b71b614-154e-4ce9-aca3-48e0cef04b70"
      },
      "outputs": [
        {
          "data": {
            "text/plain": [
              "3.0    304\n",
              "2.0    256\n",
              "1.0    102\n",
              "4.0     89\n",
              "5.0     74\n",
              "0.0     66\n",
              "Name: Age_group, dtype: int64"
            ]
          },
          "execution_count": 23,
          "metadata": {},
          "output_type": "execute_result"
        }
      ],
      "source": [
        "titanic['Age_group'].value_counts()"
      ]
    },
    {
      "cell_type": "code",
      "execution_count": null,
      "id": "2b9b1e1d",
      "metadata": {
        "id": "2b9b1e1d"
      },
      "outputs": [],
      "source": [
        "# SibSp와 Parch를 합쳐서 family라는 파생변수 생성\n",
        "titanic['family']=titanic['Parch']+titanic['SibSp']"
      ]
    },
    {
      "cell_type": "code",
      "execution_count": null,
      "id": "f534218c",
      "metadata": {
        "id": "f534218c",
        "outputId": "761a7035-8680-4719-ff89-56a4d33f7f19"
      },
      "outputs": [
        {
          "data": {
            "text/html": [
              "<div>\n",
              "<style scoped>\n",
              "    .dataframe tbody tr th:only-of-type {\n",
              "        vertical-align: middle;\n",
              "    }\n",
              "\n",
              "    .dataframe tbody tr th {\n",
              "        vertical-align: top;\n",
              "    }\n",
              "\n",
              "    .dataframe thead th {\n",
              "        text-align: right;\n",
              "    }\n",
              "</style>\n",
              "<table border=\"1\" class=\"dataframe\">\n",
              "  <thead>\n",
              "    <tr style=\"text-align: right;\">\n",
              "      <th></th>\n",
              "      <th>PassengerId</th>\n",
              "      <th>Survived</th>\n",
              "      <th>Pclass</th>\n",
              "      <th>Name</th>\n",
              "      <th>Sex</th>\n",
              "      <th>Age</th>\n",
              "      <th>SibSp</th>\n",
              "      <th>Parch</th>\n",
              "      <th>Ticket</th>\n",
              "      <th>Fare</th>\n",
              "      <th>Cabin</th>\n",
              "      <th>Embarked</th>\n",
              "      <th>Initial</th>\n",
              "      <th>Age_group</th>\n",
              "      <th>family</th>\n",
              "    </tr>\n",
              "  </thead>\n",
              "  <tbody>\n",
              "    <tr>\n",
              "      <th>0</th>\n",
              "      <td>1</td>\n",
              "      <td>0</td>\n",
              "      <td>3</td>\n",
              "      <td>Braund, Mr. Owen Harris</td>\n",
              "      <td>male</td>\n",
              "      <td>22.0</td>\n",
              "      <td>1</td>\n",
              "      <td>0</td>\n",
              "      <td>A/5 21171</td>\n",
              "      <td>7.2500</td>\n",
              "      <td>NaN</td>\n",
              "      <td>S</td>\n",
              "      <td>Mr</td>\n",
              "      <td>2.0</td>\n",
              "      <td>1</td>\n",
              "    </tr>\n",
              "    <tr>\n",
              "      <th>1</th>\n",
              "      <td>2</td>\n",
              "      <td>1</td>\n",
              "      <td>1</td>\n",
              "      <td>Cumings, Mrs. John Bradley (Florence Briggs Th...</td>\n",
              "      <td>female</td>\n",
              "      <td>38.0</td>\n",
              "      <td>1</td>\n",
              "      <td>0</td>\n",
              "      <td>PC 17599</td>\n",
              "      <td>71.2833</td>\n",
              "      <td>C85</td>\n",
              "      <td>C</td>\n",
              "      <td>Mrs</td>\n",
              "      <td>3.0</td>\n",
              "      <td>1</td>\n",
              "    </tr>\n",
              "    <tr>\n",
              "      <th>2</th>\n",
              "      <td>3</td>\n",
              "      <td>1</td>\n",
              "      <td>3</td>\n",
              "      <td>Heikkinen, Miss. Laina</td>\n",
              "      <td>female</td>\n",
              "      <td>26.0</td>\n",
              "      <td>0</td>\n",
              "      <td>0</td>\n",
              "      <td>STON/O2. 3101282</td>\n",
              "      <td>7.9250</td>\n",
              "      <td>NaN</td>\n",
              "      <td>S</td>\n",
              "      <td>Miss</td>\n",
              "      <td>2.0</td>\n",
              "      <td>0</td>\n",
              "    </tr>\n",
              "    <tr>\n",
              "      <th>3</th>\n",
              "      <td>4</td>\n",
              "      <td>1</td>\n",
              "      <td>1</td>\n",
              "      <td>Futrelle, Mrs. Jacques Heath (Lily May Peel)</td>\n",
              "      <td>female</td>\n",
              "      <td>35.0</td>\n",
              "      <td>1</td>\n",
              "      <td>0</td>\n",
              "      <td>113803</td>\n",
              "      <td>53.1000</td>\n",
              "      <td>C123</td>\n",
              "      <td>S</td>\n",
              "      <td>Mrs</td>\n",
              "      <td>3.0</td>\n",
              "      <td>1</td>\n",
              "    </tr>\n",
              "    <tr>\n",
              "      <th>4</th>\n",
              "      <td>5</td>\n",
              "      <td>0</td>\n",
              "      <td>3</td>\n",
              "      <td>Allen, Mr. William Henry</td>\n",
              "      <td>male</td>\n",
              "      <td>35.0</td>\n",
              "      <td>0</td>\n",
              "      <td>0</td>\n",
              "      <td>373450</td>\n",
              "      <td>8.0500</td>\n",
              "      <td>NaN</td>\n",
              "      <td>S</td>\n",
              "      <td>Mr</td>\n",
              "      <td>3.0</td>\n",
              "      <td>0</td>\n",
              "    </tr>\n",
              "  </tbody>\n",
              "</table>\n",
              "</div>"
            ],
            "text/plain": [
              "   PassengerId  Survived  Pclass  \\\n",
              "0            1         0       3   \n",
              "1            2         1       1   \n",
              "2            3         1       3   \n",
              "3            4         1       1   \n",
              "4            5         0       3   \n",
              "\n",
              "                                                Name     Sex   Age  SibSp  \\\n",
              "0                            Braund, Mr. Owen Harris    male  22.0      1   \n",
              "1  Cumings, Mrs. John Bradley (Florence Briggs Th...  female  38.0      1   \n",
              "2                             Heikkinen, Miss. Laina  female  26.0      0   \n",
              "3       Futrelle, Mrs. Jacques Heath (Lily May Peel)  female  35.0      1   \n",
              "4                           Allen, Mr. William Henry    male  35.0      0   \n",
              "\n",
              "   Parch            Ticket     Fare Cabin Embarked Initial  Age_group  family  \n",
              "0      0         A/5 21171   7.2500   NaN        S      Mr        2.0       1  \n",
              "1      0          PC 17599  71.2833   C85        C     Mrs        3.0       1  \n",
              "2      0  STON/O2. 3101282   7.9250   NaN        S    Miss        2.0       0  \n",
              "3      0            113803  53.1000  C123        S     Mrs        3.0       1  \n",
              "4      0            373450   8.0500   NaN        S      Mr        3.0       0  "
            ]
          },
          "execution_count": 25,
          "metadata": {},
          "output_type": "execute_result"
        }
      ],
      "source": [
        "titanic.head()"
      ]
    },
    {
      "cell_type": "code",
      "execution_count": null,
      "id": "992c8e4d",
      "metadata": {
        "id": "992c8e4d"
      },
      "outputs": [],
      "source": [
        "# 가족이 없는 경우에 대한 파생변수 생성\n",
        "# 가족이 있는 경우와 없는 경우 생존율 비교\n",
        "titanic['Alone']=0\n",
        "titanic.loc[titanic.family==0,'Alone']=1"
      ]
    },
    {
      "cell_type": "code",
      "execution_count": null,
      "id": "4b8f1030",
      "metadata": {
        "id": "4b8f1030",
        "outputId": "f5b8e96d-da0e-41f3-a03a-9213b85d0264"
      },
      "outputs": [
        {
          "name": "stderr",
          "output_type": "stream",
          "text": [
            "C:\\Users\\SIM-Koreatech\\anaconda3\\envs\\text\\lib\\site-packages\\seaborn\\categorical.py:3717: UserWarning: The `factorplot` function has been renamed to `catplot`. The original name will be removed in a future release. Please update your code. Note that the default `kind` in `factorplot` (`'point'`) has changed `'strip'` in `catplot`.\n",
            "  warnings.warn(msg)\n",
            "C:\\Users\\SIM-Koreatech\\anaconda3\\envs\\text\\lib\\site-packages\\seaborn\\_decorators.py:43: FutureWarning: Pass the following variables as keyword args: x, y. From version 0.12, the only valid positional argument will be `data`, and passing other arguments without an explicit keyword will result in an error or misinterpretation.\n",
            "  FutureWarning\n"
          ]
        },
        {
          "data": {
            "text/plain": [
              "<seaborn.axisgrid.FacetGrid at 0x20b552e6848>"
            ]
          },
          "execution_count": 35,
          "metadata": {},
          "output_type": "execute_result"
        },
        {
          "data": {
            "image/png": "[encoded data removed]",
            "text/plain": [
              "<Figure size 360x360 with 1 Axes>"
            ]
          },
          "metadata": {
            "needs_background": "light"
          },
          "output_type": "display_data"
        }
      ],
      "source": [
        "# 가족인원수 별 생존율\n",
        "sns.factorplot('family','Survived',data=titanic, errwidth=0)"
      ]
    },
    {
      "cell_type": "code",
      "execution_count": null,
      "id": "2b4ff1e8",
      "metadata": {
        "id": "2b4ff1e8",
        "outputId": "2b8aece0-1299-43d3-f166-d164fad8f440"
      },
      "outputs": [
        {
          "name": "stderr",
          "output_type": "stream",
          "text": [
            "C:\\Users\\SIM-Koreatech\\anaconda3\\envs\\text\\lib\\site-packages\\seaborn\\categorical.py:3717: UserWarning: The `factorplot` function has been renamed to `catplot`. The original name will be removed in a future release. Please update your code. Note that the default `kind` in `factorplot` (`'point'`) has changed `'strip'` in `catplot`.\n",
            "  warnings.warn(msg)\n",
            "C:\\Users\\SIM-Koreatech\\anaconda3\\envs\\text\\lib\\site-packages\\seaborn\\_decorators.py:43: FutureWarning: Pass the following variables as keyword args: x, y. From version 0.12, the only valid positional argument will be `data`, and passing other arguments without an explicit keyword will result in an error or misinterpretation.\n",
            "  FutureWarning\n"
          ]
        },
        {
          "data": {
            "text/plain": [
              "<seaborn.axisgrid.FacetGrid at 0x20b553339c8>"
            ]
          },
          "execution_count": 37,
          "metadata": {},
          "output_type": "execute_result"
        },
        {
          "data": {
            "image/png": "[encoded data removed]",
            "text/plain": [
              "<Figure size 360x360 with 1 Axes>"
            ]
          },
          "metadata": {
            "needs_background": "light"
          },
          "output_type": "display_data"
        }
      ],
      "source": [
        "# 가족이 있는 경우와 없는 경우 생존율 비교\n",
        "# alone=1은 가족이 1명도 없는 경우\n",
        "sns.factorplot('Alone','Survived',data=titanic, errwidth=0)"
      ]
    },
    {
      "cell_type": "code",
      "execution_count": null,
      "id": "926c1bbd",
      "metadata": {
        "id": "926c1bbd",
        "outputId": "040210b3-d77f-4d51-8a55-096205bc2df8"
      },
      "outputs": [
        {
          "data": {
            "text/plain": [
              "<AxesSubplot:ylabel='Frequency'>"
            ]
          },
          "execution_count": 41,
          "metadata": {},
          "output_type": "execute_result"
        },
        {
          "data": {
            "image/png": "[encoded data removed]",
            "text/plain": [
              "<Figure size 432x288 with 1 Axes>"
            ]
          },
          "metadata": {
            "needs_background": "light"
          },
          "output_type": "display_data"
        }
      ],
      "source": [
        "# Fare를 구간으로 변경하는 파생변수 생성\n",
        "titanic.Fare.plot.hist(bins=20,edgecolor='black',color='blue')"
      ]
    },
    {
      "cell_type": "code",
      "execution_count": null,
      "id": "aa34b052",
      "metadata": {
        "id": "aa34b052",
        "outputId": "6ebc0735-8dc4-412d-8d56-55332724baf0"
      },
      "outputs": [
        {
          "name": "stdout",
          "output_type": "stream",
          "text": [
            "512.3292\n",
            "0.0\n",
            "32.2042079685746\n"
          ]
        }
      ],
      "source": [
        "print(titanic['Fare'].max())\n",
        "print(titanic['Fare'].min())\n",
        "print(titanic['Fare'].mean())"
      ]
    },
    {
      "cell_type": "code",
      "execution_count": null,
      "id": "15168342",
      "metadata": {
        "id": "15168342"
      },
      "outputs": [],
      "source": [
        "ranges=[0, 10, 20, 30, 40, 100, 520]\n",
        "titanic['fare_bins'] = pd.cut(titanic['Fare'],ranges)"
      ]
    },
    {
      "cell_type": "code",
      "execution_count": null,
      "id": "216a0aba",
      "metadata": {
        "id": "216a0aba",
        "outputId": "879df597-29fe-4aac-8347-1be7501f3368"
      },
      "outputs": [
        {
          "data": {
            "text/plain": [
              "(0, 10]       321\n",
              "(10, 20]      179\n",
              "(20, 30]      142\n",
              "(40, 100]     123\n",
              "(30, 40]       58\n",
              "(100, 520]     53\n",
              "Name: fare_bins, dtype: int64"
            ]
          },
          "execution_count": 44,
          "metadata": {},
          "output_type": "execute_result"
        }
      ],
      "source": [
        "titanic['fare_bins'].value_counts()"
      ]
    },
    {
      "cell_type": "code",
      "execution_count": null,
      "id": "3ff373d6",
      "metadata": {
        "id": "3ff373d6",
        "outputId": "2198c1af-21d0-4e2b-ed75-3cebc03d52bf"
      },
      "outputs": [
        {
          "data": {
            "text/html": [
              "<div>\n",
              "<style scoped>\n",
              "    .dataframe tbody tr th:only-of-type {\n",
              "        vertical-align: middle;\n",
              "    }\n",
              "\n",
              "    .dataframe tbody tr th {\n",
              "        vertical-align: top;\n",
              "    }\n",
              "\n",
              "    .dataframe thead th {\n",
              "        text-align: right;\n",
              "    }\n",
              "</style>\n",
              "<table border=\"1\" class=\"dataframe\">\n",
              "  <thead>\n",
              "    <tr style=\"text-align: right;\">\n",
              "      <th></th>\n",
              "      <th>PassengerId</th>\n",
              "      <th>Survived</th>\n",
              "      <th>Pclass</th>\n",
              "      <th>Name</th>\n",
              "      <th>Sex</th>\n",
              "      <th>Age</th>\n",
              "      <th>SibSp</th>\n",
              "      <th>Parch</th>\n",
              "      <th>Ticket</th>\n",
              "      <th>Fare</th>\n",
              "      <th>Cabin</th>\n",
              "      <th>Embarked</th>\n",
              "      <th>Initial</th>\n",
              "      <th>Age_group</th>\n",
              "      <th>family</th>\n",
              "      <th>Alone</th>\n",
              "      <th>fare_bins</th>\n",
              "    </tr>\n",
              "  </thead>\n",
              "  <tbody>\n",
              "    <tr>\n",
              "      <th>0</th>\n",
              "      <td>1</td>\n",
              "      <td>0</td>\n",
              "      <td>3</td>\n",
              "      <td>Braund, Mr. Owen Harris</td>\n",
              "      <td>male</td>\n",
              "      <td>22.0</td>\n",
              "      <td>1</td>\n",
              "      <td>0</td>\n",
              "      <td>A/5 21171</td>\n",
              "      <td>7.2500</td>\n",
              "      <td>NaN</td>\n",
              "      <td>S</td>\n",
              "      <td>Mr</td>\n",
              "      <td>2.0</td>\n",
              "      <td>1</td>\n",
              "      <td>0</td>\n",
              "      <td>(0, 10]</td>\n",
              "    </tr>\n",
              "    <tr>\n",
              "      <th>1</th>\n",
              "      <td>2</td>\n",
              "      <td>1</td>\n",
              "      <td>1</td>\n",
              "      <td>Cumings, Mrs. John Bradley (Florence Briggs Th...</td>\n",
              "      <td>female</td>\n",
              "      <td>38.0</td>\n",
              "      <td>1</td>\n",
              "      <td>0</td>\n",
              "      <td>PC 17599</td>\n",
              "      <td>71.2833</td>\n",
              "      <td>C85</td>\n",
              "      <td>C</td>\n",
              "      <td>Mrs</td>\n",
              "      <td>3.0</td>\n",
              "      <td>1</td>\n",
              "      <td>0</td>\n",
              "      <td>(40, 100]</td>\n",
              "    </tr>\n",
              "    <tr>\n",
              "      <th>2</th>\n",
              "      <td>3</td>\n",
              "      <td>1</td>\n",
              "      <td>3</td>\n",
              "      <td>Heikkinen, Miss. Laina</td>\n",
              "      <td>female</td>\n",
              "      <td>26.0</td>\n",
              "      <td>0</td>\n",
              "      <td>0</td>\n",
              "      <td>STON/O2. 3101282</td>\n",
              "      <td>7.9250</td>\n",
              "      <td>NaN</td>\n",
              "      <td>S</td>\n",
              "      <td>Miss</td>\n",
              "      <td>2.0</td>\n",
              "      <td>0</td>\n",
              "      <td>1</td>\n",
              "      <td>(0, 10]</td>\n",
              "    </tr>\n",
              "    <tr>\n",
              "      <th>3</th>\n",
              "      <td>4</td>\n",
              "      <td>1</td>\n",
              "      <td>1</td>\n",
              "      <td>Futrelle, Mrs. Jacques Heath (Lily May Peel)</td>\n",
              "      <td>female</td>\n",
              "      <td>35.0</td>\n",
              "      <td>1</td>\n",
              "      <td>0</td>\n",
              "      <td>113803</td>\n",
              "      <td>53.1000</td>\n",
              "      <td>C123</td>\n",
              "      <td>S</td>\n",
              "      <td>Mrs</td>\n",
              "      <td>3.0</td>\n",
              "      <td>1</td>\n",
              "      <td>0</td>\n",
              "      <td>(40, 100]</td>\n",
              "    </tr>\n",
              "    <tr>\n",
              "      <th>4</th>\n",
              "      <td>5</td>\n",
              "      <td>0</td>\n",
              "      <td>3</td>\n",
              "      <td>Allen, Mr. William Henry</td>\n",
              "      <td>male</td>\n",
              "      <td>35.0</td>\n",
              "      <td>0</td>\n",
              "      <td>0</td>\n",
              "      <td>373450</td>\n",
              "      <td>8.0500</td>\n",
              "      <td>NaN</td>\n",
              "      <td>S</td>\n",
              "      <td>Mr</td>\n",
              "      <td>3.0</td>\n",
              "      <td>0</td>\n",
              "      <td>1</td>\n",
              "      <td>(0, 10]</td>\n",
              "    </tr>\n",
              "  </tbody>\n",
              "</table>\n",
              "</div>"
            ],
            "text/plain": [
              "   PassengerId  Survived  Pclass  \\\n",
              "0            1         0       3   \n",
              "1            2         1       1   \n",
              "2            3         1       3   \n",
              "3            4         1       1   \n",
              "4            5         0       3   \n",
              "\n",
              "                                                Name     Sex   Age  SibSp  \\\n",
              "0                            Braund, Mr. Owen Harris    male  22.0      1   \n",
              "1  Cumings, Mrs. John Bradley (Florence Briggs Th...  female  38.0      1   \n",
              "2                             Heikkinen, Miss. Laina  female  26.0      0   \n",
              "3       Futrelle, Mrs. Jacques Heath (Lily May Peel)  female  35.0      1   \n",
              "4                           Allen, Mr. William Henry    male  35.0      0   \n",
              "\n",
              "   Parch            Ticket     Fare Cabin Embarked Initial  Age_group  family  \\\n",
              "0      0         A/5 21171   7.2500   NaN        S      Mr        2.0       1   \n",
              "1      0          PC 17599  71.2833   C85        C     Mrs        3.0       1   \n",
              "2      0  STON/O2. 3101282   7.9250   NaN        S    Miss        2.0       0   \n",
              "3      0            113803  53.1000  C123        S     Mrs        3.0       1   \n",
              "4      0            373450   8.0500   NaN        S      Mr        3.0       0   \n",
              "\n",
              "   Alone  fare_bins  \n",
              "0      0    (0, 10]  \n",
              "1      0  (40, 100]  \n",
              "2      1    (0, 10]  \n",
              "3      0  (40, 100]  \n",
              "4      1    (0, 10]  "
            ]
          },
          "execution_count": 45,
          "metadata": {},
          "output_type": "execute_result"
        }
      ],
      "source": [
        "titanic.head()"
      ]
    },
    {
      "cell_type": "code",
      "execution_count": null,
      "id": "80b2a539",
      "metadata": {
        "id": "80b2a539",
        "outputId": "d9cae74b-5d63-438a-ee64-f1fe9c810587"
      },
      "outputs": [
        {
          "name": "stderr",
          "output_type": "stream",
          "text": [
            "C:\\Users\\SIM-Koreatech\\anaconda3\\envs\\text\\lib\\site-packages\\seaborn\\categorical.py:3717: UserWarning: The `factorplot` function has been renamed to `catplot`. The original name will be removed in a future release. Please update your code. Note that the default `kind` in `factorplot` (`'point'`) has changed `'strip'` in `catplot`.\n",
            "  warnings.warn(msg)\n",
            "C:\\Users\\SIM-Koreatech\\anaconda3\\envs\\text\\lib\\site-packages\\seaborn\\_decorators.py:43: FutureWarning: Pass the following variables as keyword args: x, y. From version 0.12, the only valid positional argument will be `data`, and passing other arguments without an explicit keyword will result in an error or misinterpretation.\n",
            "  FutureWarning\n"
          ]
        },
        {
          "data": {
            "image/png": "[encoded data removed]",
            "text/plain": [
              "<Figure size 427.5x360 with 1 Axes>"
            ]
          },
          "metadata": {
            "needs_background": "light"
          },
          "output_type": "display_data"
        }
      ],
      "source": [
        "sns.factorplot('fare_bins','Survived',data=titanic, hue='Sex', errwidth=0)\n",
        "plt.show()"
      ]
    },
    {
      "cell_type": "code",
      "execution_count": null,
      "id": "5121c916",
      "metadata": {
        "id": "5121c916"
      },
      "outputs": [],
      "source": [
        "# 요금 range별로 숫자로 대체\n",
        "titanic.loc[titanic['Fare']<= 10,'Fare_ca']=0\n",
        "titanic.loc[(titanic['Fare']> 10)&(titanic['Fare']<= 20),'Fare_ca']=1\n",
        "titanic.loc[(titanic['Fare']> 20)&(titanic['Fare']<= 30),'Fare_ca']=2\n",
        "titanic.loc[(titanic['Fare']> 30)&(titanic['Fare']<= 40),'Fare_ca']=3\n",
        "titanic.loc[(titanic['Fare']> 40)&(titanic['Fare']<= 100),'Fare_ca']=4\n",
        "titanic.loc[titanic['Fare']> 100,'Fare_ca']=5"
      ]
    },
    {
      "cell_type": "code",
      "execution_count": null,
      "id": "696c8231",
      "metadata": {
        "id": "696c8231",
        "outputId": "f4ce733f-65a6-49ad-86e0-ef819518933e"
      },
      "outputs": [
        {
          "data": {
            "text/html": [
              "<div>\n",
              "<style scoped>\n",
              "    .dataframe tbody tr th:only-of-type {\n",
              "        vertical-align: middle;\n",
              "    }\n",
              "\n",
              "    .dataframe tbody tr th {\n",
              "        vertical-align: top;\n",
              "    }\n",
              "\n",
              "    .dataframe thead th {\n",
              "        text-align: right;\n",
              "    }\n",
              "</style>\n",
              "<table border=\"1\" class=\"dataframe\">\n",
              "  <thead>\n",
              "    <tr style=\"text-align: right;\">\n",
              "      <th></th>\n",
              "      <th>PassengerId</th>\n",
              "      <th>Survived</th>\n",
              "      <th>Pclass</th>\n",
              "      <th>Name</th>\n",
              "      <th>Sex</th>\n",
              "      <th>Age</th>\n",
              "      <th>SibSp</th>\n",
              "      <th>Parch</th>\n",
              "      <th>Ticket</th>\n",
              "      <th>Fare</th>\n",
              "      <th>Cabin</th>\n",
              "      <th>Embarked</th>\n",
              "      <th>Initial</th>\n",
              "      <th>Age_group</th>\n",
              "      <th>family</th>\n",
              "      <th>Alone</th>\n",
              "      <th>fare_bins</th>\n",
              "      <th>Fare_ca</th>\n",
              "    </tr>\n",
              "  </thead>\n",
              "  <tbody>\n",
              "    <tr>\n",
              "      <th>0</th>\n",
              "      <td>1</td>\n",
              "      <td>0</td>\n",
              "      <td>3</td>\n",
              "      <td>Braund, Mr. Owen Harris</td>\n",
              "      <td>0</td>\n",
              "      <td>22.0</td>\n",
              "      <td>1</td>\n",
              "      <td>0</td>\n",
              "      <td>A/5 21171</td>\n",
              "      <td>7.2500</td>\n",
              "      <td>NaN</td>\n",
              "      <td>0</td>\n",
              "      <td>0</td>\n",
              "      <td>2.0</td>\n",
              "      <td>1</td>\n",
              "      <td>0</td>\n",
              "      <td>(0, 10]</td>\n",
              "      <td>0.0</td>\n",
              "    </tr>\n",
              "    <tr>\n",
              "      <th>1</th>\n",
              "      <td>2</td>\n",
              "      <td>1</td>\n",
              "      <td>1</td>\n",
              "      <td>Cumings, Mrs. John Bradley (Florence Briggs Th...</td>\n",
              "      <td>1</td>\n",
              "      <td>38.0</td>\n",
              "      <td>1</td>\n",
              "      <td>0</td>\n",
              "      <td>PC 17599</td>\n",
              "      <td>71.2833</td>\n",
              "      <td>C85</td>\n",
              "      <td>1</td>\n",
              "      <td>1</td>\n",
              "      <td>3.0</td>\n",
              "      <td>1</td>\n",
              "      <td>0</td>\n",
              "      <td>(40, 100]</td>\n",
              "      <td>4.0</td>\n",
              "    </tr>\n",
              "    <tr>\n",
              "      <th>2</th>\n",
              "      <td>3</td>\n",
              "      <td>1</td>\n",
              "      <td>3</td>\n",
              "      <td>Heikkinen, Miss. Laina</td>\n",
              "      <td>1</td>\n",
              "      <td>26.0</td>\n",
              "      <td>0</td>\n",
              "      <td>0</td>\n",
              "      <td>STON/O2. 3101282</td>\n",
              "      <td>7.9250</td>\n",
              "      <td>NaN</td>\n",
              "      <td>0</td>\n",
              "      <td>2</td>\n",
              "      <td>2.0</td>\n",
              "      <td>0</td>\n",
              "      <td>1</td>\n",
              "      <td>(0, 10]</td>\n",
              "      <td>0.0</td>\n",
              "    </tr>\n",
              "    <tr>\n",
              "      <th>3</th>\n",
              "      <td>4</td>\n",
              "      <td>1</td>\n",
              "      <td>1</td>\n",
              "      <td>Futrelle, Mrs. Jacques Heath (Lily May Peel)</td>\n",
              "      <td>1</td>\n",
              "      <td>35.0</td>\n",
              "      <td>1</td>\n",
              "      <td>0</td>\n",
              "      <td>113803</td>\n",
              "      <td>53.1000</td>\n",
              "      <td>C123</td>\n",
              "      <td>0</td>\n",
              "      <td>1</td>\n",
              "      <td>3.0</td>\n",
              "      <td>1</td>\n",
              "      <td>0</td>\n",
              "      <td>(40, 100]</td>\n",
              "      <td>4.0</td>\n",
              "    </tr>\n",
              "    <tr>\n",
              "      <th>4</th>\n",
              "      <td>5</td>\n",
              "      <td>0</td>\n",
              "      <td>3</td>\n",
              "      <td>Allen, Mr. William Henry</td>\n",
              "      <td>0</td>\n",
              "      <td>35.0</td>\n",
              "      <td>0</td>\n",
              "      <td>0</td>\n",
              "      <td>373450</td>\n",
              "      <td>8.0500</td>\n",
              "      <td>NaN</td>\n",
              "      <td>0</td>\n",
              "      <td>0</td>\n",
              "      <td>3.0</td>\n",
              "      <td>0</td>\n",
              "      <td>1</td>\n",
              "      <td>(0, 10]</td>\n",
              "      <td>0.0</td>\n",
              "    </tr>\n",
              "  </tbody>\n",
              "</table>\n",
              "</div>"
            ],
            "text/plain": [
              "   PassengerId  Survived  Pclass  \\\n",
              "0            1         0       3   \n",
              "1            2         1       1   \n",
              "2            3         1       3   \n",
              "3            4         1       1   \n",
              "4            5         0       3   \n",
              "\n",
              "                                                Name  Sex   Age  SibSp  Parch  \\\n",
              "0                            Braund, Mr. Owen Harris    0  22.0      1      0   \n",
              "1  Cumings, Mrs. John Bradley (Florence Briggs Th...    1  38.0      1      0   \n",
              "2                             Heikkinen, Miss. Laina    1  26.0      0      0   \n",
              "3       Futrelle, Mrs. Jacques Heath (Lily May Peel)    1  35.0      1      0   \n",
              "4                           Allen, Mr. William Henry    0  35.0      0      0   \n",
              "\n",
              "             Ticket     Fare Cabin  Embarked  Initial  Age_group  family  \\\n",
              "0         A/5 21171   7.2500   NaN         0        0        2.0       1   \n",
              "1          PC 17599  71.2833   C85         1        1        3.0       1   \n",
              "2  STON/O2. 3101282   7.9250   NaN         0        2        2.0       0   \n",
              "3            113803  53.1000  C123         0        1        3.0       1   \n",
              "4            373450   8.0500   NaN         0        0        3.0       0   \n",
              "\n",
              "   Alone  fare_bins  Fare_ca  \n",
              "0      0    (0, 10]      0.0  \n",
              "1      0  (40, 100]      4.0  \n",
              "2      1    (0, 10]      0.0  \n",
              "3      0  (40, 100]      4.0  \n",
              "4      1    (0, 10]      0.0  "
            ]
          },
          "execution_count": 55,
          "metadata": {},
          "output_type": "execute_result"
        }
      ],
      "source": [
        "titanic.head()"
      ]
    },
    {
      "cell_type": "code",
      "execution_count": null,
      "id": "5a6887f3",
      "metadata": {
        "id": "5a6887f3"
      },
      "outputs": [],
      "source": [
        "# 범주형 데이터를 범주를 숫자로 변환\n",
        "titanic['Sex'].replace(['male','female'],[0,1],inplace=True)\n",
        "titanic['Embarked'].replace(['S','C','Q'],[0,1,2],inplace=True)\n",
        "titanic['Initial'].replace(['Mr','Mrs','Miss','Master'],[0,1,2,3],inplace=True)"
      ]
    },
    {
      "cell_type": "code",
      "execution_count": null,
      "id": "be56ab1c",
      "metadata": {
        "id": "be56ab1c",
        "outputId": "9d2141a5-f5d0-459e-f81c-47d001680088"
      },
      "outputs": [
        {
          "data": {
            "text/html": [
              "<div>\n",
              "<style scoped>\n",
              "    .dataframe tbody tr th:only-of-type {\n",
              "        vertical-align: middle;\n",
              "    }\n",
              "\n",
              "    .dataframe tbody tr th {\n",
              "        vertical-align: top;\n",
              "    }\n",
              "\n",
              "    .dataframe thead th {\n",
              "        text-align: right;\n",
              "    }\n",
              "</style>\n",
              "<table border=\"1\" class=\"dataframe\">\n",
              "  <thead>\n",
              "    <tr style=\"text-align: right;\">\n",
              "      <th></th>\n",
              "      <th>PassengerId</th>\n",
              "      <th>Survived</th>\n",
              "      <th>Pclass</th>\n",
              "      <th>Name</th>\n",
              "      <th>Sex</th>\n",
              "      <th>Age</th>\n",
              "      <th>SibSp</th>\n",
              "      <th>Parch</th>\n",
              "      <th>Ticket</th>\n",
              "      <th>Fare</th>\n",
              "      <th>Cabin</th>\n",
              "      <th>Embarked</th>\n",
              "      <th>Initial</th>\n",
              "      <th>Age_group</th>\n",
              "      <th>family</th>\n",
              "      <th>Alone</th>\n",
              "      <th>fare_bins</th>\n",
              "      <th>Fare_ca</th>\n",
              "    </tr>\n",
              "  </thead>\n",
              "  <tbody>\n",
              "    <tr>\n",
              "      <th>0</th>\n",
              "      <td>1</td>\n",
              "      <td>0</td>\n",
              "      <td>3</td>\n",
              "      <td>Braund, Mr. Owen Harris</td>\n",
              "      <td>0</td>\n",
              "      <td>22.0</td>\n",
              "      <td>1</td>\n",
              "      <td>0</td>\n",
              "      <td>A/5 21171</td>\n",
              "      <td>7.2500</td>\n",
              "      <td>NaN</td>\n",
              "      <td>0</td>\n",
              "      <td>0</td>\n",
              "      <td>2.0</td>\n",
              "      <td>1</td>\n",
              "      <td>0</td>\n",
              "      <td>(0, 10]</td>\n",
              "      <td>0.0</td>\n",
              "    </tr>\n",
              "    <tr>\n",
              "      <th>1</th>\n",
              "      <td>2</td>\n",
              "      <td>1</td>\n",
              "      <td>1</td>\n",
              "      <td>Cumings, Mrs. John Bradley (Florence Briggs Th...</td>\n",
              "      <td>1</td>\n",
              "      <td>38.0</td>\n",
              "      <td>1</td>\n",
              "      <td>0</td>\n",
              "      <td>PC 17599</td>\n",
              "      <td>71.2833</td>\n",
              "      <td>C85</td>\n",
              "      <td>1</td>\n",
              "      <td>1</td>\n",
              "      <td>3.0</td>\n",
              "      <td>1</td>\n",
              "      <td>0</td>\n",
              "      <td>(40, 100]</td>\n",
              "      <td>4.0</td>\n",
              "    </tr>\n",
              "    <tr>\n",
              "      <th>2</th>\n",
              "      <td>3</td>\n",
              "      <td>1</td>\n",
              "      <td>3</td>\n",
              "      <td>Heikkinen, Miss. Laina</td>\n",
              "      <td>1</td>\n",
              "      <td>26.0</td>\n",
              "      <td>0</td>\n",
              "      <td>0</td>\n",
              "      <td>STON/O2. 3101282</td>\n",
              "      <td>7.9250</td>\n",
              "      <td>NaN</td>\n",
              "      <td>0</td>\n",
              "      <td>2</td>\n",
              "      <td>2.0</td>\n",
              "      <td>0</td>\n",
              "      <td>1</td>\n",
              "      <td>(0, 10]</td>\n",
              "      <td>0.0</td>\n",
              "    </tr>\n",
              "    <tr>\n",
              "      <th>3</th>\n",
              "      <td>4</td>\n",
              "      <td>1</td>\n",
              "      <td>1</td>\n",
              "      <td>Futrelle, Mrs. Jacques Heath (Lily May Peel)</td>\n",
              "      <td>1</td>\n",
              "      <td>35.0</td>\n",
              "      <td>1</td>\n",
              "      <td>0</td>\n",
              "      <td>113803</td>\n",
              "      <td>53.1000</td>\n",
              "      <td>C123</td>\n",
              "      <td>0</td>\n",
              "      <td>1</td>\n",
              "      <td>3.0</td>\n",
              "      <td>1</td>\n",
              "      <td>0</td>\n",
              "      <td>(40, 100]</td>\n",
              "      <td>4.0</td>\n",
              "    </tr>\n",
              "    <tr>\n",
              "      <th>4</th>\n",
              "      <td>5</td>\n",
              "      <td>0</td>\n",
              "      <td>3</td>\n",
              "      <td>Allen, Mr. William Henry</td>\n",
              "      <td>0</td>\n",
              "      <td>35.0</td>\n",
              "      <td>0</td>\n",
              "      <td>0</td>\n",
              "      <td>373450</td>\n",
              "      <td>8.0500</td>\n",
              "      <td>NaN</td>\n",
              "      <td>0</td>\n",
              "      <td>0</td>\n",
              "      <td>3.0</td>\n",
              "      <td>0</td>\n",
              "      <td>1</td>\n",
              "      <td>(0, 10]</td>\n",
              "      <td>0.0</td>\n",
              "    </tr>\n",
              "  </tbody>\n",
              "</table>\n",
              "</div>"
            ],
            "text/plain": [
              "   PassengerId  Survived  Pclass  \\\n",
              "0            1         0       3   \n",
              "1            2         1       1   \n",
              "2            3         1       3   \n",
              "3            4         1       1   \n",
              "4            5         0       3   \n",
              "\n",
              "                                                Name  Sex   Age  SibSp  Parch  \\\n",
              "0                            Braund, Mr. Owen Harris    0  22.0      1      0   \n",
              "1  Cumings, Mrs. John Bradley (Florence Briggs Th...    1  38.0      1      0   \n",
              "2                             Heikkinen, Miss. Laina    1  26.0      0      0   \n",
              "3       Futrelle, Mrs. Jacques Heath (Lily May Peel)    1  35.0      1      0   \n",
              "4                           Allen, Mr. William Henry    0  35.0      0      0   \n",
              "\n",
              "             Ticket     Fare Cabin  Embarked  Initial  Age_group  family  \\\n",
              "0         A/5 21171   7.2500   NaN         0        0        2.0       1   \n",
              "1          PC 17599  71.2833   C85         1        1        3.0       1   \n",
              "2  STON/O2. 3101282   7.9250   NaN         0        2        2.0       0   \n",
              "3            113803  53.1000  C123         0        1        3.0       1   \n",
              "4            373450   8.0500   NaN         0        0        3.0       0   \n",
              "\n",
              "   Alone  fare_bins  Fare_ca  \n",
              "0      0    (0, 10]      0.0  \n",
              "1      0  (40, 100]      4.0  \n",
              "2      1    (0, 10]      0.0  \n",
              "3      0  (40, 100]      4.0  \n",
              "4      1    (0, 10]      0.0  "
            ]
          },
          "execution_count": 57,
          "metadata": {},
          "output_type": "execute_result"
        }
      ],
      "source": [
        "titanic.head()"
      ]
    },
    {
      "cell_type": "code",
      "execution_count": null,
      "id": "80ca926b",
      "metadata": {
        "id": "80ca926b"
      },
      "outputs": [],
      "source": [
        "# 필요한 변수만 선택\n",
        "data = titanic[['Survived', 'Pclass', 'Initial', 'Sex', 'Age_group','family','Alone', 'Fare_ca', 'Embarked']]"
      ]
    },
    {
      "cell_type": "code",
      "execution_count": null,
      "id": "c6f3b2c1",
      "metadata": {
        "id": "c6f3b2c1",
        "outputId": "a5d5c4f6-2b87-4ceb-fc46-cf99bad2486a"
      },
      "outputs": [
        {
          "data": {
            "text/html": [
              "<div>\n",
              "<style scoped>\n",
              "    .dataframe tbody tr th:only-of-type {\n",
              "        vertical-align: middle;\n",
              "    }\n",
              "\n",
              "    .dataframe tbody tr th {\n",
              "        vertical-align: top;\n",
              "    }\n",
              "\n",
              "    .dataframe thead th {\n",
              "        text-align: right;\n",
              "    }\n",
              "</style>\n",
              "<table border=\"1\" class=\"dataframe\">\n",
              "  <thead>\n",
              "    <tr style=\"text-align: right;\">\n",
              "      <th></th>\n",
              "      <th>Survived</th>\n",
              "      <th>Pclass</th>\n",
              "      <th>Initial</th>\n",
              "      <th>Sex</th>\n",
              "      <th>Age_group</th>\n",
              "      <th>family</th>\n",
              "      <th>Alone</th>\n",
              "      <th>Fare_ca</th>\n",
              "      <th>Embarked</th>\n",
              "    </tr>\n",
              "  </thead>\n",
              "  <tbody>\n",
              "    <tr>\n",
              "      <th>0</th>\n",
              "      <td>0</td>\n",
              "      <td>3</td>\n",
              "      <td>0</td>\n",
              "      <td>0</td>\n",
              "      <td>2.0</td>\n",
              "      <td>1</td>\n",
              "      <td>0</td>\n",
              "      <td>0.0</td>\n",
              "      <td>0</td>\n",
              "    </tr>\n",
              "    <tr>\n",
              "      <th>1</th>\n",
              "      <td>1</td>\n",
              "      <td>1</td>\n",
              "      <td>1</td>\n",
              "      <td>1</td>\n",
              "      <td>3.0</td>\n",
              "      <td>1</td>\n",
              "      <td>0</td>\n",
              "      <td>4.0</td>\n",
              "      <td>1</td>\n",
              "    </tr>\n",
              "    <tr>\n",
              "      <th>2</th>\n",
              "      <td>1</td>\n",
              "      <td>3</td>\n",
              "      <td>2</td>\n",
              "      <td>1</td>\n",
              "      <td>2.0</td>\n",
              "      <td>0</td>\n",
              "      <td>1</td>\n",
              "      <td>0.0</td>\n",
              "      <td>0</td>\n",
              "    </tr>\n",
              "    <tr>\n",
              "      <th>3</th>\n",
              "      <td>1</td>\n",
              "      <td>1</td>\n",
              "      <td>1</td>\n",
              "      <td>1</td>\n",
              "      <td>3.0</td>\n",
              "      <td>1</td>\n",
              "      <td>0</td>\n",
              "      <td>4.0</td>\n",
              "      <td>0</td>\n",
              "    </tr>\n",
              "    <tr>\n",
              "      <th>4</th>\n",
              "      <td>0</td>\n",
              "      <td>3</td>\n",
              "      <td>0</td>\n",
              "      <td>0</td>\n",
              "      <td>3.0</td>\n",
              "      <td>0</td>\n",
              "      <td>1</td>\n",
              "      <td>0.0</td>\n",
              "      <td>0</td>\n",
              "    </tr>\n",
              "  </tbody>\n",
              "</table>\n",
              "</div>"
            ],
            "text/plain": [
              "   Survived  Pclass  Initial  Sex  Age_group  family  Alone  Fare_ca  Embarked\n",
              "0         0       3        0    0        2.0       1      0      0.0         0\n",
              "1         1       1        1    1        3.0       1      0      4.0         1\n",
              "2         1       3        2    1        2.0       0      1      0.0         0\n",
              "3         1       1        1    1        3.0       1      0      4.0         0\n",
              "4         0       3        0    0        3.0       0      1      0.0         0"
            ]
          },
          "execution_count": 59,
          "metadata": {},
          "output_type": "execute_result"
        }
      ],
      "source": [
        "data.head()"
      ]
    },
    {
      "cell_type": "code",
      "execution_count": null,
      "id": "ce40aef5",
      "metadata": {
        "id": "ce40aef5",
        "outputId": "860e20d1-998e-45b3-a3e6-067c1e9d48f5"
      },
      "outputs": [
        {
          "data": {
            "text/plain": [
              "<AxesSubplot:>"
            ]
          },
          "execution_count": 62,
          "metadata": {},
          "output_type": "execute_result"
        },
        {
          "data": {
            "image/png": "[encoded data removed]",
            "text/plain": [
              "<Figure size 720x576 with 2 Axes>"
            ]
          },
          "metadata": {
            "needs_background": "light"
          },
          "output_type": "display_data"
        }
      ],
      "source": [
        "plt.figure(figsize=(10,8))\n",
        "sns.heatmap(data.corr(),cmap='Greens',annot=True)"
      ]
    },
    {
      "cell_type": "markdown",
      "id": "36b4859b",
      "metadata": {
        "id": "36b4859b"
      },
      "source": [
        "### 4. 데이터 분할 및 로지스틱 회귀분석"
      ]
    },
    {
      "cell_type": "code",
      "execution_count": null,
      "id": "b2161a1a",
      "metadata": {
        "id": "b2161a1a"
      },
      "outputs": [],
      "source": [
        "feature_columns = list(data.columns.difference([\"Survived\"]))\n",
        "X = data[feature_columns]\n",
        "y = data['Survived']"
      ]
    },
    {
      "cell_type": "code",
      "execution_count": null,
      "id": "f038e21b",
      "metadata": {
        "id": "f038e21b",
        "outputId": "4478972f-eedf-4db5-92c8-8bc94a83579f"
      },
      "outputs": [
        {
          "data": {
            "text/html": [
              "<div>\n",
              "<style scoped>\n",
              "    .dataframe tbody tr th:only-of-type {\n",
              "        vertical-align: middle;\n",
              "    }\n",
              "\n",
              "    .dataframe tbody tr th {\n",
              "        vertical-align: top;\n",
              "    }\n",
              "\n",
              "    .dataframe thead th {\n",
              "        text-align: right;\n",
              "    }\n",
              "</style>\n",
              "<table border=\"1\" class=\"dataframe\">\n",
              "  <thead>\n",
              "    <tr style=\"text-align: right;\">\n",
              "      <th></th>\n",
              "      <th>Age_group</th>\n",
              "      <th>Alone</th>\n",
              "      <th>Embarked</th>\n",
              "      <th>Fare_ca</th>\n",
              "      <th>Initial</th>\n",
              "      <th>Pclass</th>\n",
              "      <th>Sex</th>\n",
              "      <th>family</th>\n",
              "    </tr>\n",
              "  </thead>\n",
              "  <tbody>\n",
              "    <tr>\n",
              "      <th>0</th>\n",
              "      <td>2.0</td>\n",
              "      <td>0</td>\n",
              "      <td>0</td>\n",
              "      <td>0.0</td>\n",
              "      <td>0</td>\n",
              "      <td>3</td>\n",
              "      <td>0</td>\n",
              "      <td>1</td>\n",
              "    </tr>\n",
              "    <tr>\n",
              "      <th>1</th>\n",
              "      <td>3.0</td>\n",
              "      <td>0</td>\n",
              "      <td>1</td>\n",
              "      <td>4.0</td>\n",
              "      <td>1</td>\n",
              "      <td>1</td>\n",
              "      <td>1</td>\n",
              "      <td>1</td>\n",
              "    </tr>\n",
              "    <tr>\n",
              "      <th>2</th>\n",
              "      <td>2.0</td>\n",
              "      <td>1</td>\n",
              "      <td>0</td>\n",
              "      <td>0.0</td>\n",
              "      <td>2</td>\n",
              "      <td>3</td>\n",
              "      <td>1</td>\n",
              "      <td>0</td>\n",
              "    </tr>\n",
              "    <tr>\n",
              "      <th>3</th>\n",
              "      <td>3.0</td>\n",
              "      <td>0</td>\n",
              "      <td>0</td>\n",
              "      <td>4.0</td>\n",
              "      <td>1</td>\n",
              "      <td>1</td>\n",
              "      <td>1</td>\n",
              "      <td>1</td>\n",
              "    </tr>\n",
              "    <tr>\n",
              "      <th>4</th>\n",
              "      <td>3.0</td>\n",
              "      <td>1</td>\n",
              "      <td>0</td>\n",
              "      <td>0.0</td>\n",
              "      <td>0</td>\n",
              "      <td>3</td>\n",
              "      <td>0</td>\n",
              "      <td>0</td>\n",
              "    </tr>\n",
              "  </tbody>\n",
              "</table>\n",
              "</div>"
            ],
            "text/plain": [
              "   Age_group  Alone  Embarked  Fare_ca  Initial  Pclass  Sex  family\n",
              "0        2.0      0         0      0.0        0       3    0       1\n",
              "1        3.0      0         1      4.0        1       1    1       1\n",
              "2        2.0      1         0      0.0        2       3    1       0\n",
              "3        3.0      0         0      4.0        1       1    1       1\n",
              "4        3.0      1         0      0.0        0       3    0       0"
            ]
          },
          "execution_count": 65,
          "metadata": {},
          "output_type": "execute_result"
        }
      ],
      "source": [
        "X.head()"
      ]
    },
    {
      "cell_type": "code",
      "execution_count": null,
      "id": "3a75709e",
      "metadata": {
        "id": "3a75709e",
        "outputId": "30db26aa-e48c-4ddd-f265-6fc5e45aa31c"
      },
      "outputs": [
        {
          "data": {
            "text/plain": [
              "0    0\n",
              "1    1\n",
              "2    1\n",
              "3    1\n",
              "4    0\n",
              "Name: Survived, dtype: int64"
            ]
          },
          "execution_count": 67,
          "metadata": {},
          "output_type": "execute_result"
        }
      ],
      "source": [
        "y.head()"
      ]
    },
    {
      "cell_type": "code",
      "execution_count": null,
      "id": "ca6954ba",
      "metadata": {
        "id": "ca6954ba",
        "outputId": "a983ab34-9a0c-4bee-915c-72811071123a"
      },
      "outputs": [
        {
          "name": "stdout",
          "output_type": "stream",
          "text": [
            "(623, 8) (268, 8) (623,) (268,)\n"
          ]
        }
      ],
      "source": [
        "# 데이터 분할\n",
        "train_x, test_x, train_y, test_y = train_test_split(X, y, stratify=y,train_size=0.7,test_size=0.3,random_state=42)\n",
        "print(train_x.shape, test_x.shape, train_y.shape, test_y.shape)"
      ]
    },
    {
      "cell_type": "markdown",
      "id": "1d05183b",
      "metadata": {
        "id": "1d05183b"
      },
      "source": [
        "#### 1) 사이킷런 패키지 이용"
      ]
    },
    {
      "cell_type": "code",
      "execution_count": null,
      "id": "6fa1157c",
      "metadata": {
        "id": "6fa1157c",
        "outputId": "22c518ac-1c6d-4a41-f16a-4033ddd46282"
      },
      "outputs": [
        {
          "data": {
            "text/plain": [
              "LogisticRegression()"
            ]
          },
          "execution_count": 71,
          "metadata": {},
          "output_type": "execute_result"
        }
      ],
      "source": [
        "# 모델 적합\n",
        "model = LogisticRegression()\n",
        "model.fit(train_x, train_y)"
      ]
    },
    {
      "cell_type": "code",
      "execution_count": null,
      "id": "b84ce1df",
      "metadata": {
        "id": "b84ce1df"
      },
      "outputs": [],
      "source": [
        "pred = model.predict(test_x)"
      ]
    },
    {
      "cell_type": "code",
      "execution_count": null,
      "id": "f5e2dada",
      "metadata": {
        "id": "f5e2dada",
        "outputId": "69607925-f1ca-4c98-8131-3c870e9eb985"
      },
      "outputs": [
        {
          "data": {
            "text/plain": [
              "array([0, 0, 0, 0, 0, 0, 0, 1, 0, 1, 1, 1, 1, 0, 1, 1, 0, 0, 1, 0, 0, 0,\n",
              "       1, 0, 0, 0, 1, 0, 0, 0, 1, 1, 0, 1, 1, 1, 0, 0, 0, 0, 0, 1, 0, 1,\n",
              "       1, 0, 1, 0, 0, 0, 0, 0, 1, 0, 0, 0, 0, 0, 0, 0, 0, 0, 0, 1, 0, 0,\n",
              "       0, 1, 0, 0, 1, 1, 0, 1, 0, 0, 0, 0, 0, 0, 0, 1, 1, 0, 0, 0, 1, 1,\n",
              "       0, 0, 1, 0, 0, 0, 0, 1, 1, 1, 0, 0, 0, 0, 1, 1, 0, 0, 1, 0, 0, 0,\n",
              "       0, 1, 0, 0, 0, 0, 0, 1, 1, 1, 0, 1, 0, 0, 1, 1, 0, 1, 1, 0, 1, 1,\n",
              "       1, 0, 1, 1, 0, 1, 0, 1, 0, 1, 0, 0, 0, 0, 0, 1, 0, 0, 0, 0, 1, 0,\n",
              "       0, 0, 0, 1, 0, 0, 0, 0, 1, 0, 0, 1, 0, 0, 1, 1, 0, 0, 0, 0, 1, 1,\n",
              "       1, 0, 1, 1, 0, 1, 0, 0, 0, 1, 0, 0, 1, 0, 0, 0, 1, 1, 0, 1, 1, 0,\n",
              "       0, 0, 0, 1, 0, 0, 1, 0, 1, 1, 0, 0, 1, 0, 0, 1, 0, 0, 0, 0, 0, 0,\n",
              "       0, 0, 0, 0, 1, 1, 0, 0, 1, 0, 0, 0, 0, 0, 1, 0, 1, 1, 0, 0, 0, 0,\n",
              "       0, 0, 0, 0, 1, 0, 0, 0, 1, 1, 1, 0, 1, 1, 0, 1, 0, 1, 0, 0, 0, 1,\n",
              "       0, 0, 0, 1], dtype=int64)"
            ]
          },
          "execution_count": 87,
          "metadata": {},
          "output_type": "execute_result"
        }
      ],
      "source": [
        "pred"
      ]
    },
    {
      "cell_type": "code",
      "execution_count": null,
      "id": "2d0cb6db",
      "metadata": {
        "id": "2d0cb6db",
        "outputId": "132f94c2-5de7-410c-8d36-c02a32407b97"
      },
      "outputs": [
        {
          "data": {
            "text/plain": [
              "83.95522388059702"
            ]
          },
          "execution_count": 74,
          "metadata": {},
          "output_type": "execute_result"
        }
      ],
      "source": [
        "# 정확도 계산\n",
        "accuracy_score(pred, test_y)*100"
      ]
    },
    {
      "cell_type": "code",
      "execution_count": null,
      "id": "4158d821",
      "metadata": {
        "id": "4158d821",
        "outputId": "916a1892-c435-406b-fe93-a19f426d6fcd"
      },
      "outputs": [
        {
          "data": {
            "image/png": "[encoded data removed]",
            "text/plain": [
              "<Figure size 432x288 with 2 Axes>"
            ]
          },
          "metadata": {
            "needs_background": "light"
          },
          "output_type": "display_data"
        }
      ],
      "source": [
        "# confusion matrix 그리기\n",
        "sns.heatmap(confusion_matrix(pred,test_y), cmap = 'Oranges', annot = True, fmt = '2.0f')\n",
        "plt.show()"
      ]
    },
    {
      "cell_type": "markdown",
      "id": "b306277c",
      "metadata": {
        "id": "b306277c"
      },
      "source": [
        "#### 2) sm 패키지 이용"
      ]
    },
    {
      "cell_type": "code",
      "execution_count": null,
      "id": "7251d9bd",
      "metadata": {
        "id": "7251d9bd",
        "outputId": "f95c5fde-48a3-48d1-dbfc-f3e4b9c48641"
      },
      "outputs": [
        {
          "data": {
            "text/html": [
              "<div>\n",
              "<style scoped>\n",
              "    .dataframe tbody tr th:only-of-type {\n",
              "        vertical-align: middle;\n",
              "    }\n",
              "\n",
              "    .dataframe tbody tr th {\n",
              "        vertical-align: top;\n",
              "    }\n",
              "\n",
              "    .dataframe thead th {\n",
              "        text-align: right;\n",
              "    }\n",
              "</style>\n",
              "<table border=\"1\" class=\"dataframe\">\n",
              "  <thead>\n",
              "    <tr style=\"text-align: right;\">\n",
              "      <th></th>\n",
              "      <th>const</th>\n",
              "      <th>Survived</th>\n",
              "      <th>Pclass</th>\n",
              "      <th>Initial</th>\n",
              "      <th>Sex</th>\n",
              "      <th>Age_group</th>\n",
              "      <th>family</th>\n",
              "      <th>Alone</th>\n",
              "      <th>Fare_ca</th>\n",
              "      <th>Embarked</th>\n",
              "    </tr>\n",
              "  </thead>\n",
              "  <tbody>\n",
              "    <tr>\n",
              "      <th>0</th>\n",
              "      <td>1.0</td>\n",
              "      <td>0</td>\n",
              "      <td>3</td>\n",
              "      <td>0</td>\n",
              "      <td>0</td>\n",
              "      <td>2.0</td>\n",
              "      <td>1</td>\n",
              "      <td>0</td>\n",
              "      <td>0.0</td>\n",
              "      <td>0</td>\n",
              "    </tr>\n",
              "    <tr>\n",
              "      <th>1</th>\n",
              "      <td>1.0</td>\n",
              "      <td>1</td>\n",
              "      <td>1</td>\n",
              "      <td>1</td>\n",
              "      <td>1</td>\n",
              "      <td>3.0</td>\n",
              "      <td>1</td>\n",
              "      <td>0</td>\n",
              "      <td>4.0</td>\n",
              "      <td>1</td>\n",
              "    </tr>\n",
              "    <tr>\n",
              "      <th>2</th>\n",
              "      <td>1.0</td>\n",
              "      <td>1</td>\n",
              "      <td>3</td>\n",
              "      <td>2</td>\n",
              "      <td>1</td>\n",
              "      <td>2.0</td>\n",
              "      <td>0</td>\n",
              "      <td>1</td>\n",
              "      <td>0.0</td>\n",
              "      <td>0</td>\n",
              "    </tr>\n",
              "    <tr>\n",
              "      <th>3</th>\n",
              "      <td>1.0</td>\n",
              "      <td>1</td>\n",
              "      <td>1</td>\n",
              "      <td>1</td>\n",
              "      <td>1</td>\n",
              "      <td>3.0</td>\n",
              "      <td>1</td>\n",
              "      <td>0</td>\n",
              "      <td>4.0</td>\n",
              "      <td>0</td>\n",
              "    </tr>\n",
              "    <tr>\n",
              "      <th>4</th>\n",
              "      <td>1.0</td>\n",
              "      <td>0</td>\n",
              "      <td>3</td>\n",
              "      <td>0</td>\n",
              "      <td>0</td>\n",
              "      <td>3.0</td>\n",
              "      <td>0</td>\n",
              "      <td>1</td>\n",
              "      <td>0.0</td>\n",
              "      <td>0</td>\n",
              "    </tr>\n",
              "    <tr>\n",
              "      <th>...</th>\n",
              "      <td>...</td>\n",
              "      <td>...</td>\n",
              "      <td>...</td>\n",
              "      <td>...</td>\n",
              "      <td>...</td>\n",
              "      <td>...</td>\n",
              "      <td>...</td>\n",
              "      <td>...</td>\n",
              "      <td>...</td>\n",
              "      <td>...</td>\n",
              "    </tr>\n",
              "    <tr>\n",
              "      <th>886</th>\n",
              "      <td>1.0</td>\n",
              "      <td>0</td>\n",
              "      <td>2</td>\n",
              "      <td>0</td>\n",
              "      <td>0</td>\n",
              "      <td>2.0</td>\n",
              "      <td>0</td>\n",
              "      <td>1</td>\n",
              "      <td>1.0</td>\n",
              "      <td>0</td>\n",
              "    </tr>\n",
              "    <tr>\n",
              "      <th>887</th>\n",
              "      <td>1.0</td>\n",
              "      <td>1</td>\n",
              "      <td>1</td>\n",
              "      <td>2</td>\n",
              "      <td>1</td>\n",
              "      <td>1.0</td>\n",
              "      <td>0</td>\n",
              "      <td>1</td>\n",
              "      <td>2.0</td>\n",
              "      <td>0</td>\n",
              "    </tr>\n",
              "    <tr>\n",
              "      <th>888</th>\n",
              "      <td>1.0</td>\n",
              "      <td>0</td>\n",
              "      <td>3</td>\n",
              "      <td>2</td>\n",
              "      <td>1</td>\n",
              "      <td>2.0</td>\n",
              "      <td>3</td>\n",
              "      <td>0</td>\n",
              "      <td>2.0</td>\n",
              "      <td>0</td>\n",
              "    </tr>\n",
              "    <tr>\n",
              "      <th>889</th>\n",
              "      <td>1.0</td>\n",
              "      <td>1</td>\n",
              "      <td>1</td>\n",
              "      <td>0</td>\n",
              "      <td>0</td>\n",
              "      <td>2.0</td>\n",
              "      <td>0</td>\n",
              "      <td>1</td>\n",
              "      <td>2.0</td>\n",
              "      <td>1</td>\n",
              "    </tr>\n",
              "    <tr>\n",
              "      <th>890</th>\n",
              "      <td>1.0</td>\n",
              "      <td>0</td>\n",
              "      <td>3</td>\n",
              "      <td>0</td>\n",
              "      <td>0</td>\n",
              "      <td>3.0</td>\n",
              "      <td>0</td>\n",
              "      <td>1</td>\n",
              "      <td>0.0</td>\n",
              "      <td>2</td>\n",
              "    </tr>\n",
              "  </tbody>\n",
              "</table>\n",
              "<p>891 rows × 10 columns</p>\n",
              "</div>"
            ],
            "text/plain": [
              "     const  Survived  Pclass  Initial  Sex  Age_group  family  Alone  Fare_ca  \\\n",
              "0      1.0         0       3        0    0        2.0       1      0      0.0   \n",
              "1      1.0         1       1        1    1        3.0       1      0      4.0   \n",
              "2      1.0         1       3        2    1        2.0       0      1      0.0   \n",
              "3      1.0         1       1        1    1        3.0       1      0      4.0   \n",
              "4      1.0         0       3        0    0        3.0       0      1      0.0   \n",
              "..     ...       ...     ...      ...  ...        ...     ...    ...      ...   \n",
              "886    1.0         0       2        0    0        2.0       0      1      1.0   \n",
              "887    1.0         1       1        2    1        1.0       0      1      2.0   \n",
              "888    1.0         0       3        2    1        2.0       3      0      2.0   \n",
              "889    1.0         1       1        0    0        2.0       0      1      2.0   \n",
              "890    1.0         0       3        0    0        3.0       0      1      0.0   \n",
              "\n",
              "     Embarked  \n",
              "0           0  \n",
              "1           1  \n",
              "2           0  \n",
              "3           0  \n",
              "4           0  \n",
              "..        ...  \n",
              "886         0  \n",
              "887         0  \n",
              "888         0  \n",
              "889         1  \n",
              "890         2  \n",
              "\n",
              "[891 rows x 10 columns]"
            ]
          },
          "execution_count": 109,
          "metadata": {},
          "output_type": "execute_result"
        }
      ],
      "source": [
        "data_processed = sm.add_constant(data, has_constant='add')\n",
        "data_processed"
      ]
    },
    {
      "cell_type": "code",
      "execution_count": null,
      "id": "a7035dcb",
      "metadata": {
        "id": "a7035dcb"
      },
      "outputs": [],
      "source": [
        "feature_columns = list(data_processed.columns.difference([\"Survived\"]))\n",
        "X1 = data_processed[feature_columns]\n",
        "y1 = data_processed['Survived']"
      ]
    },
    {
      "cell_type": "code",
      "execution_count": null,
      "id": "55272693",
      "metadata": {
        "id": "55272693",
        "outputId": "a4cc3d17-6f4e-4276-cacb-4bacb9a8121e"
      },
      "outputs": [
        {
          "name": "stdout",
          "output_type": "stream",
          "text": [
            "(623, 9) (268, 9) (623,) (268,)\n"
          ]
        }
      ],
      "source": [
        "# 데이터 분할\n",
        "train_x1, test_x1, train_y1, test_y1 = train_test_split(X1, y1, stratify=y1,train_size=0.7,test_size=0.3,random_state=42)\n",
        "print(train_x1.shape, test_x1.shape, train_y1.shape, test_y1.shape)"
      ]
    },
    {
      "cell_type": "code",
      "execution_count": null,
      "id": "113eb261",
      "metadata": {
        "id": "113eb261",
        "outputId": "d2b25de6-1829-434b-f09e-3d845f5ca0e8"
      },
      "outputs": [
        {
          "data": {
            "text/html": [
              "<div>\n",
              "<style scoped>\n",
              "    .dataframe tbody tr th:only-of-type {\n",
              "        vertical-align: middle;\n",
              "    }\n",
              "\n",
              "    .dataframe tbody tr th {\n",
              "        vertical-align: top;\n",
              "    }\n",
              "\n",
              "    .dataframe thead th {\n",
              "        text-align: right;\n",
              "    }\n",
              "</style>\n",
              "<table border=\"1\" class=\"dataframe\">\n",
              "  <thead>\n",
              "    <tr style=\"text-align: right;\">\n",
              "      <th></th>\n",
              "      <th>Age_group</th>\n",
              "      <th>Alone</th>\n",
              "      <th>Embarked</th>\n",
              "      <th>Fare_ca</th>\n",
              "      <th>Initial</th>\n",
              "      <th>Pclass</th>\n",
              "      <th>Sex</th>\n",
              "      <th>const</th>\n",
              "      <th>family</th>\n",
              "    </tr>\n",
              "  </thead>\n",
              "  <tbody>\n",
              "    <tr>\n",
              "      <th>748</th>\n",
              "      <td>1.0</td>\n",
              "      <td>0</td>\n",
              "      <td>0</td>\n",
              "      <td>4.0</td>\n",
              "      <td>0</td>\n",
              "      <td>1</td>\n",
              "      <td>0</td>\n",
              "      <td>1.0</td>\n",
              "      <td>1</td>\n",
              "    </tr>\n",
              "    <tr>\n",
              "      <th>45</th>\n",
              "      <td>3.0</td>\n",
              "      <td>1</td>\n",
              "      <td>0</td>\n",
              "      <td>0.0</td>\n",
              "      <td>0</td>\n",
              "      <td>3</td>\n",
              "      <td>0</td>\n",
              "      <td>1.0</td>\n",
              "      <td>0</td>\n",
              "    </tr>\n",
              "    <tr>\n",
              "      <th>28</th>\n",
              "      <td>2.0</td>\n",
              "      <td>1</td>\n",
              "      <td>2</td>\n",
              "      <td>0.0</td>\n",
              "      <td>2</td>\n",
              "      <td>3</td>\n",
              "      <td>1</td>\n",
              "      <td>1.0</td>\n",
              "      <td>0</td>\n",
              "    </tr>\n",
              "    <tr>\n",
              "      <th>633</th>\n",
              "      <td>3.0</td>\n",
              "      <td>1</td>\n",
              "      <td>0</td>\n",
              "      <td>0.0</td>\n",
              "      <td>0</td>\n",
              "      <td>1</td>\n",
              "      <td>0</td>\n",
              "      <td>1.0</td>\n",
              "      <td>0</td>\n",
              "    </tr>\n",
              "    <tr>\n",
              "      <th>403</th>\n",
              "      <td>2.0</td>\n",
              "      <td>0</td>\n",
              "      <td>0</td>\n",
              "      <td>1.0</td>\n",
              "      <td>0</td>\n",
              "      <td>3</td>\n",
              "      <td>0</td>\n",
              "      <td>1.0</td>\n",
              "      <td>1</td>\n",
              "    </tr>\n",
              "  </tbody>\n",
              "</table>\n",
              "</div>"
            ],
            "text/plain": [
              "     Age_group  Alone  Embarked  Fare_ca  Initial  Pclass  Sex  const  family\n",
              "748        1.0      0         0      4.0        0       1    0    1.0       1\n",
              "45         3.0      1         0      0.0        0       3    0    1.0       0\n",
              "28         2.0      1         2      0.0        2       3    1    1.0       0\n",
              "633        3.0      1         0      0.0        0       1    0    1.0       0\n",
              "403        2.0      0         0      1.0        0       3    0    1.0       1"
            ]
          },
          "execution_count": 138,
          "metadata": {},
          "output_type": "execute_result"
        }
      ],
      "source": [
        "train_x1.head()"
      ]
    },
    {
      "cell_type": "code",
      "execution_count": null,
      "id": "67abcaa2",
      "metadata": {
        "id": "67abcaa2",
        "outputId": "96889c89-b644-410d-8341-f779b7130495"
      },
      "outputs": [
        {
          "name": "stdout",
          "output_type": "stream",
          "text": [
            "Optimization terminated successfully.\n",
            "         Current function value: 0.426180\n",
            "         Iterations 6\n"
          ]
        }
      ],
      "source": [
        "# 모델 적합\n",
        "model1 = sm.Logit(train_y1, train_x1)\n",
        "results = model1.fit()"
      ]
    },
    {
      "cell_type": "code",
      "execution_count": null,
      "id": "9a12943a",
      "metadata": {
        "id": "9a12943a",
        "outputId": "83a90095-0f45-41e7-8680-be100cb907d0"
      },
      "outputs": [
        {
          "data": {
            "text/html": [
              "<table class=\"simpletable\">\n",
              "<caption>Logit Regression Results</caption>\n",
              "<tr>\n",
              "  <th>Dep. Variable:</th>       <td>Survived</td>     <th>  No. Observations:  </th>  <td>   623</td>  \n",
              "</tr>\n",
              "<tr>\n",
              "  <th>Model:</th>                 <td>Logit</td>      <th>  Df Residuals:      </th>  <td>   614</td>  \n",
              "</tr>\n",
              "<tr>\n",
              "  <th>Method:</th>                 <td>MLE</td>       <th>  Df Model:          </th>  <td>     8</td>  \n",
              "</tr>\n",
              "<tr>\n",
              "  <th>Date:</th>            <td>Wed, 10 May 2023</td> <th>  Pseudo R-squ.:     </th>  <td>0.3599</td>  \n",
              "</tr>\n",
              "<tr>\n",
              "  <th>Time:</th>                <td>23:38:04</td>     <th>  Log-Likelihood:    </th> <td> -265.51</td> \n",
              "</tr>\n",
              "<tr>\n",
              "  <th>converged:</th>             <td>True</td>       <th>  LL-Null:           </th> <td> -414.80</td> \n",
              "</tr>\n",
              "<tr>\n",
              "  <th>Covariance Type:</th>     <td>nonrobust</td>    <th>  LLR p-value:       </th> <td>8.251e-60</td>\n",
              "</tr>\n",
              "</table>\n",
              "<table class=\"simpletable\">\n",
              "<tr>\n",
              "      <td></td>         <th>coef</th>     <th>std err</th>      <th>z</th>      <th>P>|z|</th>  <th>[0.025</th>    <th>0.975]</th>  \n",
              "</tr>\n",
              "<tr>\n",
              "  <th>Age_group</th> <td>   -0.2160</td> <td>    0.109</td> <td>   -1.973</td> <td> 0.048</td> <td>   -0.431</td> <td>   -0.001</td>\n",
              "</tr>\n",
              "<tr>\n",
              "  <th>Alone</th>     <td>   -0.6035</td> <td>    0.348</td> <td>   -1.732</td> <td> 0.083</td> <td>   -1.286</td> <td>    0.079</td>\n",
              "</tr>\n",
              "<tr>\n",
              "  <th>Embarked</th>  <td>    0.2025</td> <td>    0.177</td> <td>    1.143</td> <td> 0.253</td> <td>   -0.145</td> <td>    0.550</td>\n",
              "</tr>\n",
              "<tr>\n",
              "  <th>Fare_ca</th>   <td>    0.0929</td> <td>    0.136</td> <td>    0.685</td> <td> 0.493</td> <td>   -0.173</td> <td>    0.359</td>\n",
              "</tr>\n",
              "<tr>\n",
              "  <th>Initial</th>   <td>    0.6674</td> <td>    0.187</td> <td>    3.560</td> <td> 0.000</td> <td>    0.300</td> <td>    1.035</td>\n",
              "</tr>\n",
              "<tr>\n",
              "  <th>Pclass</th>    <td>   -0.9533</td> <td>    0.242</td> <td>   -3.936</td> <td> 0.000</td> <td>   -1.428</td> <td>   -0.479</td>\n",
              "</tr>\n",
              "<tr>\n",
              "  <th>Sex</th>       <td>    1.9036</td> <td>    0.309</td> <td>    6.160</td> <td> 0.000</td> <td>    1.298</td> <td>    2.509</td>\n",
              "</tr>\n",
              "<tr>\n",
              "  <th>const</th>     <td>    1.5193</td> <td>    0.850</td> <td>    1.787</td> <td> 0.074</td> <td>   -0.147</td> <td>    3.185</td>\n",
              "</tr>\n",
              "<tr>\n",
              "  <th>family</th>    <td>   -0.4469</td> <td>    0.134</td> <td>   -3.346</td> <td> 0.001</td> <td>   -0.709</td> <td>   -0.185</td>\n",
              "</tr>\n",
              "</table>"
            ],
            "text/plain": [
              "<class 'statsmodels.iolib.summary.Summary'>\n",
              "\"\"\"\n",
              "                           Logit Regression Results                           \n",
              "==============================================================================\n",
              "Dep. Variable:               Survived   No. Observations:                  623\n",
              "Model:                          Logit   Df Residuals:                      614\n",
              "Method:                           MLE   Df Model:                            8\n",
              "Date:                Wed, 10 May 2023   Pseudo R-squ.:                  0.3599\n",
              "Time:                        23:38:04   Log-Likelihood:                -265.51\n",
              "converged:                       True   LL-Null:                       -414.80\n",
              "Covariance Type:            nonrobust   LLR p-value:                 8.251e-60\n",
              "==============================================================================\n",
              "                 coef    std err          z      P>|z|      [0.025      0.975]\n",
              "------------------------------------------------------------------------------\n",
              "Age_group     -0.2160      0.109     -1.973      0.048      -0.431      -0.001\n",
              "Alone         -0.6035      0.348     -1.732      0.083      -1.286       0.079\n",
              "Embarked       0.2025      0.177      1.143      0.253      -0.145       0.550\n",
              "Fare_ca        0.0929      0.136      0.685      0.493      -0.173       0.359\n",
              "Initial        0.6674      0.187      3.560      0.000       0.300       1.035\n",
              "Pclass        -0.9533      0.242     -3.936      0.000      -1.428      -0.479\n",
              "Sex            1.9036      0.309      6.160      0.000       1.298       2.509\n",
              "const          1.5193      0.850      1.787      0.074      -0.147       3.185\n",
              "family        -0.4469      0.134     -3.346      0.001      -0.709      -0.185\n",
              "==============================================================================\n",
              "\"\"\""
            ]
          },
          "execution_count": 113,
          "metadata": {},
          "output_type": "execute_result"
        }
      ],
      "source": [
        "results.summary()"
      ]
    },
    {
      "cell_type": "code",
      "execution_count": null,
      "id": "01e791cd",
      "metadata": {
        "id": "01e791cd",
        "outputId": "5b43f5a6-85f5-4386-9bb7-7e41d16e3d11"
      },
      "outputs": [
        {
          "data": {
            "text/plain": [
              "Age_group    0.805714\n",
              "Alone        0.546920\n",
              "Embarked     1.224472\n",
              "Fare_ca      1.097384\n",
              "Initial      1.949230\n",
              "Pclass       0.385464\n",
              "Sex          6.709952\n",
              "const        4.569139\n",
              "family       0.639625\n",
              "dtype: float64"
            ]
          },
          "execution_count": 114,
          "metadata": {},
          "output_type": "execute_result"
        }
      ],
      "source": [
        "# 로지스틱 회귀 계수의 경우 log형태가 취해진 결과이므로 exp 변환을 적용해야 함\n",
        "# 회귀계수 (해석을 위하여 exp를 적용함)\n",
        "np.exp(results.params)"
      ]
    },
    {
      "cell_type": "code",
      "execution_count": null,
      "id": "a4c2a6a5",
      "metadata": {
        "id": "a4c2a6a5"
      },
      "outputs": [],
      "source": [
        "pred_sm = results.predict(test_x1)"
      ]
    },
    {
      "cell_type": "code",
      "execution_count": null,
      "id": "d53a50e1",
      "metadata": {
        "id": "d53a50e1",
        "outputId": "b4ebf4e8-ddab-4819-e0d7-8c5623287c8e"
      },
      "outputs": [
        {
          "data": {
            "text/plain": [
              "625    0.301792\n",
              "566    0.103393\n",
              "459    0.100914\n",
              "804    0.085013\n",
              "338    0.056885\n",
              "         ...   \n",
              "184    0.766736\n",
              "607    0.452469\n",
              "624    0.092526\n",
              "103    0.069647\n",
              "387    0.844561\n",
              "Length: 268, dtype: float64"
            ]
          },
          "execution_count": 116,
          "metadata": {},
          "output_type": "execute_result"
        }
      ],
      "source": [
        "pred_sm"
      ]
    },
    {
      "cell_type": "code",
      "execution_count": null,
      "id": "626c3712",
      "metadata": {
        "id": "626c3712"
      },
      "outputs": [],
      "source": [
        "# threshold에 따라서 0과 1을 결정하는 cut off 함수 만들기\n",
        "def cut_off(y,threshold):\n",
        "    Y = y.copy() # copy함수를 사용하여 이전의 y값이 변화지 않게 함\n",
        "    Y[Y>threshold]=1\n",
        "    Y[Y<=threshold]=0\n",
        "    return(Y.astype(int))"
      ]
    },
    {
      "cell_type": "code",
      "execution_count": null,
      "id": "7f40e058",
      "metadata": {
        "id": "7f40e058",
        "outputId": "4bbd5b57-06bb-41a1-e869-e9c9ad26cceb"
      },
      "outputs": [
        {
          "data": {
            "text/plain": [
              "625    0\n",
              "566    0\n",
              "459    0\n",
              "804    0\n",
              "338    0\n",
              "      ..\n",
              "184    1\n",
              "607    0\n",
              "624    0\n",
              "103    0\n",
              "387    1\n",
              "Length: 268, dtype: int32"
            ]
          },
          "execution_count": 119,
          "metadata": {},
          "output_type": "execute_result"
        }
      ],
      "source": [
        "# cut off를 적용한 Y 예측치\n",
        "\n",
        "pred_y1 = cut_off(pred_sm,0.5)\n",
        "pred_y1"
      ]
    },
    {
      "cell_type": "code",
      "execution_count": null,
      "id": "07990966",
      "metadata": {
        "id": "07990966"
      },
      "outputs": [],
      "source": [
        "cm=confusion_matrix(test_y1, pred_y1)"
      ]
    },
    {
      "cell_type": "code",
      "execution_count": null,
      "id": "7705cb42",
      "metadata": {
        "id": "7705cb42",
        "outputId": "7de92d0d-cc44-4f0c-e225-271f060486fe"
      },
      "outputs": [
        {
          "data": {
            "text/plain": [
              "0.835820895522388"
            ]
          },
          "execution_count": 139,
          "metadata": {},
          "output_type": "execute_result"
        }
      ],
      "source": [
        "## confusion matrix accuracy계산하기\n",
        "(cm[0,0] + cm[1,1])/len(pred_y1)"
      ]
    },
    {
      "cell_type": "code",
      "execution_count": null,
      "id": "d3b94bce",
      "metadata": {
        "id": "d3b94bce",
        "outputId": "9e099687-bc05-439f-de2f-4150d4fd5be1"
      },
      "outputs": [
        {
          "name": "stdout",
          "output_type": "stream",
          "text": [
            "AUC: 0.8789349808767285\n"
          ]
        },
        {
          "data": {
            "image/png": "[encoded data removed]",
            "text/plain": [
              "<Figure size 432x288 with 1 Axes>"
            ]
          },
          "metadata": {
            "needs_background": "light"
          },
          "output_type": "display_data"
        }
      ],
      "source": [
        "# sklearn ROC 패키지 제공\n",
        "fpr, tpr, thresholds = metrics.roc_curve(test_y1, pred_sm, pos_label=1)\n",
        "\n",
        "# Print ROC curve\n",
        "plt.plot(fpr,tpr)\n",
        "\n",
        "# Print AUC\n",
        "auc = np.trapz(tpr,fpr)\n",
        "print('AUC:', auc)\n"
      ]
    },
    {
      "cell_type": "markdown",
      "id": "d54a75c6",
      "metadata": {
        "id": "d54a75c6"
      },
      "source": [
        "#### 4) Fare_ca를 제외하고 다시 분석"
      ]
    },
    {
      "cell_type": "code",
      "execution_count": null,
      "id": "9e7bac38",
      "metadata": {
        "id": "9e7bac38"
      },
      "outputs": [],
      "source": [
        "# 사이킷런 패키지 이용\n",
        "feature_columns1 = list(data.columns.difference([\"Survived\", \"Fare_ca\"]))\n",
        "X2 = data[feature_columns1]\n",
        "y2 = data['Survived']"
      ]
    },
    {
      "cell_type": "code",
      "execution_count": null,
      "id": "29740b1e",
      "metadata": {
        "id": "29740b1e",
        "outputId": "b9db0f50-dcb5-4a15-eb4e-453eb58b3776"
      },
      "outputs": [
        {
          "data": {
            "text/html": [
              "<div>\n",
              "<style scoped>\n",
              "    .dataframe tbody tr th:only-of-type {\n",
              "        vertical-align: middle;\n",
              "    }\n",
              "\n",
              "    .dataframe tbody tr th {\n",
              "        vertical-align: top;\n",
              "    }\n",
              "\n",
              "    .dataframe thead th {\n",
              "        text-align: right;\n",
              "    }\n",
              "</style>\n",
              "<table border=\"1\" class=\"dataframe\">\n",
              "  <thead>\n",
              "    <tr style=\"text-align: right;\">\n",
              "      <th></th>\n",
              "      <th>Age_group</th>\n",
              "      <th>Alone</th>\n",
              "      <th>Embarked</th>\n",
              "      <th>Initial</th>\n",
              "      <th>Pclass</th>\n",
              "      <th>Sex</th>\n",
              "      <th>family</th>\n",
              "    </tr>\n",
              "  </thead>\n",
              "  <tbody>\n",
              "    <tr>\n",
              "      <th>0</th>\n",
              "      <td>2.0</td>\n",
              "      <td>0</td>\n",
              "      <td>0</td>\n",
              "      <td>0</td>\n",
              "      <td>3</td>\n",
              "      <td>0</td>\n",
              "      <td>1</td>\n",
              "    </tr>\n",
              "    <tr>\n",
              "      <th>1</th>\n",
              "      <td>3.0</td>\n",
              "      <td>0</td>\n",
              "      <td>1</td>\n",
              "      <td>1</td>\n",
              "      <td>1</td>\n",
              "      <td>1</td>\n",
              "      <td>1</td>\n",
              "    </tr>\n",
              "    <tr>\n",
              "      <th>2</th>\n",
              "      <td>2.0</td>\n",
              "      <td>1</td>\n",
              "      <td>0</td>\n",
              "      <td>2</td>\n",
              "      <td>3</td>\n",
              "      <td>1</td>\n",
              "      <td>0</td>\n",
              "    </tr>\n",
              "    <tr>\n",
              "      <th>3</th>\n",
              "      <td>3.0</td>\n",
              "      <td>0</td>\n",
              "      <td>0</td>\n",
              "      <td>1</td>\n",
              "      <td>1</td>\n",
              "      <td>1</td>\n",
              "      <td>1</td>\n",
              "    </tr>\n",
              "    <tr>\n",
              "      <th>4</th>\n",
              "      <td>3.0</td>\n",
              "      <td>1</td>\n",
              "      <td>0</td>\n",
              "      <td>0</td>\n",
              "      <td>3</td>\n",
              "      <td>0</td>\n",
              "      <td>0</td>\n",
              "    </tr>\n",
              "  </tbody>\n",
              "</table>\n",
              "</div>"
            ],
            "text/plain": [
              "   Age_group  Alone  Embarked  Initial  Pclass  Sex  family\n",
              "0        2.0      0         0        0       3    0       1\n",
              "1        3.0      0         1        1       1    1       1\n",
              "2        2.0      1         0        2       3    1       0\n",
              "3        3.0      0         0        1       1    1       1\n",
              "4        3.0      1         0        0       3    0       0"
            ]
          },
          "execution_count": 132,
          "metadata": {},
          "output_type": "execute_result"
        }
      ],
      "source": [
        "X2.head()"
      ]
    },
    {
      "cell_type": "code",
      "execution_count": null,
      "id": "05eb49b1",
      "metadata": {
        "id": "05eb49b1",
        "outputId": "945dd7fb-45eb-42b2-cf8a-06987853e4c3"
      },
      "outputs": [
        {
          "name": "stdout",
          "output_type": "stream",
          "text": [
            "(623, 7) (268, 7) (623,) (268,)\n"
          ]
        }
      ],
      "source": [
        "# 데이터 분할\n",
        "train_x2, test_x2, train_y2, test_y2 = train_test_split(X2, y2, stratify=y2,train_size=0.7,test_size=0.3,random_state=42)\n",
        "print(train_x2.shape, test_x2.shape, train_y2.shape, test_y2.shape)"
      ]
    },
    {
      "cell_type": "code",
      "execution_count": null,
      "id": "ab12367b",
      "metadata": {
        "id": "ab12367b",
        "outputId": "5b66032f-bd87-4641-e8af-6ef31d4837bd"
      },
      "outputs": [
        {
          "data": {
            "text/plain": [
              "LogisticRegression()"
            ]
          },
          "execution_count": 140,
          "metadata": {},
          "output_type": "execute_result"
        }
      ],
      "source": [
        "# 모델 적합\n",
        "model2 = LogisticRegression()\n",
        "model2.fit(train_x2, train_y2)"
      ]
    },
    {
      "cell_type": "code",
      "execution_count": null,
      "id": "37e9d73f",
      "metadata": {
        "id": "37e9d73f"
      },
      "outputs": [],
      "source": [
        "pred2 = model2.predict(test_x2)"
      ]
    },
    {
      "cell_type": "code",
      "execution_count": null,
      "id": "d969d974",
      "metadata": {
        "id": "d969d974",
        "outputId": "61347a80-fcd9-498a-c0b2-861dc3c0bf5e"
      },
      "outputs": [
        {
          "data": {
            "text/plain": [
              "83.5820895522388"
            ]
          },
          "execution_count": 142,
          "metadata": {},
          "output_type": "execute_result"
        }
      ],
      "source": [
        "# 정확도 계산\n",
        "accuracy_score(pred2, test_y2)*100"
      ]
    },
    {
      "cell_type": "code",
      "execution_count": null,
      "id": "418f3da0",
      "metadata": {
        "id": "418f3da0"
      },
      "outputs": [],
      "source": [
        "# 오히려 정확도 감소하여 삭제할 이유 없음"
      ]
    }
  ],
  "metadata": {
    "kernelspec": {
      "display_name": "Python 3 (ipykernel)",
      "language": "python",
      "name": "python3"
    },
    "language_info": {
      "codemirror_mode": {
        "name": "ipython",
        "version": 3
      },
      "file_extension": ".py",
      "mimetype": "text/x-python",
      "name": "python",
      "nbconvert_exporter": "python",
      "pygments_lexer": "ipython3",
      "version": "3.7.13"
    },
    "colab": {
      "provenance": [],
      "include_colab_link": true
    }
  },
  "nbformat": 4,
  "nbformat_minor": 5
}
