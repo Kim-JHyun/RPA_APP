{
  "cells": [
    {
      "cell_type": "markdown",
      "metadata": {
        "id": "view-in-github",
        "colab_type": "text"
      },
      "source": [
        "<a href=\"https://colab.research.google.com/github/Kim-JHyun/RPA_Web/blob/main/01_1_%EA%B2%B0%EC%B8%A1%EC%B9%98_%EC%B2%98%EB%A6%AC.ipynb\" target=\"_parent\"><img src=\"https://colab.research.google.com/assets/colab-badge.svg\" alt=\"Open In Colab\"/></a>"
      ]
    },
    {
      "cell_type": "markdown",
      "id": "5cc51356",
      "metadata": {
        "id": "5cc51356"
      },
      "source": [
        "### 결측치 처리"
      ]
    },
    {
      "cell_type": "code",
      "execution_count": null,
      "id": "539c8e8a",
      "metadata": {
        "id": "539c8e8a"
      },
      "outputs": [],
      "source": [
        "import seaborn as sns"
      ]
    },
    {
      "cell_type": "markdown",
      "id": "acc7d8a5",
      "metadata": {
        "id": "acc7d8a5"
      },
      "source": [
        "#### IRIS 데이터\n",
        "\n",
        "- 붓꽃의 3가지 종(setosa(세토사), versicolor(버시컬러), virginica(버지니카))별로 각각 50개 데이터의 꽃받침, 꽃잎의 길이와 너비를 센티미터 단위로 측정하여 정리한 150개 데이터셋\n",
        "- sepal length (cm) : 꽃받침 길이\n",
        "- sepal width (cm) : 꽃받침 너비\n",
        "- petal length (cm) : 꽃잎 길이\n",
        "- petal width (cm) : 꽃잎 너비\n",
        "- species : 종(setosa, versicolor, virginica)"
      ]
    },
    {
      "cell_type": "code",
      "execution_count": null,
      "id": "f73a264c",
      "metadata": {
        "id": "f73a264c"
      },
      "outputs": [],
      "source": [
        "iris = sns.load_dataset(\"iris\")"
      ]
    },
    {
      "cell_type": "code",
      "execution_count": null,
      "id": "491fbe47",
      "metadata": {
        "id": "491fbe47",
        "outputId": "0c90a9d1-4b53-4f0d-cf67-220b14a87741"
      },
      "outputs": [
        {
          "data": {
            "text/html": [
              "<div>\n",
              "<style scoped>\n",
              "    .dataframe tbody tr th:only-of-type {\n",
              "        vertical-align: middle;\n",
              "    }\n",
              "\n",
              "    .dataframe tbody tr th {\n",
              "        vertical-align: top;\n",
              "    }\n",
              "\n",
              "    .dataframe thead th {\n",
              "        text-align: right;\n",
              "    }\n",
              "</style>\n",
              "<table border=\"1\" class=\"dataframe\">\n",
              "  <thead>\n",
              "    <tr style=\"text-align: right;\">\n",
              "      <th></th>\n",
              "      <th>sepal_length</th>\n",
              "      <th>sepal_width</th>\n",
              "      <th>petal_length</th>\n",
              "      <th>petal_width</th>\n",
              "      <th>species</th>\n",
              "    </tr>\n",
              "  </thead>\n",
              "  <tbody>\n",
              "    <tr>\n",
              "      <th>0</th>\n",
              "      <td>5.1</td>\n",
              "      <td>3.5</td>\n",
              "      <td>1.4</td>\n",
              "      <td>0.2</td>\n",
              "      <td>setosa</td>\n",
              "    </tr>\n",
              "    <tr>\n",
              "      <th>1</th>\n",
              "      <td>4.9</td>\n",
              "      <td>3.0</td>\n",
              "      <td>1.4</td>\n",
              "      <td>0.2</td>\n",
              "      <td>setosa</td>\n",
              "    </tr>\n",
              "    <tr>\n",
              "      <th>2</th>\n",
              "      <td>4.7</td>\n",
              "      <td>3.2</td>\n",
              "      <td>1.3</td>\n",
              "      <td>0.2</td>\n",
              "      <td>setosa</td>\n",
              "    </tr>\n",
              "    <tr>\n",
              "      <th>3</th>\n",
              "      <td>4.6</td>\n",
              "      <td>3.1</td>\n",
              "      <td>1.5</td>\n",
              "      <td>0.2</td>\n",
              "      <td>setosa</td>\n",
              "    </tr>\n",
              "    <tr>\n",
              "      <th>4</th>\n",
              "      <td>5.0</td>\n",
              "      <td>3.6</td>\n",
              "      <td>1.4</td>\n",
              "      <td>0.2</td>\n",
              "      <td>setosa</td>\n",
              "    </tr>\n",
              "  </tbody>\n",
              "</table>\n",
              "</div>"
            ],
            "text/plain": [
              "   sepal_length  sepal_width  petal_length  petal_width species\n",
              "0           5.1          3.5           1.4          0.2  setosa\n",
              "1           4.9          3.0           1.4          0.2  setosa\n",
              "2           4.7          3.2           1.3          0.2  setosa\n",
              "3           4.6          3.1           1.5          0.2  setosa\n",
              "4           5.0          3.6           1.4          0.2  setosa"
            ]
          },
          "execution_count": 17,
          "metadata": {},
          "output_type": "execute_result"
        }
      ],
      "source": [
        "iris.head()"
      ]
    },
    {
      "cell_type": "code",
      "execution_count": null,
      "id": "a61806f5",
      "metadata": {
        "id": "a61806f5",
        "outputId": "116a12d2-7cd2-47bd-de72-d9254861dcfa"
      },
      "outputs": [
        {
          "name": "stdout",
          "output_type": "stream",
          "text": [
            "<class 'pandas.core.frame.DataFrame'>\n",
            "RangeIndex: 150 entries, 0 to 149\n",
            "Data columns (total 5 columns):\n",
            " #   Column        Non-Null Count  Dtype  \n",
            "---  ------        --------------  -----  \n",
            " 0   sepal_length  150 non-null    float64\n",
            " 1   sepal_width   150 non-null    float64\n",
            " 2   petal_length  150 non-null    float64\n",
            " 3   petal_width   150 non-null    float64\n",
            " 4   species       150 non-null    object \n",
            "dtypes: float64(4), object(1)\n",
            "memory usage: 6.0+ KB\n"
          ]
        }
      ],
      "source": [
        "iris.info()"
      ]
    },
    {
      "cell_type": "code",
      "execution_count": null,
      "id": "5ecbc69e",
      "metadata": {
        "id": "5ecbc69e",
        "outputId": "8ed1efe4-6be6-48a6-89be-96e09b260ba0"
      },
      "outputs": [
        {
          "data": {
            "text/html": [
              "<div>\n",
              "<style scoped>\n",
              "    .dataframe tbody tr th:only-of-type {\n",
              "        vertical-align: middle;\n",
              "    }\n",
              "\n",
              "    .dataframe tbody tr th {\n",
              "        vertical-align: top;\n",
              "    }\n",
              "\n",
              "    .dataframe thead th {\n",
              "        text-align: right;\n",
              "    }\n",
              "</style>\n",
              "<table border=\"1\" class=\"dataframe\">\n",
              "  <thead>\n",
              "    <tr style=\"text-align: right;\">\n",
              "      <th></th>\n",
              "      <th>sepal_length</th>\n",
              "      <th>sepal_width</th>\n",
              "      <th>petal_length</th>\n",
              "      <th>petal_width</th>\n",
              "    </tr>\n",
              "  </thead>\n",
              "  <tbody>\n",
              "    <tr>\n",
              "      <th>0</th>\n",
              "      <td>5.1</td>\n",
              "      <td>3.5</td>\n",
              "      <td>1.4</td>\n",
              "      <td>0.2</td>\n",
              "    </tr>\n",
              "    <tr>\n",
              "      <th>1</th>\n",
              "      <td>4.9</td>\n",
              "      <td>3.0</td>\n",
              "      <td>1.4</td>\n",
              "      <td>0.2</td>\n",
              "    </tr>\n",
              "    <tr>\n",
              "      <th>2</th>\n",
              "      <td>4.7</td>\n",
              "      <td>3.2</td>\n",
              "      <td>1.3</td>\n",
              "      <td>0.2</td>\n",
              "    </tr>\n",
              "    <tr>\n",
              "      <th>3</th>\n",
              "      <td>4.6</td>\n",
              "      <td>3.1</td>\n",
              "      <td>1.5</td>\n",
              "      <td>0.2</td>\n",
              "    </tr>\n",
              "    <tr>\n",
              "      <th>4</th>\n",
              "      <td>5.0</td>\n",
              "      <td>3.6</td>\n",
              "      <td>1.4</td>\n",
              "      <td>0.2</td>\n",
              "    </tr>\n",
              "  </tbody>\n",
              "</table>\n",
              "</div>"
            ],
            "text/plain": [
              "   sepal_length  sepal_width  petal_length  petal_width\n",
              "0           5.1          3.5           1.4          0.2\n",
              "1           4.9          3.0           1.4          0.2\n",
              "2           4.7          3.2           1.3          0.2\n",
              "3           4.6          3.1           1.5          0.2\n",
              "4           5.0          3.6           1.4          0.2"
            ]
          },
          "execution_count": 26,
          "metadata": {},
          "output_type": "execute_result"
        }
      ],
      "source": [
        "# .loc는 location 함수롤 특정 조건의 데이터를 추출하기 위해 많이 사용\n",
        "iris_X = iris.loc[:, :\"petal_width\"]\n",
        "iris_X.head()"
      ]
    },
    {
      "cell_type": "code",
      "execution_count": null,
      "id": "26f60cce",
      "metadata": {
        "id": "26f60cce"
      },
      "outputs": [],
      "source": [
        "# 결측값을 임의로 추가\n",
        "import random\n",
        "random.seed(1234)\n",
        "for col in range(4):\n",
        "    iris_X.iloc[[random.sample(range(len(iris)), 20)], col] = float('nan')"
      ]
    },
    {
      "cell_type": "code",
      "execution_count": null,
      "id": "f799a480",
      "metadata": {
        "id": "f799a480",
        "outputId": "15187d38-e8a0-47e7-9e51-b5db25b5384f"
      },
      "outputs": [
        {
          "data": {
            "text/html": [
              "<div>\n",
              "<style scoped>\n",
              "    .dataframe tbody tr th:only-of-type {\n",
              "        vertical-align: middle;\n",
              "    }\n",
              "\n",
              "    .dataframe tbody tr th {\n",
              "        vertical-align: top;\n",
              "    }\n",
              "\n",
              "    .dataframe thead th {\n",
              "        text-align: right;\n",
              "    }\n",
              "</style>\n",
              "<table border=\"1\" class=\"dataframe\">\n",
              "  <thead>\n",
              "    <tr style=\"text-align: right;\">\n",
              "      <th></th>\n",
              "      <th>sepal_length</th>\n",
              "      <th>sepal_width</th>\n",
              "      <th>petal_length</th>\n",
              "      <th>petal_width</th>\n",
              "    </tr>\n",
              "  </thead>\n",
              "  <tbody>\n",
              "    <tr>\n",
              "      <th>0</th>\n",
              "      <td>5.1</td>\n",
              "      <td>3.5</td>\n",
              "      <td>1.4</td>\n",
              "      <td>0.2</td>\n",
              "    </tr>\n",
              "    <tr>\n",
              "      <th>1</th>\n",
              "      <td>NaN</td>\n",
              "      <td>3.0</td>\n",
              "      <td>NaN</td>\n",
              "      <td>0.2</td>\n",
              "    </tr>\n",
              "    <tr>\n",
              "      <th>2</th>\n",
              "      <td>4.7</td>\n",
              "      <td>3.2</td>\n",
              "      <td>1.3</td>\n",
              "      <td>0.2</td>\n",
              "    </tr>\n",
              "    <tr>\n",
              "      <th>3</th>\n",
              "      <td>NaN</td>\n",
              "      <td>3.1</td>\n",
              "      <td>1.5</td>\n",
              "      <td>0.2</td>\n",
              "    </tr>\n",
              "    <tr>\n",
              "      <th>4</th>\n",
              "      <td>NaN</td>\n",
              "      <td>NaN</td>\n",
              "      <td>1.4</td>\n",
              "      <td>0.2</td>\n",
              "    </tr>\n",
              "  </tbody>\n",
              "</table>\n",
              "</div>"
            ],
            "text/plain": [
              "   sepal_length  sepal_width  petal_length  petal_width\n",
              "0           5.1          3.5           1.4          0.2\n",
              "1           NaN          3.0           NaN          0.2\n",
              "2           4.7          3.2           1.3          0.2\n",
              "3           NaN          3.1           1.5          0.2\n",
              "4           NaN          NaN           1.4          0.2"
            ]
          },
          "execution_count": 28,
          "metadata": {},
          "output_type": "execute_result"
        }
      ],
      "source": [
        "iris_X.head()"
      ]
    },
    {
      "cell_type": "code",
      "execution_count": null,
      "id": "51b12cda",
      "metadata": {
        "id": "51b12cda",
        "outputId": "946fb17a-aaf6-4b7a-9796-12ed39245219"
      },
      "outputs": [
        {
          "name": "stdout",
          "output_type": "stream",
          "text": [
            "<class 'pandas.core.frame.DataFrame'>\n",
            "RangeIndex: 150 entries, 0 to 149\n",
            "Data columns (total 4 columns):\n",
            " #   Column        Non-Null Count  Dtype  \n",
            "---  ------        --------------  -----  \n",
            " 0   sepal_length  130 non-null    float64\n",
            " 1   sepal_width   130 non-null    float64\n",
            " 2   petal_length  130 non-null    float64\n",
            " 3   petal_width   130 non-null    float64\n",
            "dtypes: float64(4)\n",
            "memory usage: 4.8 KB\n"
          ]
        }
      ],
      "source": [
        "iris_X.info()"
      ]
    },
    {
      "cell_type": "markdown",
      "id": "37fad47e",
      "metadata": {
        "id": "37fad47e"
      },
      "source": [
        "#### 1) 평균으로 대체"
      ]
    },
    {
      "cell_type": "code",
      "execution_count": null,
      "id": "65c3c021",
      "metadata": {
        "id": "65c3c021",
        "outputId": "e3506bad-f763-405e-be1c-c1b081ecdbcf"
      },
      "outputs": [
        {
          "data": {
            "text/plain": [
              "sepal_length    5.902308\n",
              "sepal_width     3.058462\n",
              "petal_length    3.857692\n",
              "petal_width     1.172308\n",
              "dtype: float64"
            ]
          },
          "execution_count": 30,
          "metadata": {},
          "output_type": "execute_result"
        }
      ],
      "source": [
        "iris_X.mean()"
      ]
    },
    {
      "cell_type": "code",
      "execution_count": null,
      "id": "b939dc09",
      "metadata": {
        "id": "b939dc09",
        "outputId": "ed5c31d8-74af-4c17-b36d-b47644abcbf4"
      },
      "outputs": [
        {
          "data": {
            "text/plain": [
              "SimpleImputer()"
            ]
          },
          "execution_count": 31,
          "metadata": {},
          "output_type": "execute_result"
        }
      ],
      "source": [
        "from sklearn.impute import SimpleImputer\n",
        "ir_mean = SimpleImputer(strategy = 'mean')\n",
        "ir_mean.fit(iris_X)"
      ]
    },
    {
      "cell_type": "code",
      "execution_count": null,
      "id": "a0f214cf",
      "metadata": {
        "id": "a0f214cf"
      },
      "outputs": [],
      "source": [
        "iris_mean = ir_mean.transform(iris_X)"
      ]
    },
    {
      "cell_type": "code",
      "execution_count": null,
      "id": "baf03abd",
      "metadata": {
        "id": "baf03abd",
        "outputId": "44f517fb-d453-4829-bc8b-fd1ab29698a3"
      },
      "outputs": [
        {
          "data": {
            "text/plain": [
              "array([[5.1       , 3.5       , 1.4       , 0.2       ],\n",
              "       [5.90230769, 3.        , 3.85769231, 0.2       ],\n",
              "       [4.7       , 3.2       , 1.3       , 0.2       ],\n",
              "       [5.90230769, 3.1       , 1.5       , 0.2       ],\n",
              "       [5.90230769, 3.05846154, 1.4       , 0.2       ]])"
            ]
          },
          "execution_count": 33,
          "metadata": {},
          "output_type": "execute_result"
        }
      ],
      "source": [
        "iris_mean[:5, ]"
      ]
    },
    {
      "cell_type": "markdown",
      "id": "7d57bec6",
      "metadata": {
        "id": "7d57bec6"
      },
      "source": [
        "#### 2) 중앙값으로 채우기"
      ]
    },
    {
      "cell_type": "code",
      "execution_count": null,
      "id": "270881e4",
      "metadata": {
        "id": "270881e4",
        "outputId": "a5d3b790-ac3f-4039-a05d-7934ba19d728"
      },
      "outputs": [
        {
          "data": {
            "text/plain": [
              "sepal_length    5.8\n",
              "sepal_width     3.0\n",
              "petal_length    4.4\n",
              "petal_width     1.3\n",
              "dtype: float64"
            ]
          },
          "execution_count": 34,
          "metadata": {},
          "output_type": "execute_result"
        }
      ],
      "source": [
        "iris_X.median()"
      ]
    },
    {
      "cell_type": "code",
      "execution_count": null,
      "id": "5c8ddbe3",
      "metadata": {
        "id": "5c8ddbe3",
        "outputId": "e0b6e3c6-a51a-4c79-b46e-c5e8acfc2196"
      },
      "outputs": [
        {
          "data": {
            "text/plain": [
              "SimpleImputer(strategy='median')"
            ]
          },
          "execution_count": 35,
          "metadata": {},
          "output_type": "execute_result"
        }
      ],
      "source": [
        "ir_median = SimpleImputer(strategy = 'median')\n",
        "ir_median.fit(iris_X)"
      ]
    },
    {
      "cell_type": "code",
      "execution_count": null,
      "id": "598a4dd7",
      "metadata": {
        "id": "598a4dd7",
        "outputId": "c22ae5cc-dbb5-45f2-b90d-5bc32bf7eef9"
      },
      "outputs": [
        {
          "data": {
            "text/plain": [
              "array([[5.1, 3.5, 1.4, 0.2],\n",
              "       [5.8, 3. , 4.4, 0.2],\n",
              "       [4.7, 3.2, 1.3, 0.2],\n",
              "       [5.8, 3.1, 1.5, 0.2],\n",
              "       [5.8, 3. , 1.4, 0.2]])"
            ]
          },
          "execution_count": 36,
          "metadata": {},
          "output_type": "execute_result"
        }
      ],
      "source": [
        "iris_median = ir_median.transform(iris_X)\n",
        "iris_median[:5, ]"
      ]
    },
    {
      "cell_type": "markdown",
      "id": "43505aa0",
      "metadata": {
        "id": "43505aa0"
      },
      "source": [
        "#### 3) 최빈값으로 채우기"
      ]
    },
    {
      "cell_type": "code",
      "execution_count": null,
      "id": "7dab335a",
      "metadata": {
        "id": "7dab335a",
        "outputId": "a26fef77-baa0-4b80-9e91-044deee39f04"
      },
      "outputs": [
        {
          "data": {
            "text/html": [
              "<div>\n",
              "<style scoped>\n",
              "    .dataframe tbody tr th:only-of-type {\n",
              "        vertical-align: middle;\n",
              "    }\n",
              "\n",
              "    .dataframe tbody tr th {\n",
              "        vertical-align: top;\n",
              "    }\n",
              "\n",
              "    .dataframe thead th {\n",
              "        text-align: right;\n",
              "    }\n",
              "</style>\n",
              "<table border=\"1\" class=\"dataframe\">\n",
              "  <thead>\n",
              "    <tr style=\"text-align: right;\">\n",
              "      <th></th>\n",
              "      <th>sepal_length</th>\n",
              "      <th>sepal_width</th>\n",
              "      <th>petal_length</th>\n",
              "      <th>petal_width</th>\n",
              "    </tr>\n",
              "  </thead>\n",
              "  <tbody>\n",
              "    <tr>\n",
              "      <th>0</th>\n",
              "      <td>5.7</td>\n",
              "      <td>3.0</td>\n",
              "      <td>1.5</td>\n",
              "      <td>0.2</td>\n",
              "    </tr>\n",
              "    <tr>\n",
              "      <th>1</th>\n",
              "      <td>6.3</td>\n",
              "      <td>NaN</td>\n",
              "      <td>NaN</td>\n",
              "      <td>NaN</td>\n",
              "    </tr>\n",
              "  </tbody>\n",
              "</table>\n",
              "</div>"
            ],
            "text/plain": [
              "   sepal_length  sepal_width  petal_length  petal_width\n",
              "0           5.7          3.0           1.5          0.2\n",
              "1           6.3          NaN           NaN          NaN"
            ]
          },
          "execution_count": 28,
          "metadata": {},
          "output_type": "execute_result"
        }
      ],
      "source": [
        "iris_X.mode()\n",
        "# 최빈값 갯수만큼 출력\n",
        "# sepal_length의 경우는 최빈값이 2개"
      ]
    },
    {
      "cell_type": "code",
      "execution_count": null,
      "id": "45cc8c5c",
      "metadata": {
        "id": "45cc8c5c"
      },
      "outputs": [],
      "source": [
        "ir_mode = SimpleImputer(strategy = 'most_frequent')\n",
        "iris_mode = ir_mode.fit_transform(iris_X)"
      ]
    },
    {
      "cell_type": "code",
      "execution_count": null,
      "id": "127fcfba",
      "metadata": {
        "id": "127fcfba",
        "outputId": "5173d769-700e-498b-b420-5bcf346f0c73"
      },
      "outputs": [
        {
          "data": {
            "text/plain": [
              "array([[5.1, 3.5, 1.4, 0.2],\n",
              "       [5.7, 3. , 1.5, 0.2],\n",
              "       [4.7, 3.2, 1.3, 0.2],\n",
              "       [5.7, 3.1, 1.5, 0.2],\n",
              "       [5.7, 3. , 1.4, 0.2]])"
            ]
          },
          "execution_count": 38,
          "metadata": {},
          "output_type": "execute_result"
        }
      ],
      "source": [
        "iris_mode[:5, ]"
      ]
    },
    {
      "cell_type": "code",
      "execution_count": null,
      "id": "facb5fdb",
      "metadata": {
        "id": "facb5fdb"
      },
      "outputs": [],
      "source": []
    }
  ],
  "metadata": {
    "kernelspec": {
      "display_name": "Python 3 (ipykernel)",
      "language": "python",
      "name": "python3"
    },
    "language_info": {
      "codemirror_mode": {
        "name": "ipython",
        "version": 3
      },
      "file_extension": ".py",
      "mimetype": "text/x-python",
      "name": "python",
      "nbconvert_exporter": "python",
      "pygments_lexer": "ipython3",
      "version": "3.7.13"
    },
    "colab": {
      "provenance": [],
      "include_colab_link": true
    }
  },
  "nbformat": 4,
  "nbformat_minor": 5
}
