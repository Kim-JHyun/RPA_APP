{
  "cells": [
    {
      "cell_type": "markdown",
      "metadata": {
        "id": "view-in-github",
        "colab_type": "text"
      },
      "source": [
        "<a href=\"https://colab.research.google.com/github/Kim-JHyun/RPA_Web/blob/main/%EC%A7%80%EB%8F%84%EC%8B%9C%EA%B0%81%ED%99%94.ipynb\" target=\"_parent\"><img src=\"https://colab.research.google.com/assets/colab-badge.svg\" alt=\"Open In Colab\"/></a>"
      ]
    },
    {
      "cell_type": "code",
      "execution_count": null,
      "id": "176c2ee5",
      "metadata": {
        "id": "176c2ee5",
        "outputId": "674d4322-62f5-4981-e2b1-254d4b4cc4eb"
      },
      "outputs": [
        {
          "name": "stdout",
          "output_type": "stream",
          "text": [
            "Collecting folium\n",
            "  Downloading folium-0.14.0-py2.py3-none-any.whl (102 kB)\n",
            "Requirement already satisfied: jinja2>=2.9 in c:\\users\\sim-koreatech\\anaconda3\\envs\\text\\lib\\site-packages (from folium) (2.11.3)\n",
            "Note: you may need to restart the kernel to use updated packages.\n",
            "Requirement already satisfied: numpy in c:\\users\\sim-koreatech\\anaconda3\\envs\\text\\lib\\site-packages (from folium) (1.21.5)\n",
            "Collecting branca>=0.6.0\n",
            "  Downloading branca-0.6.0-py3-none-any.whl (24 kB)\n",
            "Requirement already satisfied: requests in c:\\users\\sim-koreatech\\anaconda3\\envs\\text\\lib\\site-packages (from folium) (2.27.1)\n",
            "Requirement already satisfied: MarkupSafe>=0.23 in c:\\users\\sim-koreatech\\anaconda3\\envs\\text\\lib\\site-packages (from jinja2>=2.9->folium) (2.0.1)\n",
            "Requirement already satisfied: certifi>=2017.4.17 in c:\\users\\sim-koreatech\\anaconda3\\envs\\text\\lib\\site-packages (from requests->folium) (2021.10.8)\n",
            "Requirement already satisfied: idna<4,>=2.5 in c:\\users\\sim-koreatech\\anaconda3\\envs\\text\\lib\\site-packages (from requests->folium) (3.3)\n",
            "Requirement already satisfied: charset-normalizer~=2.0.0 in c:\\users\\sim-koreatech\\anaconda3\\envs\\text\\lib\\site-packages (from requests->folium) (2.0.4)\n",
            "Requirement already satisfied: urllib3<1.27,>=1.21.1 in c:\\users\\sim-koreatech\\anaconda3\\envs\\text\\lib\\site-packages (from requests->folium) (1.26.9)\n",
            "Installing collected packages: branca, folium\n",
            "Successfully installed branca-0.6.0 folium-0.14.0\n"
          ]
        }
      ],
      "source": [
        "pip install folium"
      ]
    },
    {
      "cell_type": "code",
      "execution_count": null,
      "id": "87b5c872",
      "metadata": {
        "id": "87b5c872"
      },
      "outputs": [],
      "source": [
        "import numpy as np\n",
        "import pandas  as pd\n",
        "\n",
        "import folium\n"
      ]
    },
    {
      "cell_type": "markdown",
      "id": "9d06abc3",
      "metadata": {
        "id": "9d06abc3"
      },
      "source": [
        "### 1. 데이터 불러오기"
      ]
    },
    {
      "cell_type": "code",
      "execution_count": null,
      "id": "9b11b77a",
      "metadata": {
        "id": "9b11b77a"
      },
      "outputs": [],
      "source": [
        "data = pd.read_excel('bike1.xlsx') # 해당 엑셀 파일 불러오기"
      ]
    },
    {
      "cell_type": "code",
      "execution_count": null,
      "id": "6be631c8",
      "metadata": {
        "id": "6be631c8",
        "outputId": "d1ee9782-bf3a-4f02-cf9f-3597e377237a"
      },
      "outputs": [
        {
          "data": {
            "text/html": [
              "<div>\n",
              "<style scoped>\n",
              "    .dataframe tbody tr th:only-of-type {\n",
              "        vertical-align: middle;\n",
              "    }\n",
              "\n",
              "    .dataframe tbody tr th {\n",
              "        vertical-align: top;\n",
              "    }\n",
              "\n",
              "    .dataframe thead th {\n",
              "        text-align: right;\n",
              "    }\n",
              "</style>\n",
              "<table border=\"1\" class=\"dataframe\">\n",
              "  <thead>\n",
              "    <tr style=\"text-align: right;\">\n",
              "      <th></th>\n",
              "      <th>대여소 번호</th>\n",
              "      <th>보관소(대여소)명</th>\n",
              "      <th>자치구</th>\n",
              "      <th>상세주소</th>\n",
              "      <th>위도</th>\n",
              "      <th>경도</th>\n",
              "      <th>설치시기</th>\n",
              "      <th>LCD 거치대수</th>\n",
              "      <th>QR 거치대수</th>\n",
              "      <th>운영방식</th>\n",
              "    </tr>\n",
              "  </thead>\n",
              "  <tbody>\n",
              "    <tr>\n",
              "      <th>0</th>\n",
              "      <td>301</td>\n",
              "      <td>경복궁역 7번출구 앞</td>\n",
              "      <td>종로구</td>\n",
              "      <td>서울특별시 종로구 사직로 지하130 경복궁역 7번출구 앞</td>\n",
              "      <td>37.575794</td>\n",
              "      <td>126.971451</td>\n",
              "      <td>2015-10-07 12:03:46</td>\n",
              "      <td>20.0</td>\n",
              "      <td>NaN</td>\n",
              "      <td>LCD</td>\n",
              "    </tr>\n",
              "    <tr>\n",
              "      <th>1</th>\n",
              "      <td>302</td>\n",
              "      <td>경복궁역 4번출구 뒤</td>\n",
              "      <td>종로구</td>\n",
              "      <td>서울특별시 종로구 사직로 지하130 경복궁역 4번출구 뒤</td>\n",
              "      <td>37.575947</td>\n",
              "      <td>126.974060</td>\n",
              "      <td>2015-10-07 12:04:22</td>\n",
              "      <td>NaN</td>\n",
              "      <td>12.0</td>\n",
              "      <td>QR</td>\n",
              "    </tr>\n",
              "    <tr>\n",
              "      <th>2</th>\n",
              "      <td>303</td>\n",
              "      <td>광화문역 1번출구 앞</td>\n",
              "      <td>종로구</td>\n",
              "      <td>서울특별시 종로구 세종대로 지하189 세종로공원</td>\n",
              "      <td>37.571770</td>\n",
              "      <td>126.974663</td>\n",
              "      <td>2015-10-07 00:00:00</td>\n",
              "      <td>NaN</td>\n",
              "      <td>8.0</td>\n",
              "      <td>QR</td>\n",
              "    </tr>\n",
              "    <tr>\n",
              "      <th>3</th>\n",
              "      <td>305</td>\n",
              "      <td>종로구청 옆</td>\n",
              "      <td>종로구</td>\n",
              "      <td>서울특별시 종로구 세종로 84-1</td>\n",
              "      <td>37.572559</td>\n",
              "      <td>126.978333</td>\n",
              "      <td>2015-01-07 00:00:00</td>\n",
              "      <td>NaN</td>\n",
              "      <td>16.0</td>\n",
              "      <td>QR</td>\n",
              "    </tr>\n",
              "    <tr>\n",
              "      <th>4</th>\n",
              "      <td>307</td>\n",
              "      <td>서울역사박물관 앞</td>\n",
              "      <td>종로구</td>\n",
              "      <td>서울특별시 종로구 새문안로 55 서울역사박물관 앞</td>\n",
              "      <td>37.570000</td>\n",
              "      <td>126.971100</td>\n",
              "      <td>2015-10-07 12:09:09</td>\n",
              "      <td>NaN</td>\n",
              "      <td>11.0</td>\n",
              "      <td>QR</td>\n",
              "    </tr>\n",
              "  </tbody>\n",
              "</table>\n",
              "</div>"
            ],
            "text/plain": [
              "   대여소 번호     보관소(대여소)명  자치구                             상세주소         위도  \\\n",
              "0     301   경복궁역 7번출구 앞  종로구  서울특별시 종로구 사직로 지하130 경복궁역 7번출구 앞  37.575794   \n",
              "1     302   경복궁역 4번출구 뒤  종로구  서울특별시 종로구 사직로 지하130 경복궁역 4번출구 뒤  37.575947   \n",
              "2     303   광화문역 1번출구 앞  종로구       서울특별시 종로구 세종대로 지하189 세종로공원  37.571770   \n",
              "3     305        종로구청 옆  종로구               서울특별시 종로구 세종로 84-1  37.572559   \n",
              "4     307     서울역사박물관 앞  종로구      서울특별시 종로구 새문안로 55 서울역사박물관 앞  37.570000   \n",
              "\n",
              "           경도                설치시기  LCD 거치대수  QR 거치대수 운영방식  \n",
              "0  126.971451 2015-10-07 12:03:46      20.0      NaN  LCD  \n",
              "1  126.974060 2015-10-07 12:04:22       NaN     12.0   QR  \n",
              "2  126.974663 2015-10-07 00:00:00       NaN      8.0   QR  \n",
              "3  126.978333 2015-01-07 00:00:00       NaN     16.0   QR  \n",
              "4  126.971100 2015-10-07 12:09:09       NaN     11.0   QR  "
            ]
          },
          "execution_count": 23,
          "metadata": {},
          "output_type": "execute_result"
        }
      ],
      "source": [
        "data.head()"
      ]
    },
    {
      "cell_type": "code",
      "execution_count": null,
      "id": "6cf4872e",
      "metadata": {
        "id": "6cf4872e"
      },
      "outputs": [],
      "source": [
        "# 파생변수 생성 : 거치대수 = LCD 거치대수 + QR 거치대수\n",
        "# fill_value=0 옵션은 NaN 값을 0으로 대체\n",
        "\n",
        "data['거치대수'] = data['LCD 거치대수'].add(data['QR 거치대수'], fill_value=0)"
      ]
    },
    {
      "cell_type": "code",
      "execution_count": null,
      "id": "521a4b2a",
      "metadata": {
        "id": "521a4b2a",
        "outputId": "d81efcb4-ae03-4af2-d8f7-116ea4a87e30"
      },
      "outputs": [
        {
          "data": {
            "text/html": [
              "<div>\n",
              "<style scoped>\n",
              "    .dataframe tbody tr th:only-of-type {\n",
              "        vertical-align: middle;\n",
              "    }\n",
              "\n",
              "    .dataframe tbody tr th {\n",
              "        vertical-align: top;\n",
              "    }\n",
              "\n",
              "    .dataframe thead th {\n",
              "        text-align: right;\n",
              "    }\n",
              "</style>\n",
              "<table border=\"1\" class=\"dataframe\">\n",
              "  <thead>\n",
              "    <tr style=\"text-align: right;\">\n",
              "      <th></th>\n",
              "      <th>대여소 번호</th>\n",
              "      <th>보관소(대여소)명</th>\n",
              "      <th>자치구</th>\n",
              "      <th>상세주소</th>\n",
              "      <th>위도</th>\n",
              "      <th>경도</th>\n",
              "      <th>설치시기</th>\n",
              "      <th>LCD 거치대수</th>\n",
              "      <th>QR 거치대수</th>\n",
              "      <th>운영방식</th>\n",
              "      <th>거치대수</th>\n",
              "    </tr>\n",
              "  </thead>\n",
              "  <tbody>\n",
              "    <tr>\n",
              "      <th>0</th>\n",
              "      <td>301</td>\n",
              "      <td>경복궁역 7번출구 앞</td>\n",
              "      <td>종로구</td>\n",
              "      <td>서울특별시 종로구 사직로 지하130 경복궁역 7번출구 앞</td>\n",
              "      <td>37.575794</td>\n",
              "      <td>126.971451</td>\n",
              "      <td>2015-10-07 12:03:46</td>\n",
              "      <td>20.0</td>\n",
              "      <td>NaN</td>\n",
              "      <td>LCD</td>\n",
              "      <td>20.0</td>\n",
              "    </tr>\n",
              "    <tr>\n",
              "      <th>1</th>\n",
              "      <td>302</td>\n",
              "      <td>경복궁역 4번출구 뒤</td>\n",
              "      <td>종로구</td>\n",
              "      <td>서울특별시 종로구 사직로 지하130 경복궁역 4번출구 뒤</td>\n",
              "      <td>37.575947</td>\n",
              "      <td>126.974060</td>\n",
              "      <td>2015-10-07 12:04:22</td>\n",
              "      <td>NaN</td>\n",
              "      <td>12.0</td>\n",
              "      <td>QR</td>\n",
              "      <td>12.0</td>\n",
              "    </tr>\n",
              "    <tr>\n",
              "      <th>2</th>\n",
              "      <td>303</td>\n",
              "      <td>광화문역 1번출구 앞</td>\n",
              "      <td>종로구</td>\n",
              "      <td>서울특별시 종로구 세종대로 지하189 세종로공원</td>\n",
              "      <td>37.571770</td>\n",
              "      <td>126.974663</td>\n",
              "      <td>2015-10-07 00:00:00</td>\n",
              "      <td>NaN</td>\n",
              "      <td>8.0</td>\n",
              "      <td>QR</td>\n",
              "      <td>8.0</td>\n",
              "    </tr>\n",
              "    <tr>\n",
              "      <th>3</th>\n",
              "      <td>305</td>\n",
              "      <td>종로구청 옆</td>\n",
              "      <td>종로구</td>\n",
              "      <td>서울특별시 종로구 세종로 84-1</td>\n",
              "      <td>37.572559</td>\n",
              "      <td>126.978333</td>\n",
              "      <td>2015-01-07 00:00:00</td>\n",
              "      <td>NaN</td>\n",
              "      <td>16.0</td>\n",
              "      <td>QR</td>\n",
              "      <td>16.0</td>\n",
              "    </tr>\n",
              "    <tr>\n",
              "      <th>4</th>\n",
              "      <td>307</td>\n",
              "      <td>서울역사박물관 앞</td>\n",
              "      <td>종로구</td>\n",
              "      <td>서울특별시 종로구 새문안로 55 서울역사박물관 앞</td>\n",
              "      <td>37.570000</td>\n",
              "      <td>126.971100</td>\n",
              "      <td>2015-10-07 12:09:09</td>\n",
              "      <td>NaN</td>\n",
              "      <td>11.0</td>\n",
              "      <td>QR</td>\n",
              "      <td>11.0</td>\n",
              "    </tr>\n",
              "  </tbody>\n",
              "</table>\n",
              "</div>"
            ],
            "text/plain": [
              "   대여소 번호     보관소(대여소)명  자치구                             상세주소         위도  \\\n",
              "0     301   경복궁역 7번출구 앞  종로구  서울특별시 종로구 사직로 지하130 경복궁역 7번출구 앞  37.575794   \n",
              "1     302   경복궁역 4번출구 뒤  종로구  서울특별시 종로구 사직로 지하130 경복궁역 4번출구 뒤  37.575947   \n",
              "2     303   광화문역 1번출구 앞  종로구       서울특별시 종로구 세종대로 지하189 세종로공원  37.571770   \n",
              "3     305        종로구청 옆  종로구               서울특별시 종로구 세종로 84-1  37.572559   \n",
              "4     307     서울역사박물관 앞  종로구      서울특별시 종로구 새문안로 55 서울역사박물관 앞  37.570000   \n",
              "\n",
              "           경도                설치시기  LCD 거치대수  QR 거치대수 운영방식  거치대수  \n",
              "0  126.971451 2015-10-07 12:03:46      20.0      NaN  LCD  20.0  \n",
              "1  126.974060 2015-10-07 12:04:22       NaN     12.0   QR  12.0  \n",
              "2  126.974663 2015-10-07 00:00:00       NaN      8.0   QR   8.0  \n",
              "3  126.978333 2015-01-07 00:00:00       NaN     16.0   QR  16.0  \n",
              "4  126.971100 2015-10-07 12:09:09       NaN     11.0   QR  11.0  "
            ]
          },
          "execution_count": 27,
          "metadata": {},
          "output_type": "execute_result"
        }
      ],
      "source": [
        "data.head()"
      ]
    },
    {
      "cell_type": "markdown",
      "id": "65645178",
      "metadata": {
        "id": "65645178"
      },
      "source": [
        "### 2. 좌표 데이터만 추출"
      ]
    },
    {
      "cell_type": "code",
      "execution_count": null,
      "id": "710edcef",
      "metadata": {
        "id": "710edcef",
        "outputId": "051bef91-f3e6-49f9-b984-5effa444c158"
      },
      "outputs": [
        {
          "data": {
            "text/html": [
              "<div>\n",
              "<style scoped>\n",
              "    .dataframe tbody tr th:only-of-type {\n",
              "        vertical-align: middle;\n",
              "    }\n",
              "\n",
              "    .dataframe tbody tr th {\n",
              "        vertical-align: top;\n",
              "    }\n",
              "\n",
              "    .dataframe thead th {\n",
              "        text-align: right;\n",
              "    }\n",
              "</style>\n",
              "<table border=\"1\" class=\"dataframe\">\n",
              "  <thead>\n",
              "    <tr style=\"text-align: right;\">\n",
              "      <th></th>\n",
              "      <th>보관소(대여소)명</th>\n",
              "      <th>위도</th>\n",
              "      <th>경도</th>\n",
              "    </tr>\n",
              "  </thead>\n",
              "  <tbody>\n",
              "    <tr>\n",
              "      <th>0</th>\n",
              "      <td>경복궁역 7번출구 앞</td>\n",
              "      <td>37.575794</td>\n",
              "      <td>126.971451</td>\n",
              "    </tr>\n",
              "    <tr>\n",
              "      <th>1</th>\n",
              "      <td>경복궁역 4번출구 뒤</td>\n",
              "      <td>37.575947</td>\n",
              "      <td>126.974060</td>\n",
              "    </tr>\n",
              "    <tr>\n",
              "      <th>2</th>\n",
              "      <td>광화문역 1번출구 앞</td>\n",
              "      <td>37.571770</td>\n",
              "      <td>126.974663</td>\n",
              "    </tr>\n",
              "    <tr>\n",
              "      <th>3</th>\n",
              "      <td>종로구청 옆</td>\n",
              "      <td>37.572559</td>\n",
              "      <td>126.978333</td>\n",
              "    </tr>\n",
              "    <tr>\n",
              "      <th>4</th>\n",
              "      <td>서울역사박물관 앞</td>\n",
              "      <td>37.570000</td>\n",
              "      <td>126.971100</td>\n",
              "    </tr>\n",
              "  </tbody>\n",
              "</table>\n",
              "</div>"
            ],
            "text/plain": [
              "      보관소(대여소)명         위도          경도\n",
              "0   경복궁역 7번출구 앞  37.575794  126.971451\n",
              "1   경복궁역 4번출구 뒤  37.575947  126.974060\n",
              "2   광화문역 1번출구 앞  37.571770  126.974663\n",
              "3        종로구청 옆  37.572559  126.978333\n",
              "4     서울역사박물관 앞  37.570000  126.971100"
            ]
          },
          "execution_count": 34,
          "metadata": {},
          "output_type": "execute_result"
        }
      ],
      "source": [
        "bike=data[['보관소(대여소)명', '위도', '경도']]\n",
        "bike.head()"
      ]
    },
    {
      "cell_type": "markdown",
      "id": "02760d27",
      "metadata": {
        "id": "02760d27"
      },
      "source": [
        "### 3. 서울 지도 만들기"
      ]
    },
    {
      "cell_type": "code",
      "execution_count": null,
      "id": "c78f8110",
      "metadata": {
        "id": "c78f8110"
      },
      "outputs": [],
      "source": [
        "# 서울 지도 만들기\n",
        "seoul_map = folium.Map(location=[37.55,126.98], zoom_start=12)\n",
        "\n",
        "# 지도를 HTML 파일로 저장하기\n",
        "seoul_map.save('seoul_map.html')"
      ]
    },
    {
      "cell_type": "code",
      "execution_count": null,
      "id": "8c1f4727",
      "metadata": {
        "id": "8c1f4727"
      },
      "outputs": [],
      "source": [
        "seoul_map1 = folium.Map(location=[37.55,126.98], tiles='Stamen Terrain',\n",
        "                        zoom_start=12)\n",
        "\n",
        "# 지도를 HTML 파일로 저장하기\n",
        "seoul_map1.save('seoul_map1.html')"
      ]
    },
    {
      "cell_type": "code",
      "execution_count": null,
      "id": "81f7d1b5",
      "metadata": {
        "id": "81f7d1b5"
      },
      "outputs": [],
      "source": [
        "seoul_map2 = folium.Map(location=[37.55,126.98], tiles='Stamen Toner',\n",
        "                        zoom_start=12)\n",
        "\n",
        "# 지도를 HTML 파일로 저장하기\n",
        "seoul_map2.save('seoul_map2.html')"
      ]
    },
    {
      "cell_type": "markdown",
      "id": "e8a497bd",
      "metadata": {
        "id": "e8a497bd"
      },
      "source": [
        "### 4. 따릉이 대여소 Marker 표시"
      ]
    },
    {
      "cell_type": "code",
      "execution_count": null,
      "id": "046e526f",
      "metadata": {
        "id": "046e526f"
      },
      "outputs": [],
      "source": [
        "# 서울 지도 만들기\n",
        "seoul_map3 = folium.Map(location=[37.55,126.98], zoom_start=12)\n",
        "\n",
        "# 따릉이 대여소를 Marker 표시\n",
        "for name, lat, long in zip(bike.index, bike.위도, bike.경도):\n",
        "    folium.Marker([lat, long], popup=name).add_to(seoul_map1)\n",
        "\n",
        "# 지도를 HTML 파일로 저장하기\n",
        "seoul_map1.save('seoul_bike.html')"
      ]
    },
    {
      "cell_type": "markdown",
      "id": "156627a9",
      "metadata": {
        "id": "156627a9"
      },
      "source": [
        "### 5. 강동구만 표시"
      ]
    },
    {
      "cell_type": "code",
      "execution_count": null,
      "id": "80466318",
      "metadata": {
        "id": "80466318"
      },
      "outputs": [],
      "source": [
        "# 강동구만 표시\n",
        "\n",
        "bike_gd = data[['보관소(대여소)명', '위도', '경도']][data['자치구'] == '강동구']"
      ]
    },
    {
      "cell_type": "code",
      "execution_count": null,
      "id": "ac004e80",
      "metadata": {
        "id": "ac004e80",
        "outputId": "ee7d8a4c-76f9-4261-d25c-99b833844679"
      },
      "outputs": [
        {
          "data": {
            "text/html": [
              "<div>\n",
              "<style scoped>\n",
              "    .dataframe tbody tr th:only-of-type {\n",
              "        vertical-align: middle;\n",
              "    }\n",
              "\n",
              "    .dataframe tbody tr th {\n",
              "        vertical-align: top;\n",
              "    }\n",
              "\n",
              "    .dataframe thead th {\n",
              "        text-align: right;\n",
              "    }\n",
              "</style>\n",
              "<table border=\"1\" class=\"dataframe\">\n",
              "  <thead>\n",
              "    <tr style=\"text-align: right;\">\n",
              "      <th></th>\n",
              "      <th>보관소(대여소)명</th>\n",
              "      <th>위도</th>\n",
              "      <th>경도</th>\n",
              "    </tr>\n",
              "  </thead>\n",
              "  <tbody>\n",
              "    <tr>\n",
              "      <th>2598</th>\n",
              "      <td>광진교 남단 사거리(천호공원 방면)</td>\n",
              "      <td>37.541794</td>\n",
              "      <td>127.124748</td>\n",
              "    </tr>\n",
              "    <tr>\n",
              "      <th>2599</th>\n",
              "      <td>해공공원(천호동)</td>\n",
              "      <td>37.545265</td>\n",
              "      <td>127.125938</td>\n",
              "    </tr>\n",
              "    <tr>\n",
              "      <th>2600</th>\n",
              "      <td>해공도서관앞</td>\n",
              "      <td>37.543957</td>\n",
              "      <td>127.125488</td>\n",
              "    </tr>\n",
              "    <tr>\n",
              "      <th>2601</th>\n",
              "      <td>삼성광나루아파트 버스정류장</td>\n",
              "      <td>37.553329</td>\n",
              "      <td>127.128868</td>\n",
              "    </tr>\n",
              "    <tr>\n",
              "      <th>2602</th>\n",
              "      <td>롯데캐슬 115동앞</td>\n",
              "      <td>37.554867</td>\n",
              "      <td>127.142799</td>\n",
              "    </tr>\n",
              "  </tbody>\n",
              "</table>\n",
              "</div>"
            ],
            "text/plain": [
              "                 보관소(대여소)명         위도          경도\n",
              "2598   광진교 남단 사거리(천호공원 방면)  37.541794  127.124748\n",
              "2599             해공공원(천호동)  37.545265  127.125938\n",
              "2600                해공도서관앞  37.543957  127.125488\n",
              "2601        삼성광나루아파트 버스정류장  37.553329  127.128868\n",
              "2602            롯데캐슬 115동앞  37.554867  127.142799"
            ]
          },
          "execution_count": 44,
          "metadata": {},
          "output_type": "execute_result"
        }
      ],
      "source": [
        "bike_gd.head()"
      ]
    },
    {
      "cell_type": "code",
      "execution_count": null,
      "id": "f2f32e67",
      "metadata": {
        "id": "f2f32e67"
      },
      "outputs": [],
      "source": [
        "# 서울 지도 만들기\n",
        "seoul_map2 = folium.Map(location=[37.55,126.98], zoom_start=12)\n",
        "\n",
        "# 따릉이 대여소를 Marker로 표시\n",
        "for name, lat, long in zip(bike_gd.index, bike_gd.위도, bike_gd.경도):\n",
        "    folium.Marker([lat, long], popup=name).add_to(seoul_map2)\n",
        "\n",
        "# 지도를 HTML 파일로 저장하기\n",
        "seoul_map2.save('seoul_bike_gd3.html')"
      ]
    },
    {
      "cell_type": "code",
      "execution_count": null,
      "id": "1617d581",
      "metadata": {
        "id": "1617d581"
      },
      "outputs": [],
      "source": [
        "# 강동구 지도 만들기\n",
        "gangdong_map = folium.Map(location=[37.55,127.15], zoom_start=16)\n",
        "\n",
        "# 따릉이 대여소를 Marker로 표시\n",
        "for name, lat, long in zip(bike_gd.index, bike_gd.위도, bike_gd.경도):\n",
        "    folium.Marker([lat, long], popup=name).add_to(gangdong_map)\n",
        "\n",
        "# 지도를 HTML 파일로 저장하기\n",
        "gangdong_map.save('gangdong_bike.html')"
      ]
    },
    {
      "cell_type": "markdown",
      "id": "045e5887",
      "metadata": {
        "id": "045e5887"
      },
      "source": [
        "### 6. Marker를 원으로 변경하기"
      ]
    },
    {
      "cell_type": "code",
      "execution_count": null,
      "id": "98101e26",
      "metadata": {
        "id": "98101e26"
      },
      "outputs": [],
      "source": [
        "# 강동구 지도 만들기\n",
        "gangdong_map = folium.Map(location=[37.55,127.15], zoom_start=15)\n",
        "\n",
        "# 따릉이 대여소를 Marker로 표시\n",
        "for name, lat, long in zip(bike_gd.index, bike_gd.위도, bike_gd.경도):\n",
        "    folium.CircleMarker([lat, long],\n",
        "                        radius=10,         # 원의 반지름\n",
        "                        color='blue',         # 원의 둘레 색상\n",
        "                        fill=True,\n",
        "                        fill_color='green',    # 원을 채우는 색\n",
        "                        fill_opacity=0.7, # 투명도\n",
        "                        popup=name\n",
        "    ).add_to(gangdong_map)\n",
        "\n",
        "# 지도를 HTML 파일로 저장하기\n",
        "gangdong_map.save('gangdong_bike1.html')"
      ]
    },
    {
      "cell_type": "code",
      "execution_count": null,
      "id": "6b86e979",
      "metadata": {
        "id": "6b86e979"
      },
      "outputs": [],
      "source": []
    }
  ],
  "metadata": {
    "kernelspec": {
      "display_name": "Python 3 (ipykernel)",
      "language": "python",
      "name": "python3"
    },
    "language_info": {
      "codemirror_mode": {
        "name": "ipython",
        "version": 3
      },
      "file_extension": ".py",
      "mimetype": "text/x-python",
      "name": "python",
      "nbconvert_exporter": "python",
      "pygments_lexer": "ipython3",
      "version": "3.7.13"
    },
    "colab": {
      "provenance": [],
      "include_colab_link": true
    }
  },
  "nbformat": 4,
  "nbformat_minor": 5
}