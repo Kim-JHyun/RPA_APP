{
  "nbformat": 4,
  "nbformat_minor": 0,
  "metadata": {
    "colab": {
      "provenance": [],
      "authorship_tag": "ABX9TyPKueYqlg1+AtnGEKMGtrUk",
      "include_colab_link": true
    },
    "kernelspec": {
      "name": "python3",
      "display_name": "Python 3"
    },
    "language_info": {
      "name": "python"
    }
  },
  "cells": [
    {
      "cell_type": "markdown",
      "metadata": {
        "id": "view-in-github",
        "colab_type": "text"
      },
      "source": [
        "<a href=\"https://colab.research.google.com/github/Kim-JHyun/RPA_Web/blob/main/NaverBScode0614.ipynb\" target=\"_parent\"><img src=\"https://colab.research.google.com/assets/colab-badge.svg\" alt=\"Open In Colab\"/></a>"
      ]
    },
    {
      "cell_type": "code",
      "source": [
        "import requests\n",
        "from bs4 import BeautifulSoup\n",
        "import csv\n",
        "\n",
        "# 검색어와 검색 결과 페이지 수\n",
        "search_query = \"파이썬\"\n",
        "num_pages = 3\n",
        "\n",
        "# CSV 파일명\n",
        "csv_filename = \"naver_kin_addresses.csv\"\n",
        "\n",
        "# CSV 파일 열기 및 헤더 쓰기\n",
        "with open(csv_filename, \"w\", encoding=\"utf-8\", newline=\"\") as csvfile:\n",
        "    writer = csv.writer(csvfile)\n",
        "    writer.writerow([\"Title\", \"Address\"])\n",
        "\n",
        "    # 검색 결과 페이지 순회\n",
        "    for page in range(1, num_pages + 1):\n",
        "        url = f\"https://kin.naver.com/search/list.naver?query={search_query}&page={page}\"\n",
        "        response = requests.get(url)\n",
        "        soup = BeautifulSoup(response.text, \"html.parser\")\n",
        "\n",
        "        # 검색 결과 아이템 추출\n",
        "        items = soup.select(\".basic1 li\")\n",
        "\n",
        "        # 아이템 순회하며 주소 정보 추출 및 CSV 파일에 쓰기\n",
        "        for item in items:\n",
        "            title_element = item.select_one(\".tit a\")\n",
        "            address_element = item.select_one(\".txt_block a\")\n",
        "\n",
        "            if title_element and address_element:\n",
        "                title = title_element.text\n",
        "                address = address_element.get(\"href\")\n",
        "                writer.writerow([title, address])\n",
        "\n",
        "print(\"주소 정보가 성공적으로 저장되었습니다.\")\n"
      ],
      "metadata": {
        "colab": {
          "base_uri": "https://localhost:8080/"
        },
        "id": "MDjs3fFmVvHG",
        "outputId": "43fb3ed9-cb9f-4f50-9e19-6d2512a709d0"
      },
      "execution_count": 2,
      "outputs": [
        {
          "output_type": "stream",
          "name": "stdout",
          "text": [
            "주소 정보가 성공적으로 저장되었습니다.\n"
          ]
        }
      ]
    }
  ]
}