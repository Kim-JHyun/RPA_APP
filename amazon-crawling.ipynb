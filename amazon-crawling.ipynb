{
  "cells": [
    {
      "cell_type": "code",
      "execution_count": null,
      "id": "07d21fc6-9f78-480b-8405-f9d4a4f43594",
      "metadata": {
        "id": "07d21fc6-9f78-480b-8405-f9d4a4f43594"
      },
      "outputs": [],
      "source": [
        "import requests\n",
        "from bs4 import BeautifulSoup\n",
        "import pandas as pd\n",
        "from time import sleep\n",
        "import re"
      ]
    },
    {
      "cell_type": "code",
      "execution_count": null,
      "id": "ab0322cc-da80-408b-ab83-a33a39c56784",
      "metadata": {
        "id": "ab0322cc-da80-408b-ab83-a33a39c56784"
      },
      "outputs": [],
      "source": [
        "def cleanText(readData):\n",
        "    text = re.sub('[-=+,#/\\?:^$.@*\\\"※~&%ㆍ!』\\\\‘|\\(\\)\\[\\]\\<\\>`\\'…》]','', readData)\n",
        "    return text"
      ]
    },
    {
      "cell_type": "code",
      "execution_count": null,
      "id": "4d86e1c7-686d-4459-8c9b-7dbc07f3d45d",
      "metadata": {
        "id": "4d86e1c7-686d-4459-8c9b-7dbc07f3d45d"
      },
      "outputs": [],
      "source": [
        "headers = {\n",
        "    'User-Agent': 'Mozilla/5.0 (Windows NT 10.0; Win64; x64; rv:94.0) Gecko/20100101 Firefox/94.0',\n",
        "    'Accept-Language': 'en-US, en;q=0.5'\n",
        "}"
      ]
    },
    {
      "cell_type": "code",
      "execution_count": null,
      "id": "c73f28e3-d492-4288-90e6-b148e0284ca7",
      "metadata": {
        "id": "c73f28e3-d492-4288-90e6-b148e0284ca7"
      },
      "outputs": [],
      "source": [
        "search_query = 'air purifier'.replace(' ', '+') # zep\n",
        "base_url = 'https://www.amazon.com/s?k={0}'.format(search_query)"
      ]
    },
    {
      "cell_type": "code",
      "execution_count": null,
      "id": "9a08f4c3-dab4-42f6-9c52-1ba67790492b",
      "metadata": {
        "id": "9a08f4c3-dab4-42f6-9c52-1ba67790492b"
      },
      "outputs": [],
      "source": [
        "response = requests.get(base_url + '&page={0}', headers=headers)\n",
        "soup = BeautifulSoup(response.content, 'html.parser')"
      ]
    },
    {
      "cell_type": "code",
      "execution_count": null,
      "id": "51093a72-2883-4835-a88d-bdffe47b791b",
      "metadata": {
        "id": "51093a72-2883-4835-a88d-bdffe47b791b"
      },
      "outputs": [],
      "source": [
        "results = soup.find_all('div', {'class': 's-result-item', 'data-component-type': 's-search-result'})"
      ]
    },
    {
      "cell_type": "code",
      "execution_count": null,
      "id": "0387421e-8b2d-4117-bc37-211e0e6e518f",
      "metadata": {
        "id": "0387421e-8b2d-4117-bc37-211e0e6e518f"
      },
      "outputs": [],
      "source": [
        "len(results)"
      ]
    },
    {
      "cell_type": "code",
      "execution_count": null,
      "id": "dc5957a9-5676-46fb-ab03-60bde85ebe90",
      "metadata": {
        "id": "dc5957a9-5676-46fb-ab03-60bde85ebe90"
      },
      "outputs": [],
      "source": [
        "product_name = results[0].h2.text"
      ]
    },
    {
      "cell_type": "code",
      "execution_count": null,
      "id": "3946760a-c0a3-4105-980a-717e6d23f5e3",
      "metadata": {
        "id": "3946760a-c0a3-4105-980a-717e6d23f5e3",
        "outputId": "8bcc54d3-4e95-4681-c41d-aee81129479c"
      },
      "outputs": [
        {
          "data": {
            "text/plain": [
              "'PuroAir HEPA 14 Air Purifier for Allergies - Covers 1,115 Sq Ft - Hospital-Grade Air Filter - Air Purifier for Allergies and Pets - Covers Large Rooms - Filters 99.99% of Pet Dander, Smoke, Allergens, Dust, Odors, Mold  '"
            ]
          },
          "execution_count": 18,
          "metadata": {},
          "output_type": "execute_result"
        }
      ],
      "source": [
        "product_name"
      ]
    },
    {
      "cell_type": "code",
      "execution_count": null,
      "id": "3b788221-dbb7-402a-881d-3671191ba3de",
      "metadata": {
        "id": "3b788221-dbb7-402a-881d-3671191ba3de"
      },
      "outputs": [],
      "source": [
        "rating = results[0].find('i', {'class': 'a-icon'}).text"
      ]
    },
    {
      "cell_type": "code",
      "execution_count": null,
      "id": "13878f12-2437-4207-b8b1-18bfc8dc5c49",
      "metadata": {
        "id": "13878f12-2437-4207-b8b1-18bfc8dc5c49",
        "outputId": "bb2791e1-22e1-4f40-fc22-2c639849877e"
      },
      "outputs": [
        {
          "data": {
            "text/plain": [
              "'4.6 out of 5 stars'"
            ]
          },
          "execution_count": 11,
          "metadata": {},
          "output_type": "execute_result"
        }
      ],
      "source": [
        "rating"
      ]
    },
    {
      "cell_type": "code",
      "execution_count": null,
      "id": "e7b50faa-d025-4dd7-b509-992eb0f1862f",
      "metadata": {
        "id": "e7b50faa-d025-4dd7-b509-992eb0f1862f"
      },
      "outputs": [],
      "source": [
        "price1 = results[0].find('span', {'class': 'a-price-whole'}).text"
      ]
    },
    {
      "cell_type": "code",
      "execution_count": null,
      "id": "74d39abe-7f14-4412-b85e-931e2e68fcb7",
      "metadata": {
        "id": "74d39abe-7f14-4412-b85e-931e2e68fcb7",
        "outputId": "d47632d8-0ec7-4e0c-ea62-98422e41509b"
      },
      "outputs": [
        {
          "data": {
            "text/plain": [
              "'189.'"
            ]
          },
          "execution_count": 16,
          "metadata": {},
          "output_type": "execute_result"
        }
      ],
      "source": [
        "price1"
      ]
    },
    {
      "cell_type": "code",
      "execution_count": null,
      "id": "d908601b-57e4-4f22-80df-f3fad281a874",
      "metadata": {
        "id": "d908601b-57e4-4f22-80df-f3fad281a874"
      },
      "outputs": [],
      "source": []
    }
  ],
  "metadata": {
    "kernelspec": {
      "display_name": "Python 3 (ipykernel)",
      "language": "python",
      "name": "python3"
    },
    "language_info": {
      "codemirror_mode": {
        "name": "ipython",
        "version": 3
      },
      "file_extension": ".py",
      "mimetype": "text/x-python",
      "name": "python",
      "nbconvert_exporter": "python",
      "pygments_lexer": "ipython3",
      "version": "3.10.9"
    },
    "colab": {
      "provenance": []
    }
  },
  "nbformat": 4,
  "nbformat_minor": 5
}